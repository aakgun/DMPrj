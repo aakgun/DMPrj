{
 "cells": [
  {
   "cell_type": "code",
   "execution_count": 2,
   "metadata": {},
   "outputs": [],
   "source": [
    "from keras.layers import Dense, LSTM, Embedding, Flatten\n",
    "from keras.models import Sequential\n",
    "from keras.utils.np_utils import to_categorical\n",
    "from keras.preprocessing.sequence import pad_sequences\n",
    "from keras.preprocessing.text import Tokenizer,text_to_word_sequence\n",
    "from sklearn.model_selection import train_test_split\n",
    "import gzip\n",
    "import pandas as pd\n",
    "\n",
    "VarParameter=\"category_code\"\n",
    "VarParameter2=\"category\"\n",
    "def get_val(numerator,divisor):\n",
    "    return float('nan') if divisor == 0 else np.round(numerator/divisor,3)\n",
    "from collections import defaultdict\n",
    "def analyze_predictions(categories, y_true, y_pred):\n",
    "    tp = defaultdict(int)\n",
    "    tn = defaultdict(int)\n",
    "    fp = defaultdict(int)\n",
    "    fn = defaultdict(int)\n",
    "    precisions = []\n",
    "    recalls = []\n",
    "    f1s = []\n",
    "    cat_counts = defaultdict(int)\n",
    "    for cat in y_true:\n",
    "        cat_counts[cat] += 1\n",
    "    correct = 0\n",
    "    conf_mat = defaultdict(dict)\n",
    "    for cat1 in categories:\n",
    "        for cat2 in categories:\n",
    "            conf_mat[cat1][cat2] = 0\n",
    "    for y, y_hat in zip(y_true, y_pred):\n",
    "        conf_mat[y][y_hat] += 1\n",
    "        if y == y_hat:\n",
    "            correct += 1\n",
    "            tp[y] += 1\n",
    "        else:\n",
    "            fp[y_hat] += 1\n",
    "            fn[y] += 1\n",
    "    print('Overall Accuracy:', round(correct / len(y_pred), 3))\n",
    "    for cat in categories:\n",
    "        precision = get_val(tp[cat], tp[cat] + fp[cat])\n",
    "        recall = get_val(tp[cat], (tp[cat] + fn[cat]))\n",
    "        f1 = get_val(2 * precision * recall, precision + recall)\n",
    "        precisions.append(precision)\n",
    "        recalls.append(recall)\n",
    "        f1s.append(f1)\n",
    "        print('{} --> Precision:{},Recall:{},F1:{}'.format(cat, precision, recall, f1))\n",
    "    print('\\nAverages---> Precision:{}, Recall:{}, F1:{}'.format(np.round(np.nanmean(precisions), 3),\n",
    "                                                                 np.round(np.nanmean(recalls), 3),\n",
    "                                                                 np.round(np.nanmean(f1s), 3))\n",
    "          )\n",
    "\n",
    "    print('\\nConfusion Matrix')\n",
    "    for cat1 in categories:\n",
    "        print('\\n' + str(cat1) + '({}) --> '.format(cat_counts[cat1]), end='')\n",
    "        for cat2 in categories:\n",
    "            print('{}({})'.format(cat2, conf_mat[cat1][cat2]), end=' , ')\n",
    "    print('')\n",
    "\n",
    "\n",
    "def one_hot_to_category(cat_one_hot_list,cat_master):\n",
    "    return [cat_master[cat_one_hot.argmax()] for cat_one_hot in cat_one_hot_list]\n",
    "\n",
    "# From Deep Learning with Python book\n",
    "def make_history_plot(history):\n",
    "    acc = history.history['acc']\n",
    "    val_acc = history.history['val_acc']\n",
    "    loss = history.history['loss']\n",
    "    val_loss = history.history['val_loss']\n",
    "\n",
    "    epochs = range(1, len(acc) + 1)\n",
    "\n",
    "    plt.plot(epochs, acc, 'bo', label='Training acc')\n",
    "    plt.plot(epochs, val_acc, 'b', color='green',label='Validation acc')\n",
    "    plt.title('Training and validation accuracy')\n",
    "    plt.legend()\n",
    "\n",
    "    plt.figure()\n",
    "\n",
    "    plt.plot(epochs, loss, 'bo', label='Training loss')\n",
    "    plt.plot(epochs, val_loss, 'b', color='green',label='Validation loss')\n",
    "    plt.title('Training and validation loss')\n",
    "    plt.legend()\n",
    "    plt.show()\n",
    "# Build the keras model\n",
    "def build_model(embedding_matrix,categories):\n",
    "    model = Sequential()\n",
    "    model.add(Embedding(embedding_matrix.shape[0], embedding_size, weights=[embedding_matrix],input_length=maxlen,trainable=False))\n",
    "    model.add(LSTM(32))\n",
    "#   We don't lose much by replacing LSTM with this flatten layer (as we have short sequences)\n",
    "#   model.add(Flatten())\n",
    "    model.add(Dense(32, activation='relu'))\n",
    "    model.add(Dense(len(categories), activation='sigmoid'))\n",
    "    model.compile(optimizer='rmsprop',\n",
    "              loss='categorical_crossentropy',\n",
    "              metrics=['acc'])\n",
    "    return model\n",
    "\n",
    "def build_model2(embedding_matrix,categories):\n",
    "    model = Sequential()\n",
    "    model.add(Embedding(embedding_matrix.shape[0], embedding_size, weights=[embedding_matrix],input_length=maxlen,trainable=False))\n",
    "    model.add(LSTM(32))\n",
    "#   We don't lose much by replacing LSTM with this flatten layer (as we have short sequences)\n",
    "#   model.add(Flatten())\n",
    "    model.add(Dense(32, activation='relu'))\n",
    "    model.add(Dense(len(categories), activation='sigmoid'))\n",
    "    model.compile(optimizer='rmsprop',\n",
    "              loss='sparse_categorical_crossentropy',\n",
    "              metrics=['acc'])\n",
    "    return model\n",
    "\n",
    "def get_embedding(word,word_index,embeddings):\n",
    "    if word in word_index:\n",
    "        return embeddings[word_index[word]].reshape(((embedding_size,1)))\n",
    "    else:\n",
    "        return np.zeros((embedding_size,1))\n",
    "# Get the embedding weights for the model\n",
    "def get_embedding_matrix_for_model(embeddings,word_index):\n",
    "    train_val_words = min(vocab_size, len(word_index)) +1\n",
    "    embedding_matrix = np.zeros((train_val_words, embedding_size))\n",
    "    for word, i in word_index.items():\n",
    "        embedding_vector = get_embedding(word,word_index,embeddings).flatten()\n",
    "        if embedding_vector is not None:\n",
    "            embedding_matrix[i] = embedding_vector\n",
    "    return embedding_matrix\n",
    "# Common methods to read data and get embeddings\n",
    "def read_data():\n",
    "    df_train = train\n",
    "    df_val = test\n",
    "    categories = list(set(df_train.categories.values))\n",
    "    return df_train,df_val,categories\n",
    "\n",
    "def read_data2():\n",
    "    df_train = train\n",
    "    df_val = test\n",
    "    #categories = list(set(df_train.categories.values))\n",
    "    categories = list(set(dfdrugbank2[VarParameter].values))\n",
    "    #categories = list(set(df.cat2id.values))\n",
    "    return df_train,df_val,categories\n",
    "\n",
    "def load_embeddings():\n",
    "    word_index = {}\n",
    "    embeddings = np.zeros((vocab_size,embedding_size))\n",
    "    with gzip.open(embeddings_path) as file:\n",
    "        for i,line in enumerate(file):\n",
    "            line_tokens = line.split()\n",
    "            word = line_tokens[0].decode('utf8')\n",
    "            embeddings[i] = np.asarray(line_tokens[1:],dtype='float32')\n",
    "            word_index[word] = i\n",
    "    return embeddings,word_index\n",
    "\n",
    "def prepare_data_from_full_word_index(df_train,df_val,categories,word_index):\n",
    "    train_text = df_train['description'].tolist()\n",
    "    val_text = df_val['description'].tolist()\n",
    "    x_train = get_pad_sequences(train_text,word_index)\n",
    "    x_val = get_pad_sequences(val_text,word_index)\n",
    "    y_train = category_to_one_hot(df_train['categories'].values,categories)\n",
    "    y_val = category_to_one_hot(df_val['categories'].values,categories)\n",
    "    return word_index,x_train,y_train,x_val,y_val\n",
    "\n",
    "#df_train,df_val,categories = read_data2()\n",
    "#Load Glove 50-d embeddings\n",
    "#embeddings,word_index = load_embeddings()\n",
    "#tk_word_index,x_train,y_train,x_val,y_val = prepare_data_from_full_word_index2(df_train,df_val,categories,word_index)\n",
    "\n",
    "def prepare_data_from_full_word_index2(df_train,df_val,categories,word_index):\n",
    "    train_text = df_train['description'].tolist()\n",
    "    val_text = df_val['description'].tolist()\n",
    "    x_train = get_pad_sequences(train_text,word_index)\n",
    "    x_val = get_pad_sequences(val_text,word_index)\n",
    "    y_train = category_to_one_hot(df_train[VarParameter].values,categories)\n",
    "    #y_train = df_train['cat2id']\n",
    "    #y_val = df_val['cat2id']\n",
    "    y_val = category_to_one_hot(df_val[VarParameter].values,categories)\n",
    "\n",
    "    #data = pad_sequences(sequences, maxlen=MAX_SEQUENCE_LENGTH)\n",
    "    #labels = to_categorical(np.asarray(labels))\n",
    "    print('Shape of data tensor:', x_train.shape)\n",
    "    print('Shape of label tensor:', y_train.shape)    \n",
    "    \n",
    "    return word_index,x_train,y_train,x_val,y_val\n",
    "\n",
    "\n",
    "# Convert the list of categories to one_hot vector\n",
    "def category_to_one_hot(cat_list,cat_master):\n",
    "    cat_dict = {}\n",
    "    for i,cat in enumerate(cat_master):\n",
    "        cat_dict[cat] = i\n",
    "    cat_integers = [cat_dict[cat] for cat in cat_list]\n",
    "    return to_categorical(cat_integers,num_classes=len(cat_master))\n",
    "\n",
    "\n",
    "def get_pad_sequences(text_list,word_index):\n",
    "    seqs = []\n",
    "    for text in text_list:\n",
    "        word_seq = text_to_word_sequence(text.lower())\n",
    "        seq = []\n",
    "        for word in word_seq:\n",
    "          if word in word_index:\n",
    "            seq.append(word_index[word])\n",
    "        seqs.append(seq)\n",
    "    return pad_sequences(seqs,maxlen)\n",
    "\n",
    "def category_to_id(cat_desc):\n",
    "    catidx=None\n",
    "    for id,val in enumerate(cat_desc):\n",
    "#        print(id,val)\n",
    "        catidx=catlist2.index(val)\n",
    "#        print(catidx)\n",
    "    return (catidx)\n",
    "\n"
   ]
  },
  {
   "cell_type": "code",
   "execution_count": 3,
   "metadata": {
    "pycharm": {
     "name": "#%%\n"
    }
   },
   "outputs": [],
   "source": [
    "import time\n",
    "import sys,os\n",
    "import os\n",
    "Homedir = os.getcwd()\n",
    "\n",
    "\n",
    "dfdrugbank=pd.read_csv(\"C:/git/DMPrj/data/drugbank.tsv\",delimiter=\"\\t\")\n",
    "dfprotein=pd.read_csv(\"C:/git/DMPrj/data/proteins.tsv\",delimiter=\"\\t\")\n",
    "dfdrugbank['DrugBank_id']=dfdrugbank['drugbank_id']\n",
    "dfprotein['DrugBank_id']=dfprotein['drugbank_id']\n",
    "dfnodes=pd.read_csv(\"C:/git/DMPrj/data/DrugBank_DDI/node_list.txt\",delimiter=\"\t\")\n",
    "dfnodes['ID']=dfnodes.index\n",
    "dfdrugbank2=dfdrugbank.merge(dfnodes,how=\"left\",on=\"DrugBank_id\")\n",
    "dfdrugbank2=dfdrugbank.merge(dfprotein,how=\"left\",on=\"DrugBank_id\")\n",
    "dfdrugbank2.dropna(inplace=True)\n",
    "\n",
    "#dfdrugbank2 = dfdrugbank2[dfdrugbank2['organism']!='Human']\n",
    "from sklearn.preprocessing import LabelEncoder\n",
    "lb_make = LabelEncoder()\n",
    "dfdrugbank2[\"category_code\"] = lb_make.fit_transform(dfdrugbank2[\"category\"])\n",
    "dfdrugbank2[\"actions_code\"] = lb_make.fit_transform(dfdrugbank2[\"actions\"])\n",
    "dfdrugbank2[\"organism_code\"] = lb_make.fit_transform(dfdrugbank2[\"organism\"])\n",
    "dfdrugbank2[\"groups_code\"] = lb_make.fit_transform(dfdrugbank2[\"groups\"])\n",
    "dfdrugbank2[\"type_code\"] = lb_make.fit_transform(dfdrugbank2[\"type\"])\n",
    "\n",
    "\n",
    "\n",
    "df = dfdrugbank2[pd.notnull(dfdrugbank2['description'])]\n",
    "df = df[pd.notnull(df['description'])]\n",
    "train, test  = train_test_split( df, test_size=0.20, random_state=10)\n"
   ]
  },
  {
   "cell_type": "code",
   "execution_count": 7,
   "metadata": {
    "pycharm": {
     "name": "#%%\n"
    }
   },
   "outputs": [
    {
     "name": "stdout",
     "output_type": "stream",
     "text": [
      "Shape of data tensor: (5696, 1000)\n",
      "Shape of label tensor: (5696, 4)\n"
     ]
    }
   ],
   "source": [
    "vocab_size = 400000\n",
    "embedding_size = 50\n",
    "maxlen = 1000\n",
    "embeddings_path = 'C:/git/DMPrj/embeddings/glove.6B.50d.txt.gz'\n",
    "import numpy as np\n",
    "\n",
    "df_train,df_val,categories = read_data2()\n",
    "#Load Glove 50-d embeddings\n",
    "embeddings,word_index = load_embeddings()\n",
    "tk_word_index,x_train,y_train,x_val,y_val = prepare_data_from_full_word_index2(df_train,df_val,categories,word_index)\n",
    "\n",
    "# Get the embedding matrix for the model, build model, display model summary\n",
    "embedding_matrix = get_embedding_matrix_for_model(embeddings,word_index)\n",
    "model = build_model(embedding_matrix,categories)"
   ]
  },
  {
   "cell_type": "code",
   "execution_count": 8,
   "metadata": {
    "pycharm": {
     "is_executing": true,
     "name": "#%%\n"
    }
   },
   "outputs": [
    {
     "name": "stdout",
     "output_type": "stream",
     "text": [
      "Train on 5696 samples, validate on 1425 samples\n",
      "Epoch 1/50\n",
      "5696/5696 [==============================] - 107s 19ms/step - loss: 1.0376 - acc: 0.4944 - val_loss: 1.0059 - val_acc: 0.4996\n",
      "Epoch 2/50\n",
      "5696/5696 [==============================] - 113s 20ms/step - loss: 0.9814 - acc: 0.5223 - val_loss: 0.9894 - val_acc: 0.5137\n",
      "Epoch 3/50\n",
      "5696/5696 [==============================] - 112s 20ms/step - loss: 0.9502 - acc: 0.5418 - val_loss: 0.9703 - val_acc: 0.5418\n",
      "Epoch 4/50\n",
      "5696/5696 [==============================] - 121s 21ms/step - loss: 0.9216 - acc: 0.5648 - val_loss: 0.9492 - val_acc: 0.5572\n",
      "Epoch 5/50\n",
      "5696/5696 [==============================] - 118s 21ms/step - loss: 0.8944 - acc: 0.5846 - val_loss: 0.9385 - val_acc: 0.5600\n",
      "Epoch 6/50\n",
      "5696/5696 [==============================] - 111s 19ms/step - loss: 0.8718 - acc: 0.6001 - val_loss: 0.9415 - val_acc: 0.5677\n",
      "Epoch 7/50\n",
      "5696/5696 [==============================] - 118s 21ms/step - loss: 0.8531 - acc: 0.6155 - val_loss: 0.9453 - val_acc: 0.5761\n",
      "Epoch 8/50\n",
      "5696/5696 [==============================] - 114s 20ms/step - loss: 0.8367 - acc: 0.6254 - val_loss: 0.9486 - val_acc: 0.5860\n",
      "Epoch 9/50\n",
      "5696/5696 [==============================] - 107s 19ms/step - loss: 0.8218 - acc: 0.6310 - val_loss: 0.9507 - val_acc: 0.5881\n",
      "Epoch 10/50\n",
      "5696/5696 [==============================] - 103s 18ms/step - loss: 0.8091 - acc: 0.6401 - val_loss: 0.9500 - val_acc: 0.5825\n",
      "Epoch 11/50\n",
      "5696/5696 [==============================] - 103s 18ms/step - loss: 0.7961 - acc: 0.6462 - val_loss: 0.9513 - val_acc: 0.5804\n",
      "Epoch 12/50\n",
      "5696/5696 [==============================] - 103s 18ms/step - loss: 0.7854 - acc: 0.6522 - val_loss: 0.9569 - val_acc: 0.5860\n",
      "Epoch 13/50\n",
      "5696/5696 [==============================] - 105s 18ms/step - loss: 0.7776 - acc: 0.6526 - val_loss: 0.9619 - val_acc: 0.5874\n",
      "Epoch 14/50\n",
      "5696/5696 [==============================] - 110s 19ms/step - loss: 0.7691 - acc: 0.6534 - val_loss: 0.9689 - val_acc: 0.5895\n",
      "Epoch 15/50\n",
      "5696/5696 [==============================] - 104s 18ms/step - loss: 0.7610 - acc: 0.6599 - val_loss: 0.9759 - val_acc: 0.5944\n",
      "Epoch 16/50\n",
      "5696/5696 [==============================] - 105s 18ms/step - loss: 0.7511 - acc: 0.6647 - val_loss: 0.9854 - val_acc: 0.5951\n",
      "Epoch 17/50\n",
      "5696/5696 [==============================] - 111s 20ms/step - loss: 0.7432 - acc: 0.6678 - val_loss: 0.9989 - val_acc: 0.5909\n",
      "Epoch 18/50\n",
      "5696/5696 [==============================] - 111s 19ms/step - loss: 0.7367 - acc: 0.6696 - val_loss: 1.0041 - val_acc: 0.5881\n",
      "Epoch 19/50\n",
      "5696/5696 [==============================] - 116s 20ms/step - loss: 0.7283 - acc: 0.6768 - val_loss: 1.0083 - val_acc: 0.5860\n",
      "Epoch 20/50\n",
      "5696/5696 [==============================] - 110s 19ms/step - loss: 0.7213 - acc: 0.6796 - val_loss: 1.0177 - val_acc: 0.5818\n",
      "Epoch 21/50\n",
      "5696/5696 [==============================] - 115s 20ms/step - loss: 0.7149 - acc: 0.6794 - val_loss: 1.0300 - val_acc: 0.5782\n",
      "Epoch 22/50\n",
      "5696/5696 [==============================] - 110s 19ms/step - loss: 0.7117 - acc: 0.6805 - val_loss: 1.0345 - val_acc: 0.5768\n",
      "Epoch 23/50\n",
      "5696/5696 [==============================] - 120s 21ms/step - loss: 0.7068 - acc: 0.6840 - val_loss: 1.0222 - val_acc: 0.5825\n",
      "Epoch 24/50\n",
      "5696/5696 [==============================] - 112s 20ms/step - loss: 0.7011 - acc: 0.6824 - val_loss: 1.0334 - val_acc: 0.5789\n",
      "Epoch 25/50\n",
      "5696/5696 [==============================] - 118s 21ms/step - loss: 0.6983 - acc: 0.6871 - val_loss: 1.0330 - val_acc: 0.5811\n",
      "Epoch 26/50\n",
      "5696/5696 [==============================] - 116s 20ms/step - loss: 0.6937 - acc: 0.6907 - val_loss: 1.0411 - val_acc: 0.5867\n",
      "Epoch 27/50\n",
      "5696/5696 [==============================] - 122s 21ms/step - loss: 0.6866 - acc: 0.6898 - val_loss: 1.0398 - val_acc: 0.5832\n",
      "Epoch 28/50\n",
      "5696/5696 [==============================] - 112s 20ms/step - loss: 0.6808 - acc: 0.6968 - val_loss: 1.0392 - val_acc: 0.5853\n",
      "Epoch 29/50\n",
      "5696/5696 [==============================] - 111s 19ms/step - loss: 0.6803 - acc: 0.6929 - val_loss: 1.0565 - val_acc: 0.5895\n",
      "Epoch 30/50\n",
      "5696/5696 [==============================] - 112s 20ms/step - loss: 0.6717 - acc: 0.6966 - val_loss: 1.0529 - val_acc: 0.5811\n",
      "Epoch 31/50\n",
      "5696/5696 [==============================] - 112s 20ms/step - loss: 0.6655 - acc: 0.6987 - val_loss: 1.0601 - val_acc: 0.5846\n",
      "Epoch 32/50\n",
      "5696/5696 [==============================] - 110s 19ms/step - loss: 0.6619 - acc: 0.6996 - val_loss: 1.0768 - val_acc: 0.5832\n",
      "Epoch 33/50\n",
      "5696/5696 [==============================] - 112s 20ms/step - loss: 0.6616 - acc: 0.6998 - val_loss: 1.0773 - val_acc: 0.5818\n",
      "Epoch 34/50\n",
      "5696/5696 [==============================] - 110s 19ms/step - loss: 0.6570 - acc: 0.7028 - val_loss: 1.0830 - val_acc: 0.5853\n",
      "Epoch 35/50\n",
      "5696/5696 [==============================] - 109s 19ms/step - loss: 0.6568 - acc: 0.7047 - val_loss: 1.0819 - val_acc: 0.5832\n",
      "Epoch 36/50\n",
      "5696/5696 [==============================] - 109s 19ms/step - loss: 0.6539 - acc: 0.7058 - val_loss: 1.0858 - val_acc: 0.5909\n",
      "Epoch 37/50\n",
      "5696/5696 [==============================] - 109s 19ms/step - loss: 0.6473 - acc: 0.7080 - val_loss: 1.0927 - val_acc: 0.5965\n",
      "Epoch 38/50\n",
      "5696/5696 [==============================] - 109s 19ms/step - loss: 0.6440 - acc: 0.7079 - val_loss: 1.1042 - val_acc: 0.5937\n",
      "Epoch 39/50\n",
      "5696/5696 [==============================] - 111s 19ms/step - loss: 0.6426 - acc: 0.7094 - val_loss: 1.0782 - val_acc: 0.5979\n",
      "Epoch 40/50\n",
      "5696/5696 [==============================] - 109s 19ms/step - loss: 0.6333 - acc: 0.7124 - val_loss: 1.1294 - val_acc: 0.5902\n",
      "Epoch 41/50\n",
      "5696/5696 [==============================] - 111s 19ms/step - loss: 0.6287 - acc: 0.7145 - val_loss: 1.1001 - val_acc: 0.5888\n",
      "Epoch 42/50\n",
      "5696/5696 [==============================] - 113s 20ms/step - loss: 0.6336 - acc: 0.7093 - val_loss: 1.0934 - val_acc: 0.5930\n",
      "Epoch 43/50\n",
      "5696/5696 [==============================] - 112s 20ms/step - loss: 0.6275 - acc: 0.7142 - val_loss: 1.1210 - val_acc: 0.5895\n",
      "Epoch 44/50\n",
      "5696/5696 [==============================] - 111s 20ms/step - loss: 0.6358 - acc: 0.7158 - val_loss: 1.0888 - val_acc: 0.5775\n",
      "Epoch 45/50\n",
      "5696/5696 [==============================] - 111s 19ms/step - loss: 0.6421 - acc: 0.7086 - val_loss: 1.1029 - val_acc: 0.5944\n",
      "Epoch 46/50\n",
      "5696/5696 [==============================] - 110s 19ms/step - loss: 0.6237 - acc: 0.7158 - val_loss: 1.1015 - val_acc: 0.5902\n",
      "Epoch 47/50\n",
      "5696/5696 [==============================] - 107s 19ms/step - loss: 0.6218 - acc: 0.7188 - val_loss: 1.1251 - val_acc: 0.5937\n",
      "Epoch 48/50\n",
      "5696/5696 [==============================] - 108s 19ms/step - loss: 0.6190 - acc: 0.7152 - val_loss: 1.1221 - val_acc: 0.5972\n",
      "Epoch 49/50\n",
      "5696/5696 [==============================] - 107s 19ms/step - loss: 0.6150 - acc: 0.7226 - val_loss: 1.1203 - val_acc: 0.5867\n",
      "Epoch 50/50\n",
      "5696/5696 [==============================] - 108s 19ms/step - loss: 0.6172 - acc: 0.7175 - val_loss: 1.1526 - val_acc: 0.5839\n"
     ]
    },
    {
     "data": {
      "image/png": "[encoded data removed]",
      "text/plain": [
       "<Figure size 432x288 with 1 Axes>"
      ]
     },
     "metadata": {
      "needs_background": "light"
     },
     "output_type": "display_data"
    },
    {
     "data": {
      "image/png": "[encoded data removed]",
      "text/plain": [
       "<Figure size 432x288 with 1 Axes>"
      ]
     },
     "metadata": {
      "needs_background": "light"
     },
     "output_type": "display_data"
    }
   ],
   "source": [
    "# Train the model, record history\n",
    "history = model.fit(x_train, y_train,\n",
    "                    epochs=50,\n",
    "                    batch_size=24,\n",
    "                    shuffle=False,\n",
    "                    validation_data=(x_val, y_val))\n",
    "\n",
    "\n",
    "import matplotlib.pyplot as plt\n",
    "make_history_plot(history)\n"
   ]
  },
  {
   "cell_type": "code",
   "execution_count": 11,
   "metadata": {
    "pycharm": {
     "name": "#%%\n"
    }
   },
   "outputs": [
    {
     "name": "stdout",
     "output_type": "stream",
     "text": [
      "Overall Accuracy: 0.665\n",
      "0 --> Precision:nan,Recall:0.0,F1:nan\n",
      "1 --> Precision:0.585,Recall:0.644,F1:0.613\n",
      "2 --> Precision:0.731,Recall:0.792,F1:0.76\n",
      "3 --> Precision:0.604,Recall:0.348,F1:0.442\n",
      "\n",
      "Averages---> Precision:0.64, Recall:0.446, F1:0.605\n",
      "\n",
      "Confusion Matrix\n",
      "\n",
      "0(28) --> 0(0) , 1(8) , 2(16) , 3(4) , \n",
      "1(1895) --> 0(0) , 1(1220) , 2(584) , 3(91) , \n",
      "2(2827) --> 0(0) , 1(466) , 2(2240) , 3(121) , \n",
      "3(946) --> 0(0) , 1(393) , 2(224) , 3(329) , \n"
     ]
    }
   ],
   "source": [
    "# Make and analyze training predictions\n",
    "train_predictions = one_hot_to_category(model.predict(x_train),categories)\n",
    "analyze_predictions(categories,df_train[VarParameter].values,train_predictions)\n",
    "\n"
   ]
  },
  {
   "cell_type": "code",
   "execution_count": 10,
   "metadata": {
    "pycharm": {
     "name": "#%%\n"
    }
   },
   "outputs": [
    {
     "name": "stdout",
     "output_type": "stream",
     "text": [
      "Overall Accuracy: 0.584\n",
      "0 --> Precision:nan,Recall:0.0,F1:nan\n",
      "1 --> Precision:0.511,Recall:0.581,F1:0.544\n",
      "2 --> Precision:0.658,Recall:0.701,F1:0.679\n",
      "3 --> Precision:0.476,Recall:0.254,F1:0.331\n",
      "\n",
      "Averages---> Precision:0.548, Recall:0.384, F1:0.518\n",
      "\n",
      "Confusion Matrix\n",
      "\n",
      "0(4) --> 0(0) , 1(0) , 2(3) , 3(1) , \n",
      "1(501) --> 0(0) , 1(291) , 2(174) , 3(36) , \n",
      "2(688) --> 0(0) , 1(178) , 2(482) , 3(28) , \n",
      "3(232) --> 0(0) , 1(100) , 2(73) , 3(59) , \n"
     ]
    }
   ],
   "source": [
    "# Make and analyze validation predictions\n",
    "val_predictions = one_hot_to_category(model.predict(x_val),categories)\n",
    "analyze_predictions(categories,df_val[VarParameter].values,val_predictions)"
   ]
  },
  {
   "cell_type": "code",
   "execution_count": 12,
   "metadata": {
    "pycharm": {
     "name": "#%%\n"
    }
   },
   "outputs": [
    {
     "data": {
      "text/plain": [
       "array([[   0,    8,   16,    4],\n",
       "       [   0, 1220,  584,   91],\n",
       "       [   0,  466, 2240,  121],\n",
       "       [   0,  393,  224,  329]], dtype=int64)"
      ]
     },
     "execution_count": 12,
     "metadata": {},
     "output_type": "execute_result"
    }
   ],
   "source": [
    "from sklearn.metrics import plot_confusion_matrix\n",
    "from sklearn.metrics import confusion_matrix\n",
    "train_predictions\n",
    "#plot_confusion_matrix(clf, X_test, y_test)  # doctest: +SKIP\n",
    "\n",
    "confusion_matrix(df_train[VarParameter].values, train_predictions)"
   ]
  },
  {
   "cell_type": "code",
   "execution_count": 21,
   "metadata": {
    "pycharm": {
     "name": "#%%\n"
    }
   },
   "outputs": [
    {
     "data": {
      "text/plain": [
       "(11590, 5)"
      ]
     },
     "execution_count": 21,
     "metadata": {},
     "output_type": "execute_result"
    }
   ],
   "source": [
    "\n"
   ]
  },
  {
   "cell_type": "code",
   "execution_count": 14,
   "metadata": {
    "pycharm": {
     "name": "#%%\n"
    }
   },
   "outputs": [
    {
     "name": "stdout",
     "output_type": "stream",
     "text": [
      "{0: 'transporter', 1: 'carrier', 2: 'enzyme', 3: 'target'}\n"
     ]
    }
   ],
   "source": [
    "texts =  dfdrugbank2['description'].values# list of text samples\n",
    "labels_index = {}  # dictionary mapping label name to numeric id\n",
    "labels = dfdrugbank2[VarParameter].values\n",
    "#for row in dfdrugbank2.index:\n",
    "#    texts.append(row['description'])\n",
    "#    labels.append(row['category_code'])\n",
    "from sklearn.preprocessing import LabelEncoder\n",
    "lb_make = LabelEncoder()\n",
    "dfdrugbank2[VarParameter] = lb_make.fit_transform(dfdrugbank2[VarParameter2])\n",
    "category_index={}\n",
    "for i in list(set(dfdrugbank2[VarParameter])):\n",
    "    labels_index[i]=list(set(dfdrugbank2[VarParameter2]))[i]\n",
    "#category_index[dfdrugbank2[\"category\"]] = dfdrugbank2[\"category_code\"]\n",
    "print(labels_index)"
   ]
  },
  {
   "cell_type": "code",
   "execution_count": 15,
   "metadata": {
    "pycharm": {
     "name": "#%%\n"
    }
   },
   "outputs": [
    {
     "name": "stdout",
     "output_type": "stream",
     "text": [
      "Found 6686 unique tokens.\n",
      "Shape of data tensor: (7121, 1000)\n",
      "Shape of label tensor: (7121, 4)\n"
     ]
    }
   ],
   "source": [
    "import os\n",
    "import sys\n",
    "import numpy as np\n",
    "from keras.preprocessing.text import Tokenizer\n",
    "from keras.preprocessing.sequence import pad_sequences\n",
    "from keras.utils import to_categorical\n",
    "from keras.layers import Dense, Input, GlobalMaxPooling1D\n",
    "from keras.layers import Conv1D, MaxPooling1D, Embedding\n",
    "from keras.models import Model\n",
    "from keras.initializers import Constant\n",
    "\n",
    "\n",
    "MAX_SEQUENCE_LENGTH = 1000\n",
    "MAX_NUM_WORDS = 400000\n",
    "EMBEDDING_DIM = 50\n",
    "VALIDATION_SPLIT = 0.2\n",
    "\n",
    "#vocab_size = 400000\n",
    "#embedding_size = 50\n",
    "#maxlen = 10\n",
    "\n",
    "from keras.preprocessing.text import Tokenizer\n",
    "from keras.preprocessing.sequence import pad_sequences\n",
    "\n",
    "tokenizer = Tokenizer(nb_words=MAX_NUM_WORDS)\n",
    "tokenizer.fit_on_texts(texts)\n",
    "sequences = tokenizer.texts_to_sequences(texts)\n",
    "\n",
    "word_index = tokenizer.word_index\n",
    "print('Found %s unique tokens.' % len(word_index))\n",
    "data = pad_sequences(sequences, maxlen=MAX_SEQUENCE_LENGTH)\n",
    "\n",
    "labels = to_categorical(np.asarray(labels))\n",
    "print('Shape of data tensor:', data.shape)\n",
    "print('Shape of label tensor:', labels.shape)\n",
    "\n",
    "# split the data into a training set and a validation set\n",
    "indices = np.arange(data.shape[0])\n",
    "np.random.shuffle(indices)\n",
    "data = data[indices]\n",
    "labels = labels[indices]\n",
    "nb_validation_samples = int(VALIDATION_SPLIT * data.shape[0])\n",
    "\n",
    "x_train = data[:-nb_validation_samples]\n",
    "y_train = labels[:-nb_validation_samples]\n",
    "x_val = data[-nb_validation_samples:]\n",
    "y_val = labels[-nb_validation_samples:]\n"
   ]
  },
  {
   "cell_type": "code",
   "execution_count": 16,
   "metadata": {
    "pycharm": {
     "name": "#%%\n"
    }
   },
   "outputs": [
    {
     "name": "stdout",
     "output_type": "stream",
     "text": [
      "Found 400000 word vectors.\n"
     ]
    }
   ],
   "source": [
    "embeddings_index = {}\n",
    "embeddings_path = r'C:\\\\git\\\\DMPrj\\\\embeddings\\\\glove.6B.50d.txt'\n",
    "f = open(embeddings_path,encoding=\"utf8\")\n",
    "for line in f:\n",
    "    values = line.split()\n",
    "    word = values[0]\n",
    "    coefs = np.asarray(values[1:], dtype='float32')\n",
    "    embeddings_index[word] = coefs\n",
    "f.close()\n",
    "\n",
    "print('Found %s word vectors.' % len(embeddings_index))\n"
   ]
  },
  {
   "cell_type": "code",
   "execution_count": 166,
   "metadata": {
    "pycharm": {
     "name": "#%%\n"
    }
   },
   "outputs": [],
   "source": [
    "embedding_matrix = np.zeros((len(word_index) + 1, EMBEDDING_DIM))\n",
    "for word, i in word_index.items():\n",
    "    embedding_vector = embeddings_index.get(word)\n",
    "    if embedding_vector is not None:\n",
    "        # words not found in embedding index will be all-zeros.\n",
    "        embedding_matrix[i] = embedding_vector"
   ]
  },
  {
   "cell_type": "code",
   "execution_count": 17,
   "metadata": {
    "pycharm": {
     "name": "#%%\n"
    }
   },
   "outputs": [],
   "source": [
    "from keras.layers import Embedding\n",
    "\n",
    "embedding_layer = Embedding(len(word_index) + 1,\n",
    "                            EMBEDDING_DIM,\n",
    "                            weights=[embedding_matrix],\n",
    "                            input_length=MAX_SEQUENCE_LENGTH,\n",
    "                            trainable=False)"
   ]
  },
  {
   "cell_type": "code",
   "execution_count": 20,
   "metadata": {
    "pycharm": {
     "name": "#%%\n"
    }
   },
   "outputs": [
    {
     "name": "stdout",
     "output_type": "stream",
     "text": [
      "Train on 5697 samples, validate on 1424 samples\n",
      "Epoch 1/50\n",
      "5697/5697 [==============================] - 38s 7ms/step - loss: 1.0632 - acc: 0.4792 - val_loss: 1.0822 - val_acc: 0.4895\n",
      "Epoch 2/50\n",
      "5697/5697 [==============================] - 38s 7ms/step - loss: 1.0370 - acc: 0.4939 - val_loss: 1.0622 - val_acc: 0.4895\n",
      "Epoch 3/50\n",
      "5697/5697 [==============================] - 36s 6ms/step - loss: 1.0277 - acc: 0.4971 - val_loss: 1.0285 - val_acc: 0.4895\n",
      "Epoch 4/50\n",
      "5697/5697 [==============================] - 32s 6ms/step - loss: 0.9934 - acc: 0.5099 - val_loss: 1.0087 - val_acc: 0.4895\n",
      "Epoch 5/50\n",
      "5697/5697 [==============================] - 32s 6ms/step - loss: 0.9519 - acc: 0.5366 - val_loss: 1.0609 - val_acc: 0.5021\n",
      "Epoch 6/50\n",
      "5697/5697 [==============================] - 31s 6ms/step - loss: 0.9250 - acc: 0.5636 - val_loss: 0.9591 - val_acc: 0.5597\n",
      "Epoch 7/50\n",
      "5697/5697 [==============================] - 32s 6ms/step - loss: 0.8975 - acc: 0.5815 - val_loss: 1.1127 - val_acc: 0.5133\n",
      "Epoch 8/50\n",
      "5697/5697 [==============================] - 33s 6ms/step - loss: 0.8856 - acc: 0.5886 - val_loss: 0.9436 - val_acc: 0.5864\n",
      "Epoch 9/50\n",
      "5697/5697 [==============================] - 32s 6ms/step - loss: 0.8626 - acc: 0.6103 - val_loss: 0.9699 - val_acc: 0.5681\n",
      "Epoch 10/50\n",
      "5697/5697 [==============================] - 36s 6ms/step - loss: 0.8437 - acc: 0.6268 - val_loss: 0.9293 - val_acc: 0.5920\n",
      "Epoch 11/50\n",
      "5697/5697 [==============================] - 33s 6ms/step - loss: 0.8232 - acc: 0.6347 - val_loss: 0.9410 - val_acc: 0.5829\n",
      "Epoch 12/50\n",
      "5697/5697 [==============================] - 33s 6ms/step - loss: 0.8165 - acc: 0.6421 - val_loss: 0.9218 - val_acc: 0.5927\n",
      "Epoch 13/50\n",
      "5697/5697 [==============================] - 33s 6ms/step - loss: 0.7985 - acc: 0.6574 - val_loss: 0.9324 - val_acc: 0.6046\n",
      "Epoch 14/50\n",
      "5697/5697 [==============================] - 33s 6ms/step - loss: 0.7890 - acc: 0.6558 - val_loss: 0.9250 - val_acc: 0.6039\n",
      "Epoch 15/50\n",
      "5697/5697 [==============================] - 32s 6ms/step - loss: 0.7828 - acc: 0.6577 - val_loss: 0.9494 - val_acc: 0.5857\n",
      "Epoch 16/50\n",
      "5697/5697 [==============================] - 32s 6ms/step - loss: 0.7660 - acc: 0.6675 - val_loss: 0.9567 - val_acc: 0.5765\n",
      "Epoch 17/50\n",
      "5697/5697 [==============================] - 33s 6ms/step - loss: 0.7580 - acc: 0.6760 - val_loss: 0.9092 - val_acc: 0.6025\n",
      "Epoch 18/50\n",
      "5697/5697 [==============================] - 33s 6ms/step - loss: 0.7529 - acc: 0.6689 - val_loss: 0.9246 - val_acc: 0.6025\n",
      "Epoch 19/50\n",
      "5697/5697 [==============================] - 33s 6ms/step - loss: 0.7457 - acc: 0.6723 - val_loss: 0.9196 - val_acc: 0.6096\n",
      "Epoch 20/50\n",
      "5697/5697 [==============================] - 32s 6ms/step - loss: 0.7395 - acc: 0.6774 - val_loss: 0.9309 - val_acc: 0.6004\n",
      "Epoch 21/50\n",
      "5697/5697 [==============================] - 33s 6ms/step - loss: 0.7378 - acc: 0.6830 - val_loss: 0.9562 - val_acc: 0.5751\n",
      "Epoch 22/50\n",
      "5697/5697 [==============================] - 33s 6ms/step - loss: 0.7267 - acc: 0.6826 - val_loss: 1.1192 - val_acc: 0.5660\n",
      "Epoch 23/50\n",
      "5697/5697 [==============================] - 39s 7ms/step - loss: 0.7264 - acc: 0.6779 - val_loss: 0.9508 - val_acc: 0.5843\n",
      "Epoch 24/50\n",
      "5697/5697 [==============================] - 36s 6ms/step - loss: 0.7214 - acc: 0.6791 - val_loss: 0.9741 - val_acc: 0.5765\n",
      "Epoch 25/50\n",
      "5697/5697 [==============================] - 36s 6ms/step - loss: 0.7177 - acc: 0.6837 - val_loss: 0.9404 - val_acc: 0.6053\n",
      "Epoch 26/50\n",
      "5697/5697 [==============================] - 48s 8ms/step - loss: 0.7170 - acc: 0.6777 - val_loss: 0.9447 - val_acc: 0.6110\n",
      "Epoch 27/50\n",
      "5697/5697 [==============================] - 36s 6ms/step - loss: 0.7101 - acc: 0.6823 - val_loss: 0.9550 - val_acc: 0.5906\n",
      "Epoch 28/50\n",
      "5697/5697 [==============================] - 40s 7ms/step - loss: 0.7068 - acc: 0.6830 - val_loss: 1.0542 - val_acc: 0.6011\n",
      "Epoch 29/50\n",
      "5697/5697 [==============================] - 36s 6ms/step - loss: 0.7047 - acc: 0.6818 - val_loss: 0.9354 - val_acc: 0.6032\n",
      "Epoch 30/50\n",
      "5697/5697 [==============================] - 37s 7ms/step - loss: 0.6967 - acc: 0.6825 - val_loss: 0.9720 - val_acc: 0.6067\n",
      "Epoch 31/50\n",
      "5697/5697 [==============================] - 33s 6ms/step - loss: 0.7000 - acc: 0.6853 - val_loss: 0.9572 - val_acc: 0.6088\n",
      "Epoch 32/50\n",
      "5697/5697 [==============================] - 37s 6ms/step - loss: 0.7037 - acc: 0.6835 - val_loss: 0.9935 - val_acc: 0.5899\n",
      "Epoch 33/50\n",
      "5697/5697 [==============================] - 37s 7ms/step - loss: 0.6919 - acc: 0.6893 - val_loss: 0.9309 - val_acc: 0.6138\n",
      "Epoch 34/50\n",
      "5697/5697 [==============================] - 33s 6ms/step - loss: 0.6992 - acc: 0.6805 - val_loss: 0.9853 - val_acc: 0.5892\n",
      "Epoch 35/50\n",
      "5697/5697 [==============================] - 36s 6ms/step - loss: 0.6875 - acc: 0.6862 - val_loss: 0.9702 - val_acc: 0.6067\n",
      "Epoch 36/50\n",
      "5697/5697 [==============================] - 37s 6ms/step - loss: 0.6874 - acc: 0.6830 - val_loss: 0.9751 - val_acc: 0.6081\n",
      "Epoch 37/50\n",
      "5697/5697 [==============================] - 41s 7ms/step - loss: 0.6847 - acc: 0.6809 - val_loss: 0.9837 - val_acc: 0.6081\n",
      "Epoch 38/50\n",
      "5697/5697 [==============================] - 38s 7ms/step - loss: 0.6835 - acc: 0.6870 - val_loss: 0.9944 - val_acc: 0.5969\n",
      "Epoch 39/50\n",
      "5697/5697 [==============================] - 35s 6ms/step - loss: 0.6788 - acc: 0.6844 - val_loss: 1.0399 - val_acc: 0.5667\n",
      "Epoch 40/50\n",
      "5697/5697 [==============================] - 36s 6ms/step - loss: 0.6790 - acc: 0.6833 - val_loss: 1.0112 - val_acc: 0.6039\n",
      "Epoch 41/50\n",
      "5697/5697 [==============================] - 38s 7ms/step - loss: 0.6777 - acc: 0.6865 - val_loss: 1.0005 - val_acc: 0.6053\n",
      "Epoch 42/50\n",
      "5697/5697 [==============================] - 32s 6ms/step - loss: 0.6772 - acc: 0.6842 - val_loss: 1.0768 - val_acc: 0.5920\n",
      "Epoch 43/50\n",
      "5697/5697 [==============================] - 35s 6ms/step - loss: 0.6740 - acc: 0.6883 - val_loss: 1.0525 - val_acc: 0.6053\n",
      "Epoch 44/50\n",
      "5697/5697 [==============================] - 36s 6ms/step - loss: 0.6729 - acc: 0.6863 - val_loss: 1.0361 - val_acc: 0.5878\n",
      "Epoch 45/50\n",
      "5697/5697 [==============================] - 33s 6ms/step - loss: 0.6749 - acc: 0.6832 - val_loss: 1.1041 - val_acc: 0.5836\n",
      "Epoch 46/50\n",
      "5697/5697 [==============================] - 37s 7ms/step - loss: 0.6698 - acc: 0.6877 - val_loss: 1.0296 - val_acc: 0.6011\n",
      "Epoch 47/50\n",
      "5697/5697 [==============================] - 38s 7ms/step - loss: 0.6658 - acc: 0.6874 - val_loss: 1.1145 - val_acc: 0.5751\n",
      "Epoch 48/50\n",
      "5697/5697 [==============================] - 42s 7ms/step - loss: 0.6664 - acc: 0.6937 - val_loss: 1.0168 - val_acc: 0.6074\n",
      "Epoch 49/50\n",
      "5697/5697 [==============================] - 37s 6ms/step - loss: 0.6641 - acc: 0.6891 - val_loss: 1.0691 - val_acc: 0.6096\n",
      "Epoch 50/50\n",
      "5697/5697 [==============================] - 32s 6ms/step - loss: 0.6647 - acc: 0.6886 - val_loss: 1.1617 - val_acc: 0.5955\n"
     ]
    },
    {
     "data": {
      "text/plain": [
       "<keras.callbacks.callbacks.History at 0x1d94030f470>"
      ]
     },
     "execution_count": 20,
     "metadata": {},
     "output_type": "execute_result"
    }
   ],
   "source": [
    "sequence_input = Input(shape=(MAX_SEQUENCE_LENGTH,), dtype='int32')\n",
    "\n",
    "embedded_sequences = embedding_layer(sequence_input)\n",
    "x = Conv1D(128, 5, activation='relu')(embedded_sequences)\n",
    "x = MaxPooling1D(5)(x)\n",
    "x = Conv1D(128, 5, activation='relu')(x)\n",
    "x = MaxPooling1D(5)(x)\n",
    "x = Conv1D(128, 5, activation='relu')(x)\n",
    "x = MaxPooling1D(35)(x)  # global max pooling\n",
    "x = Flatten()(x)\n",
    "x = Dense(128, activation='relu')(x)\n",
    "preds = Dense(len(labels_index), activation='softmax')(x)\n",
    "\n",
    "model = Model(sequence_input, preds)\n",
    "model.compile(loss='categorical_crossentropy',\n",
    "              optimizer='rmsprop',\n",
    "              metrics=['acc'])\n",
    "\n",
    "# happy learning!\n",
    "model.fit(x_train, y_train, validation_data=(x_val, y_val),\n",
    "          epochs=50, batch_size=128)\n",
    "\n"
   ]
  },
  {
   "cell_type": "code",
   "execution_count": 21,
   "metadata": {
    "pycharm": {
     "name": "#%%\n"
    }
   },
   "outputs": [
    {
     "name": "stdout",
     "output_type": "stream",
     "text": [
      "Train on 5697 samples, validate on 1424 samples\n",
      "Epoch 1/50\n",
      "5697/5697 [==============================] - 41s 7ms/step - loss: 0.7096 - acc: 0.6730 - val_loss: 0.9818 - val_acc: 0.6173\n",
      "Epoch 2/50\n",
      "5697/5697 [==============================] - 43s 8ms/step - loss: 0.7030 - acc: 0.6737 - val_loss: 1.0886 - val_acc: 0.6166\n",
      "Epoch 3/50\n",
      "5697/5697 [==============================] - 40s 7ms/step - loss: 0.6976 - acc: 0.6772 - val_loss: 1.0760 - val_acc: 0.6194\n",
      "Epoch 4/50\n",
      "5697/5697 [==============================] - 40s 7ms/step - loss: 0.6913 - acc: 0.6784 - val_loss: 1.3097 - val_acc: 0.6124\n",
      "Epoch 5/50\n",
      "5697/5697 [==============================] - 42s 7ms/step - loss: 0.6845 - acc: 0.6837 - val_loss: 1.5944 - val_acc: 0.5927\n",
      "Epoch 6/50\n",
      "5697/5697 [==============================] - 39s 7ms/step - loss: 0.6849 - acc: 0.6811 - val_loss: 1.3739 - val_acc: 0.6032\n",
      "Epoch 7/50\n",
      "5697/5697 [==============================] - 43s 7ms/step - loss: 0.6718 - acc: 0.6854 - val_loss: 1.3889 - val_acc: 0.5948\n",
      "Epoch 8/50\n",
      "5697/5697 [==============================] - 42s 7ms/step - loss: 0.6683 - acc: 0.6883 - val_loss: 1.2593 - val_acc: 0.6032\n",
      "Epoch 9/50\n",
      "5697/5697 [==============================] - 44s 8ms/step - loss: 0.6690 - acc: 0.6879 - val_loss: 1.5716 - val_acc: 0.5934\n",
      "Epoch 10/50\n",
      "5697/5697 [==============================] - 37s 7ms/step - loss: 0.6609 - acc: 0.6902 - val_loss: 1.5580 - val_acc: 0.5983\n",
      "Epoch 11/50\n",
      "5697/5697 [==============================] - 40s 7ms/step - loss: 0.6546 - acc: 0.6930 - val_loss: 1.4277 - val_acc: 0.5934\n",
      "Epoch 12/50\n",
      "5697/5697 [==============================] - 37s 6ms/step - loss: 0.6661 - acc: 0.6890 - val_loss: 1.6568 - val_acc: 0.5885\n",
      "Epoch 13/50\n",
      "5697/5697 [==============================] - 37s 7ms/step - loss: 0.6534 - acc: 0.6972 - val_loss: 1.4110 - val_acc: 0.5941\n",
      "Epoch 14/50\n",
      "5697/5697 [==============================] - 37s 7ms/step - loss: 0.6470 - acc: 0.7030 - val_loss: 1.4548 - val_acc: 0.5976\n",
      "Epoch 15/50\n",
      "5697/5697 [==============================] - 38s 7ms/step - loss: 0.6646 - acc: 0.6988 - val_loss: 1.3809 - val_acc: 0.5927\n",
      "Epoch 16/50\n",
      "5697/5697 [==============================] - 41s 7ms/step - loss: 0.6466 - acc: 0.7046 - val_loss: 1.5306 - val_acc: 0.5948\n",
      "Epoch 17/50\n",
      "5697/5697 [==============================] - 38s 7ms/step - loss: 0.6473 - acc: 0.7032 - val_loss: 1.6322 - val_acc: 0.5913\n",
      "Epoch 18/50\n",
      "5697/5697 [==============================] - 41s 7ms/step - loss: 0.6435 - acc: 0.7088 - val_loss: 2.0054 - val_acc: 0.5864\n",
      "Epoch 19/50\n",
      "5697/5697 [==============================] - 44s 8ms/step - loss: 0.6505 - acc: 0.6998 - val_loss: 1.8159 - val_acc: 0.5850\n",
      "Epoch 20/50\n",
      "5697/5697 [==============================] - 45s 8ms/step - loss: 0.6366 - acc: 0.7093 - val_loss: 1.7412 - val_acc: 0.5801\n",
      "Epoch 21/50\n",
      "5697/5697 [==============================] - 53s 9ms/step - loss: 0.6444 - acc: 0.7019 - val_loss: 1.8471 - val_acc: 0.5829\n",
      "Epoch 22/50\n",
      "5697/5697 [==============================] - 44s 8ms/step - loss: 0.6276 - acc: 0.7118 - val_loss: 2.1276 - val_acc: 0.5850\n",
      "Epoch 23/50\n",
      "5697/5697 [==============================] - 48s 9ms/step - loss: 0.6219 - acc: 0.7128 - val_loss: 1.9340 - val_acc: 0.5822\n",
      "Epoch 24/50\n",
      "5697/5697 [==============================] - 40s 7ms/step - loss: 0.6336 - acc: 0.7121 - val_loss: 2.0179 - val_acc: 0.5864\n",
      "Epoch 25/50\n",
      "5697/5697 [==============================] - 37s 7ms/step - loss: 0.6334 - acc: 0.7130 - val_loss: 1.7031 - val_acc: 0.5794\n",
      "Epoch 26/50\n",
      "5697/5697 [==============================] - 44s 8ms/step - loss: 0.6240 - acc: 0.7116 - val_loss: 2.0012 - val_acc: 0.5765\n",
      "Epoch 27/50\n",
      "5697/5697 [==============================] - 39s 7ms/step - loss: 0.6241 - acc: 0.7137 - val_loss: 1.9064 - val_acc: 0.5787\n",
      "Epoch 28/50\n",
      "5697/5697 [==============================] - 45s 8ms/step - loss: 0.6276 - acc: 0.7104 - val_loss: 1.5621 - val_acc: 0.5765\n",
      "Epoch 29/50\n",
      "5697/5697 [==============================] - 40s 7ms/step - loss: 0.6267 - acc: 0.7207 - val_loss: 1.6516 - val_acc: 0.5639\n",
      "Epoch 30/50\n",
      "5697/5697 [==============================] - 49s 9ms/step - loss: 0.6152 - acc: 0.7181 - val_loss: 1.7111 - val_acc: 0.5730\n",
      "Epoch 31/50\n",
      "5697/5697 [==============================] - 38s 7ms/step - loss: 0.6198 - acc: 0.7193 - val_loss: 1.7555 - val_acc: 0.5772\n",
      "Epoch 32/50\n",
      "5697/5697 [==============================] - 38s 7ms/step - loss: 0.6306 - acc: 0.7239 - val_loss: 1.7347 - val_acc: 0.5751\n",
      "Epoch 33/50\n",
      "5697/5697 [==============================] - 39s 7ms/step - loss: 0.6258 - acc: 0.7216 - val_loss: 1.4480 - val_acc: 0.5646\n",
      "Epoch 34/50\n",
      "5697/5697 [==============================] - 38s 7ms/step - loss: 0.6157 - acc: 0.7244 - val_loss: 1.9528 - val_acc: 0.5744\n",
      "Epoch 35/50\n",
      "5697/5697 [==============================] - 39s 7ms/step - loss: 0.6330 - acc: 0.7211 - val_loss: 1.7548 - val_acc: 0.5702\n",
      "Epoch 36/50\n",
      "5697/5697 [==============================] - 39s 7ms/step - loss: 0.6185 - acc: 0.7237 - val_loss: 2.1451 - val_acc: 0.5772\n",
      "Epoch 37/50\n",
      "5697/5697 [==============================] - 39s 7ms/step - loss: 0.6162 - acc: 0.7253 - val_loss: 1.8777 - val_acc: 0.5871\n",
      "Epoch 38/50\n",
      "5697/5697 [==============================] - 43s 8ms/step - loss: 0.6236 - acc: 0.7244 - val_loss: 1.6747 - val_acc: 0.5646\n",
      "Epoch 39/50\n",
      "5697/5697 [==============================] - 47s 8ms/step - loss: 0.6133 - acc: 0.7228 - val_loss: 2.1257 - val_acc: 0.5758\n",
      "Epoch 40/50\n",
      "5697/5697 [==============================] - 45s 8ms/step - loss: 0.6145 - acc: 0.7272 - val_loss: 2.3473 - val_acc: 0.5737\n",
      "Epoch 41/50\n",
      "5697/5697 [==============================] - 47s 8ms/step - loss: 0.6187 - acc: 0.7251 - val_loss: 2.0008 - val_acc: 0.5625\n",
      "Epoch 42/50\n",
      "5697/5697 [==============================] - 41s 7ms/step - loss: 0.6094 - acc: 0.7286 - val_loss: 2.1667 - val_acc: 0.5611\n",
      "Epoch 43/50\n",
      "5697/5697 [==============================] - 40s 7ms/step - loss: 0.6081 - acc: 0.7234 - val_loss: 2.1373 - val_acc: 0.5674\n",
      "Epoch 44/50\n",
      "5697/5697 [==============================] - 40s 7ms/step - loss: 0.6197 - acc: 0.7269 - val_loss: 2.1626 - val_acc: 0.5569\n",
      "Epoch 45/50\n",
      "5697/5697 [==============================] - 39s 7ms/step - loss: 0.5976 - acc: 0.7330 - val_loss: 1.7720 - val_acc: 0.5632\n",
      "Epoch 46/50\n",
      "5697/5697 [==============================] - 47s 8ms/step - loss: 0.6090 - acc: 0.7307 - val_loss: 2.2456 - val_acc: 0.5822\n",
      "Epoch 47/50\n",
      "5697/5697 [==============================] - 41s 7ms/step - loss: 0.6103 - acc: 0.7327 - val_loss: 2.1293 - val_acc: 0.5737\n",
      "Epoch 48/50\n",
      "5697/5697 [==============================] - 41s 7ms/step - loss: 0.6065 - acc: 0.7272 - val_loss: 2.3665 - val_acc: 0.5737\n",
      "Epoch 49/50\n",
      "5697/5697 [==============================] - 46s 8ms/step - loss: 0.6058 - acc: 0.7334 - val_loss: 2.5899 - val_acc: 0.5695\n",
      "Epoch 50/50\n",
      "5697/5697 [==============================] - 38s 7ms/step - loss: 0.6199 - acc: 0.7348 - val_loss: 2.1147 - val_acc: 0.5625\n"
     ]
    },
    {
     "data": {
      "image/png": "[encoded data removed]",
      "text/plain": [
       "<Figure size 432x288 with 1 Axes>"
      ]
     },
     "metadata": {
      "needs_background": "light"
     },
     "output_type": "display_data"
    },
    {
     "data": {
      "image/png": "[encoded data removed]",
      "text/plain": [
       "<Figure size 432x288 with 1 Axes>"
      ]
     },
     "metadata": {
      "needs_background": "light"
     },
     "output_type": "display_data"
    }
   ],
   "source": [
    "# Train the model, record history\n",
    "history = model.fit(x_train, y_train,\n",
    "                    epochs=50,\n",
    "                    batch_size=24,\n",
    "                    shuffle=False,\n",
    "                    validation_data=(x_val, y_val))\n",
    "import matplotlib.pyplot as plt\n",
    "make_history_plot(history)\n"
   ]
  },
  {
   "cell_type": "code",
   "execution_count": null,
   "metadata": {
    "pycharm": {
     "name": "#%%\n"
    }
   },
   "outputs": [],
   "source": [
    "    model = Sequential()\n",
    "    model.add(Embedding(embedding_matrix.shape[0], embedding_size, weights=[embedding_matrix],input_length=maxlen,trainable=False))\n",
    "    model.add(LSTM(32))\n",
    "#   We don't lose much by replacing LSTM with this flatten layer (as we have short sequences)\n",
    "#   model.add(Flatten())\n",
    "    model.add(Dense(32, activation='relu'))\n",
    "    model.add(Dense(len(categories), activation='sigmoid'))\n",
    "    model.compile(optimizer='rmsprop',\n",
    "              loss='categorical_crossentropy',\n",
    "              metrics=['acc'])\n",
    "\n"
   ]
  },
  {
   "cell_type": "code",
   "execution_count": 169,
   "metadata": {
    "pycharm": {
     "name": "#%%\n"
    }
   },
   "outputs": [
    {
     "name": "stdout",
     "output_type": "stream",
     "text": [
      "Train on 361 samples, validate on 90 samples\n",
      "Epoch 1/10\n",
      "361/361 [==============================] - 6s 16ms/step - loss: 1.0849 - acc: 0.4598 - val_loss: 0.9533 - val_acc: 0.9778\b\b\b\b\b\b\b\b\b\b\b\b\b\b\b\b\b\b\b\b\b\b\b\b\b\b\b\b\b\b\b\b\b\b\b\b\b\b\b\b\b\b\b\b\b\b\b\b\b\b\b\b\b\b\b\b\b\b\b\b\b\b\b\b\b\b\b\b\b\b\b\b\b\b\b\b\b\b\b\b\b\b\b\b\b\b\b\b\b\b\b\b\b\b\b\b\b\b\b\b\b\b\b\b\b\b\b\b\b\b\b\b\b\b\b\b\n",
      "Epoch 2/10\n",
      "361/361 [==============================] - 4s 12ms/step - loss: 0.8936 - acc: 0.9889 - val_loss: 0.7904 - val_acc: 0.9778\b\b\b\b\b\b\b\b\b\b\b\b\b\b\b\b\b\b\b\b\b\b\b\b\b\b\b\b\b\b\b\b\b\b\b\b\b\b\b\b\b\b\b\b\b\b\b\b\b\b\b\b\b\b\b\b\b\b\b\b\b\b\b\b\b\b\b\b\b\b\b\b\b\b\b\b\b\b\b\b\b\b\b\b\b\b\b\b\b\b\b\b\b\b\b\b\b\b\b\b\b\b\b\b\b\b\b\b\b\b\b\b\b\b\b\b\n",
      "Epoch 3/10\n",
      "361/361 [==============================] - 4s 12ms/step - loss: 0.7247 - acc: 0.9917 - val_loss: 0.6256 - val_acc: 0.9778\b\b\b\b\b\b\b\b\b\b\b\b\b\b\b\b\b\b\b\b\b\b\b\b\b\b\b\b\b\b\b\b\b\b\b\b\b\b\b\b\b\b\b\b\b\b\b\b\b\b\b\b\b\b\b\b\b\b\b\b\b\b\b\b\b\b\b\b\b\b\b\b\b\b\b\b\b\b\b\b\b\b\b\b\b\b\b\b\b\b\b\b\b\b\b\b\b\b\b\b\b\b\b\b\b\b\b\b\b\b\b\b\b\b\b\b\n",
      "Epoch 4/10\n",
      "361/361 [==============================] - 4s 12ms/step - loss: 0.5553 - acc: 0.9917 - val_loss: 0.4673 - val_acc: 0.9778\b\b\b\b\b\b\b\b\b\b\b\b\b\b\b\b\b\b\b\b\b\b\b\b\b\b\b\b\b\b\b\b\b\b\b\b\b\b\b\b\b\b\b\b\b\b\b\b\b\b\b\b\b\b\b\b\b\b\b\b\b\b\b\b\b\b\b\b\b\b\b\b\b\b\b\b\b\b\b\b\b\b\b\b\b\b\b\b\b\b\b\b\b\b\b\b\b\b\b\b\b\b\b\b\b\b\b\b\b\b\b\b\b\b\b\b\n",
      "Epoch 5/10\n",
      "361/361 [==============================] - 4s 12ms/step - loss: 0.4006 - acc: 0.9917 - val_loss: 0.3414 - val_acc: 0.9778\b\b\b\b\b\b\b\b\b\b\b\b\b\b\b\b\b\b\b\b\b\b\b\b\b\b\b\b\b\b\b\b\b\b\b\b\b\b\b\b\b\b\b\b\b\b\b\b\b\b\b\b\b\b\b\b\b\b\b\b\b\b\b\b\b\b\b\b\b\b\b\b\b\b\b\b\b\b\b\b\b\b\b\b\b\b\b\b\b\b\b\b\b\b\b\b\b\b\b\b\b\b\b\b\b\b\b\b\b\b\b\b\b\b\b\b\n",
      "Epoch 6/10\n",
      "361/361 [==============================] - 4s 12ms/step - loss: 0.2840 - acc: 0.9917 - val_loss: 0.2566 - val_acc: 0.9778\b\b\b\b\b\b\b\b\b\b\b\b\b\b\b\b\b\b\b\b\b\b\b\b\b\b\b\b\b\b\b\b\b\b\b\b\b\b\b\b\b\b\b\b\b\b\b\b\b\b\b\b\b\b\b\b\b\b\b\b\b\b\b\b\b\b\b\b\b\b\b\b\b\b\b\b\b\b\b\b\b\b\b\b\b\b\b\b\b\b\b\b\b\b\b\b\b\b\b\b\b\b\b\b\b\b\b\b\b\b\b\b\b\b\b\b\n",
      "Epoch 7/10\n",
      "361/361 [==============================] - 4s 12ms/step - loss: 0.2061 - acc: 0.9917 - val_loss: 0.2045 - val_acc: 0.9778\b\b\b\b\b\b\b\b\b\b\b\b\b\b\b\b\b\b\b\b\b\b\b\b\b\b\b\b\b\b\b\b\b\b\b\b\b\b\b\b\b\b\b\b\b\b\b\b\b\b\b\b\b\b\b\b\b\b\b\b\b\b\b\b\b\b\b\b\b\b\b\b\b\b\b\b\b\b\b\b\b\b\b\b\b\b\b\b\b\b\b\b\b\b\b\b\b\b\b\b\b\b\b\b\b\b\b\b\b\b\b\b\b\b\b\b\n",
      "Epoch 8/10\n",
      "361/361 [==============================] - 4s 12ms/step - loss: 0.1568 - acc: 0.9917 - val_loss: 0.1723 - val_acc: 0.9778\b\b\b\b\b\b\b\b\b\b\b\b\b\b\b\b\b\b\b\b\b\b\b\b\b\b\b\b\b\b\b\b\b\b\b\b\b\b\b\b\b\b\b\b\b\b\b\b\b\b\b\b\b\b\b\b\b\b\b\b\b\b\b\b\b\b\b\b\b\b\b\b\b\b\b\b\b\b\b\b\b\b\b\b\b\b\b\b\b\b\b\b\b\b\b\b\b\b\b\b\b\b\b\b\b\b\b\b\b\b\b\b\b\b\b\b\n",
      "Epoch 9/10\n",
      "361/361 [==============================] - 4s 12ms/step - loss: 0.1244 - acc: 0.9917 - val_loss: 0.1521 - val_acc: 0.9778\b\b\b\b\b\b\b\b\b\b\b\b\b\b\b\b\b\b\b\b\b\b\b\b\b\b\b\b\b\b\b\b\b\b\b\b\b\b\b\b\b\b\b\b\b\b\b\b\b\b\b\b\b\b\b\b\b\b\b\b\b\b\b\b\b\b\b\b\b\b\b\b\b\b\b\b\b\b\b\b\b\b\b\b\b\b\b\b\b\b\b\b\b\b\b\b\b\b\b\b\b\b\b\b\b\b\b\b\b\b\b\b\b\b\b\b\n",
      "Epoch 10/10\n",
      "361/361 [==============================] - 4s 12ms/step - loss: 0.1027 - acc: 0.9917 - val_loss: 0.1389 - val_acc: 0.9778\b\b\b\b\b\b\b\b\b\b\b\b\b\b\b\b\b\b\b\b\b\b\b\b\b\b\b\b\b\b\b\b\b\b\b\b\b\b\b\b\b\b\b\b\b\b\b\b\b\b\b\b\b\b\b\b\b\b\b\b\b\b\b\b\b\b\b\b\b\b\b\b\b\b\b\b\b\b\b\b\b\b\b\b\b\b\b\b\b\b\b\b\b\b\b\b\b\b\b\b\b\b\b\b\b\b\b\b\b\b\b\b\b\b\b\b\n"
     ]
    },
    {
     "data": {
      "text/plain": [
       "<keras.callbacks.callbacks.History at 0x26e9c5aec50>"
      ]
     },
     "execution_count": 169,
     "metadata": {},
     "output_type": "execute_result"
    }
   ],
   "source": [
    "model = Sequential()\n",
    "model.add(Embedding(embedding_matrix.shape[0], 50, weights=[embedding_matrix],input_length=1000,trainable=False))\n",
    "model.add(LSTM(32))\n",
    "#   We don't lose much by replacing LSTM with this flatten layer (as we have short sequences)\n",
    "#   model.add(Flatten())\n",
    "model.add(Dense(32, activation='relu'))\n",
    "model.add(Dense(len(labels_index), activation='sigmoid'))\n",
    "model.compile(optimizer='rmsprop',\n",
    "              loss='categorical_crossentropy',\n",
    "              metrics=['acc'])\n",
    "model.fit(x_train, y_train, validation_data=(x_val, y_val),\n",
    "          epochs=10, batch_size=128)\n"
   ]
  },
  {
   "cell_type": "code",
   "execution_count": 82,
   "metadata": {
    "pycharm": {
     "name": "#%%\n"
    }
   },
   "outputs": [
    {
     "ename": "IndexError",
     "evalue": "only integers, slices (`:`), ellipsis (`...`), numpy.newaxis (`None`) and integer or boolean arrays are valid indices",
     "output_type": "error",
     "traceback": [
      "\u001b[1;31m---------------------------------------------------------------------------\u001b[0m",
      "\u001b[1;31mIndexError\u001b[0m                                Traceback (most recent call last)",
      "\u001b[1;32m<ipython-input-82-535bfe456103>\u001b[0m in \u001b[0;36m<module>\u001b[1;34m\u001b[0m\n\u001b[1;32m----> 1\u001b[1;33m \u001b[0manalyze_predictions\u001b[0m\u001b[1;33m(\u001b[0m\u001b[0mcategories\u001b[0m\u001b[1;33m,\u001b[0m\u001b[0mx_train\u001b[0m\u001b[1;33m[\u001b[0m\u001b[1;34m'category_code'\u001b[0m\u001b[1;33m]\u001b[0m\u001b[1;33m.\u001b[0m\u001b[0mvalues\u001b[0m\u001b[1;33m,\u001b[0m\u001b[0my_train\u001b[0m\u001b[1;33m)\u001b[0m\u001b[1;33m\u001b[0m\u001b[0m\n\u001b[0m\u001b[0;32m      2\u001b[0m \u001b[1;33m\u001b[0m\u001b[0m\n",
      "\u001b[1;31mIndexError\u001b[0m: only integers, slices (`:`), ellipsis (`...`), numpy.newaxis (`None`) and integer or boolean arrays are valid indices"
     ]
    }
   ],
   "source": [
    "# Train the model, record history"
   ]
  },
  {
   "cell_type": "code",
   "execution_count": null,
   "metadata": {
    "pycharm": {
     "name": "#%%\n"
    }
   },
   "outputs": [],
   "source": []
  },
  {
   "cell_type": "code",
   "execution_count": 22,
   "metadata": {
    "pycharm": {
     "name": "#%%\n"
    }
   },
   "outputs": [
    {
     "name": "stdout",
     "output_type": "stream",
     "text": [
      "Overall Accuracy: 0.406\n",
      "0 --> Precision:0.0,Recall:0.0,F1:nan\n",
      "1 --> Precision:0.336,Recall:0.328,F1:0.332\n",
      "2 --> Precision:0.503,Recall:0.551,F1:0.526\n",
      "3 --> Precision:0.182,Recall:0.144,F1:0.161\n",
      "\n",
      "Averages---> Precision:0.255, Recall:0.256, F1:0.34\n",
      "\n",
      "Confusion Matrix\n",
      "\n",
      "0(28) --> 0(0) , 1(8) , 2(16) , 3(4) , \n",
      "1(1895) --> 0(1) , 1(622) , 2(1028) , 3(244) , \n",
      "2(2827) --> 0(1) , 1(905) , 2(1557) , 3(364) , \n",
      "3(946) --> 0(0) , 1(318) , 2(492) , 3(136) , \n"
     ]
    }
   ],
   "source": [
    "# Make and analyze training predictions\n",
    "train_predictions = one_hot_to_category(model.predict(x_train),categories)\n",
    "analyze_predictions(categories,df_train[VarParameter].values,train_predictions)"
   ]
  },
  {
   "cell_type": "code",
   "execution_count": 23,
   "metadata": {
    "pycharm": {
     "name": "#%%\n"
    }
   },
   "outputs": [
    {
     "name": "stdout",
     "output_type": "stream",
     "text": [
      "Overall Accuracy: 0.41\n",
      "0 --> Precision:0.0,Recall:0.0,F1:nan\n",
      "1 --> Precision:0.364,Recall:0.324,F1:0.343\n",
      "2 --> Precision:0.498,Recall:0.57,F1:0.532\n",
      "3 --> Precision:0.157,Recall:0.129,F1:0.142\n",
      "\n",
      "Averages---> Precision:0.255, Recall:0.256, F1:0.339\n",
      "\n",
      "Confusion Matrix\n",
      "\n",
      "0(4) --> 0(0) , 1(2) , 2(1) , 3(1) , \n",
      "1(501) --> 0(1) , 1(162) , 2(264) , 3(73) , \n",
      "2(688) --> 0(0) , 1(209) , 2(392) , 3(87) , \n",
      "3(232) --> 0(0) , 1(72) , 2(130) , 3(30) , \n"
     ]
    }
   ],
   "source": [
    "# Make and analyze validation predictions\n",
    "val_predictions = one_hot_to_category(model.predict(x_val),categories)\n",
    "analyze_predictions(categories,df_val[VarParameter].values,val_predictions)\n",
    "\n"
   ]
  },
  {
   "cell_type": "code",
   "execution_count": 85,
   "metadata": {
    "pycharm": {
     "name": "#%%\n"
    }
   },
   "outputs": [],
   "source": []
  },
  {
   "cell_type": "code",
   "execution_count": 18,
   "metadata": {
    "pycharm": {
     "name": "#%%\n"
    }
   },
   "outputs": [
    {
     "name": "stdout",
     "output_type": "stream",
     "text": [
      "Indexing word vectors.\n",
      "Found 400000 word vectors.\n",
      "Processing text dataset\n",
      "Found 451 texts.\n",
      "Found 1295 unique tokens.\n",
      "Shape of data tensor: (451, 1000)\n",
      "Shape of label tensor: (451, 3)\n",
      "Preparing embedding matrix.\n",
      "Training model.\n",
      "WARNING:tensorflow:From c:\\users\\ayhanak\\.conda\\envs\\dmprj\\lib\\site-packages\\keras\\backend\\tensorflow_backend.py:422: The name tf.global_variables is deprecated. Please use tf.compat.v1.global_variables instead.\n",
      "\n",
      "Train on 361 samples, validate on 90 samples\n",
      "Epoch 1/10\n",
      "361/361 [==============================] - 3s 8ms/step - loss: 0.4651 - acc: 0.8809 - val_loss: 0.0833 - val_acc: 0.9889\b\b\b\b\b\b\b\b\b\b\b\b\b\b\b\b\b\b\b\b\b\b\b\b\b\b\b\b\b\b\b\b\b\b\b\b\b\b\b\b\b\b\b\b\b\b\b\b\b\b\b\b\b\b\b\b\b\b\b\b\b\b\b\b\b\b\b\b\b\b\b\b\b\b\b\b\b\b\b\b\b\b\b\b\b\b\b\b\b\b\b\b\b\b\b\b\b\b\b\b\b\b\b\b\b\b\b\b\b\b\b\b\b\b\b\b\b\n",
      "Epoch 2/10\n",
      "361/361 [==============================] - 3s 8ms/step - loss: 0.1712 - acc: 0.9889 - val_loss: 0.0674 - val_acc: 0.9889\b\b\b\b\b\b\b\b\b\b\b\b\b\b\b\b\b\b\b\b\b\b\b\b\b\b\b\b\b\b\b\b\b\b\b\b\b\b\b\b\b\b\b\b\b\b\b\b\b\b\b\b\b\b\b\b\b\b\b\b\b\b\b\b\b\b\b\b\b\b\b\b\b\b\b\b\b\b\b\b\b\b\b\b\b\b\b\b\b\b\b\b\b\b\b\b\b\b\b\b\b\b\b\b\b\b\b\b\b\b\b\b\b\b\b\b\b\n",
      "Epoch 3/10\n",
      "361/361 [==============================] - 3s 7ms/step - loss: 0.0837 - acc: 0.9889 - val_loss: 0.0751 - val_acc: 0.9889\b\b\b\b\b\b\b\b\b\b\b\b\b\b\b\b\b\b\b\b\b\b\b\b\b\b\b\b\b\b\b\b\b\b\b\b\b\b\b\b\b\b\b\b\b\b\b\b\b\b\b\b\b\b\b\b\b\b\b\b\b\b\b\b\b\b\b\b\b\b\b\b\b\b\b\b\b\b\b\b\b\b\b\b\b\b\b\b\b\b\b\b\b\b\b\b\b\b\b\b\b\b\b\b\b\b\b\b\b\b\b\b\b\b\b\b\b\n",
      "Epoch 4/10\n",
      "361/361 [==============================] - 3s 7ms/step - loss: 0.0675 - acc: 0.9889 - val_loss: 0.0784 - val_acc: 0.9889\b\b\b\b\b\b\b\b\b\b\b\b\b\b\b\b\b\b\b\b\b\b\b\b\b\b\b\b\b\b\b\b\b\b\b\b\b\b\b\b\b\b\b\b\b\b\b\b\b\b\b\b\b\b\b\b\b\b\b\b\b\b\b\b\b\b\b\b\b\b\b\b\b\b\b\b\b\b\b\b\b\b\b\b\b\b\b\b\b\b\b\b\b\b\b\b\b\b\b\b\b\b\b\b\b\b\b\b\b\b\b\b\b\b\b\b\b\n",
      "Epoch 5/10\n",
      "361/361 [==============================] - 3s 8ms/step - loss: 0.0583 - acc: 0.9889 - val_loss: 0.0874 - val_acc: 0.9889\b\b\b\b\b\b\b\b\b\b\b\b\b\b\b\b\b\b\b\b\b\b\b\b\b\b\b\b\b\b\b\b\b\b\b\b\b\b\b\b\b\b\b\b\b\b\b\b\b\b\b\b\b\b\b\b\b\b\b\b\b\b\b\b\b\b\b\b\b\b\b\b\b\b\b\b\b\b\b\b\b\b\b\b\b\b\b\b\b\b\b\b\b\b\b\b\b\b\b\b\b\b\b\b\b\b\b\b\b\b\b\b\b\b\b\b\b\n",
      "Epoch 6/10\n",
      "361/361 [==============================] - 3s 8ms/step - loss: 0.0557 - acc: 0.9889 - val_loss: 0.0806 - val_acc: 0.9889\b\b\b\b\b\b\b\b\b\b\b\b\b\b\b\b\b\b\b\b\b\b\b\b\b\b\b\b\b\b\b\b\b\b\b\b\b\b\b\b\b\b\b\b\b\b\b\b\b\b\b\b\b\b\b\b\b\b\b\b\b\b\b\b\b\b\b\b\b\b\b\b\b\b\b\b\b\b\b\b\b\b\b\b\b\b\b\b\b\b\b\b\b\b\b\b\b\b\b\b\b\b\b\b\b\b\b\b\b\b\b\b\b\b\b\b\b\n",
      "Epoch 7/10\n",
      "361/361 [==============================] - 3s 8ms/step - loss: 0.0577 - acc: 0.9889 - val_loss: 0.0988 - val_acc: 0.9889\b\b\b\b\b\b\b\b\b\b\b\b\b\b\b\b\b\b\b\b\b\b\b\b\b\b\b\b\b\b\b\b\b\b\b\b\b\b\b\b\b\b\b\b\b\b\b\b\b\b\b\b\b\b\b\b\b\b\b\b\b\b\b\b\b\b\b\b\b\b\b\b\b\b\b\b\b\b\b\b\b\b\b\b\b\b\b\b\b\b\b\b\b\b\b\b\b\b\b\b\b\b\b\b\b\b\b\b\b\b\b\b\b\b\b\b\b\n",
      "Epoch 8/10\n",
      "361/361 [==============================] - 3s 8ms/step - loss: 0.0430 - acc: 0.9889 - val_loss: 0.0852 - val_acc: 0.9889\b\b\b\b\b\b\b\b\b\b\b\b\b\b\b\b\b\b\b\b\b\b\b\b\b\b\b\b\b\b\b\b\b\b\b\b\b\b\b\b\b\b\b\b\b\b\b\b\b\b\b\b\b\b\b\b\b\b\b\b\b\b\b\b\b\b\b\b\b\b\b\b\b\b\b\b\b\b\b\b\b\b\b\b\b\b\b\b\b\b\b\b\b\b\b\b\b\b\b\b\b\b\b\b\b\b\b\b\b\b\b\b\b\b\b\b\b\n",
      "Epoch 9/10\n",
      "361/361 [==============================] - 3s 8ms/step - loss: 0.0351 - acc: 0.9889 - val_loss: 0.0986 - val_acc: 0.9889\b\b\b\b\b\b\b\b\b\b\b\b\b\b\b\b\b\b\b\b\b\b\b\b\b\b\b\b\b\b\b\b\b\b\b\b\b\b\b\b\b\b\b\b\b\b\b\b\b\b\b\b\b\b\b\b\b\b\b\b\b\b\b\b\b\b\b\b\b\b\b\b\b\b\b\b\b\b\b\b\b\b\b\b\b\b\b\b\b\b\b\b\b\b\b\b\b\b\b\b\b\b\b\b\b\b\b\b\b\b\b\b\b\b\b\b\b\n",
      "Epoch 10/10\n",
      "361/361 [==============================] - 3s 8ms/step - loss: 0.0462 - acc: 0.9889 - val_loss: 0.1173 - val_acc: 0.9889\b\b\b\b\b\b\b\b\b\b\b\b\b\b\b\b\b\b\b\b\b\b\b\b\b\b\b\b\b\b\b\b\b\b\b\b\b\b\b\b\b\b\b\b\b\b\b\b\b\b\b\b\b\b\b\b\b\b\b\b\b\b\b\b\b\b\b\b\b\b\b\b\b\b\b\b\b\b\b\b\b\b\b\b\b\b\b\b\b\b\b\b\b\b\b\b\b\b\b\b\b\b\b\b\b\b\b\b\b\b\b\b\b\b\b\b\b\n"
     ]
    },
    {
     "data": {
      "text/plain": [
       "<keras.callbacks.callbacks.History at 0x26e89228438>"
      ]
     },
     "execution_count": 18,
     "metadata": {},
     "output_type": "execute_result"
    }
   ],
   "source": []
  }
 ],
 "metadata": {
  "kernelspec": {
   "display_name": "Python 3",
   "language": "python",
   "name": "python3"
  },
  "language_info": {
   "codemirror_mode": {
    "name": "ipython",
    "version": 3
   },
   "file_extension": ".py",
   "mimetype": "text/x-python",
   "name": "python",
   "nbconvert_exporter": "python",
   "pygments_lexer": "ipython3",
   "version": "3.6.5"
  }
 },
 "nbformat": 4,
 "nbformat_minor": 1
}
