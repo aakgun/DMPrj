{
 "cells": [
  {
   "cell_type": "code",
   "execution_count": 8,
   "metadata": {
    "pycharm": {
     "name": "#%%\n"
    }
   },
   "outputs": [],
   "source": [
    "import networkx as nx\n",
    "from scipy.sparse.linalg import svds\n",
    "import numpy as np\n",
    "import ast\n",
    "from bionev.OpenNE import gf, grarep,graph, hope, lap, line, node2vec, sdne\n",
    "from bionev.OpenNE import hope,gf,grarep,lap,sdne,graph\n",
    "\n",
    "from bionev.evaluation import LinkPrediction, NodeClassification\n",
    "#from bionev.embed_train import embedding_training, load_embedding, read_node_labels, split_train_test_graph\n",
    "from bionev.SVD.model import SVD_embedding\n",
    "from bionev.utils import *\n",
    "import matplotlib.pyplot as plt\n",
    "#from Drugbank import *\n",
    "\n",
    "\n",
    "import time\n",
    "import sys,os\n",
    "import os\n",
    "Homedir = os.getcwd()\n",
    "\n",
    "train_graph_filename= \"C:/git/DMPrj/data/DrugBank_DDI/DrugBank_DDI.edgelist\"\n",
    "#train_graph_filename= \"C:/git/BioNEV/data/DrugBank_DDI/Karate.edgelist\"\n",
    "SVD_OutputFile = \"C:/git/DMPrj/Embeddings/PRJ_SVD_OutputFile\"\n",
    "LAPLACIAN_OutputFile = \"C:/git/DMPrj/Embeddings/PRJ_Laplacian_OutputFile\"\n",
    "HOPE_OutputFile = \"C:/git/DMPrj/Embeddings/PRJ_HOPE_OutputFile\"\n",
    "LINE_Classification_OutputFile = \"C:/git/DMPrj/Embeddings/PRJ_LINE_CLASS_OutputFile\"\n",
    "SDNE_OutputFile = \"C:/git/DMPrj/Embeddings/PRJ_SDNE_OutputFile\"\n",
    "NODE2VEC_OutputFile = \"C:/git/DMPrj/Embeddings/PRJ_node2vec_OutputFile\"\n",
    "NODE2VEC_OutputFile2 = \"C:/git/DMPrj/Embeddings/PRJ_node2vec_OutputFile2\"\n",
    "NODE2VEC_OutputFile3 = \"C:/git/DMPrj/Embeddings/PRJ_node2vec_OutputFile3\"\n",
    "\n",
    "_results = dict(\n",
    "        )"
   ]
  },
  {
   "cell_type": "code",
   "execution_count": 4,
   "outputs": [
    {
     "name": "stdout",
     "output_type": "stream",
     "text": [
      "    drugbank_id_x          name            type                    groups  \\\n",
      "139       DB00035  Desmopressin  small molecule                  approved   \n",
      "140       DB00035  Desmopressin  small molecule                  approved   \n",
      "143       DB00035  Desmopressin  small molecule                  approved   \n",
      "391       DB00091  Cyclosporine  small molecule  approved|investigational   \n",
      "392       DB00091  Cyclosporine  small molecule  approved|investigational   \n",
      "\n",
      "           atc_codes                                         categories  \\\n",
      "139          H01BA02       Antidiuretic Agents|Hemostatics|Renal Agents   \n",
      "140          H01BA02       Antidiuretic Agents|Hemostatics|Renal Agents   \n",
      "143          H01BA02       Antidiuretic Agents|Hemostatics|Renal Agents   \n",
      "391  L04AD01|S01XA18  Antirheumatic Agents|Dermatologic Agents|Immun...   \n",
      "392  L04AD01|S01XA18  Antirheumatic Agents|Dermatologic Agents|Immun...   \n",
      "\n",
      "                                 inchikey  \\\n",
      "139  InChIKey=NFLWUMRGJYTJIN-NXBWRCJVSA-N   \n",
      "140  InChIKey=NFLWUMRGJYTJIN-NXBWRCJVSA-N   \n",
      "143  InChIKey=NFLWUMRGJYTJIN-NXBWRCJVSA-N   \n",
      "391  InChIKey=PMATZTZNYRCHOR-IMVLJIQENA-N   \n",
      "392  InChIKey=PMATZTZNYRCHOR-IMVLJIQENA-N   \n",
      "\n",
      "                                                 inchi  \\\n",
      "139  InChI=1S/C46H64N14O12S2/c47-35(62)15-14-29-40(...   \n",
      "140  InChI=1S/C46H64N14O12S2/c47-35(62)15-14-29-40(...   \n",
      "143  InChI=1S/C46H64N14O12S2/c47-35(62)15-14-29-40(...   \n",
      "391  InChI=1/C62H111N11O12/c1-25-27-28-40(15)52(75)...   \n",
      "392  InChI=1/C62H111N11O12/c1-25-27-28-40(15)52(75)...   \n",
      "\n",
      "                                           description DrugBank_id  ...  \\\n",
      "139  Desmopressin is a chemical that is similar to ...     DB00035  ...   \n",
      "140  Desmopressin is a chemical that is similar to ...     DB00035  ...   \n",
      "143  Desmopressin is a chemical that is similar to ...     DB00035  ...   \n",
      "391  A cyclic undecapeptide from an extract of soil...     DB00091  ...   \n",
      "392  A cyclic undecapeptide from an extract of soil...     DB00091  ...   \n",
      "\n",
      "     uniprot_id  entrez_gene_id  organism  known_action  \\\n",
      "139      P35354          5743.0     Human       unknown   \n",
      "140      P30518           554.0     Human           yes   \n",
      "143      P23219          5742.0     Human       unknown   \n",
      "391      P08183          5243.0     Human       unknown   \n",
      "392      P08684          1576.0     Human       unknown   \n",
      "\n",
      "                         actions  \\\n",
      "139                      inducer   \n",
      "140                      agonist   \n",
      "143                      inducer   \n",
      "391  substrate|inhibitor|inducer   \n",
      "392          substrate|inhibitor   \n",
      "\n",
      "                                            pubmed_ids category_code  \\\n",
      "139                                           15644490             1   \n",
      "140                         18761325|16333859|11752352             2   \n",
      "143                                           15644490             1   \n",
      "391  12387747|10820137|10891114|11405287|11716514|1...             3   \n",
      "392                                  19934256|10490933             1   \n",
      "\n",
      "     actions_code organism_code groups_code  \n",
      "139            20            14           0  \n",
      "140             5            14           0  \n",
      "143            20            14           0  \n",
      "391            38            14           5  \n",
      "392            37            14           5  \n",
      "\n",
      "[5 rows x 26 columns]\n",
      "Index(['drugbank_id_x', 'name', 'type', 'groups', 'atc_codes', 'categories',\n",
      "       'inchikey', 'inchi', 'description', 'DrugBank_id', 'index', 'ID',\n",
      "       'NODEID', 'WEIGHT', 'drugbank_id_y', 'category', 'uniprot_id',\n",
      "       'entrez_gene_id', 'organism', 'known_action', 'actions', 'pubmed_ids',\n",
      "       'category_code', 'actions_code', 'organism_code', 'groups_code'],\n",
      "      dtype='object')\n"
     ]
    }
   ],
   "source": [],
   "metadata": {
    "collapsed": false,
    "pycharm": {
     "name": "#%%\n"
    }
   }
  },
  {
   "cell_type": "code",
   "execution_count": null,
   "outputs": [],
   "source": [
    "import pixiedust\n",
    "pixiedust.optOut()\n",
    "display(dfdrugbank2)\n",
    "\n"
   ],
   "metadata": {
    "collapsed": false,
    "pycharm": {
     "name": "#%%\n"
    }
   }
  },
  {
   "cell_type": "code",
   "execution_count": 9,
   "metadata": {
    "pycharm": {
     "name": "#%%\n"
    }
   },
   "outputs": [
    {
     "name": "stdout",
     "output_type": "stream",
     "text": [
      "Original Graph: nodes: 2191 edges: 242027\n",
      "Training Graph: nodes: 2191 edges: 193646\n"
     ]
    }
   ],
   "source": [
    "split_train_graph= \"C:/git/DMPrj/data/DrugBank_DDI/DrugBank_DDI.edgelist\"\n",
    "G, G_train, testing_pos_edges, train_graph_filename = split_train_test_graph(train_graph_filename, None, weighted=None)\n"
   ]
  },
  {
   "cell_type": "code",
   "execution_count": 22,
   "outputs": [],
   "source": [
    "g = read_for_SVD(train_graph_filename, weighted=False)\n",
    "SVD_embedding(g, SVD_OutputFile, size=100)\n",
    "# size=100\n",
    "# output_filename = SVD_OutputFile\n",
    "# node_list = list(g.nodes())\n",
    "# adjacency_matrix = nx.adjacency_matrix(G, node_list)\n",
    "# adjacency_matrix = adjacency_matrix.astype(float)\n",
    "# # adjacency_matrix = sparse.csc_matrix(adjacency_matrix)\n",
    "# U, Sigma, VT = svds(adjacency_matrix, k=size)\n",
    "# Sigma = np.diag(Sigma)\n",
    "# W = np.matmul(U, np.sqrt(Sigma))\n",
    "# C = np.matmul(VT.T, np.sqrt(Sigma))\n",
    "# # print(np.sum(U))\n",
    "# embeddings = W + C\n",
    "# vectors = {}\n",
    "# for id, node in enumerate(node_list):\n",
    "#     vectors[node] = list(np.array(embeddings[id]))\n",
    "#\n",
    "# fout = open(output_filename, 'w')\n",
    "# node_num = len(vectors.keys())\n",
    "# fout.write(\"{} {}\\n\".format(node_num, size))\n",
    "# for node, vec in vectors.items():\n",
    "#     fout.write(\"{} {}\\n\".format(node,\n",
    "#                                 ' '.join([str(x) for x in vec])))\n",
    "# fout.close()\n"
   ],
   "metadata": {
    "collapsed": false,
    "pycharm": {
     "name": "#%%\n"
    }
   }
  },
  {
   "cell_type": "code",
   "execution_count": 62,
   "metadata": {
    "pycharm": {
     "name": "#%%\n"
    }
   },
   "outputs": [
    {
     "name": "stdout",
     "output_type": "stream",
     "text": [
      "Nodes with embedding: 2191\n",
      "######### Link Prediction Performance #########\n",
      "AUC-ROC: 0.921, AUC-PR: 0.910, Accuracy: 0.839, F1: 0.839\n",
      "##################################################\n",
      "{'results_SVD': {'auc_roc': 0.9205100348039769, 'auc_pr': 0.910475455867572, 'accuracy': 0.8391798367937197, 'f1': 0.839201429412433}}\n"
     ]
    }
   ],
   "source": [
    "g = read_for_SVD(train_graph_filename, weighted=False)\n",
    "SVD_embedding(g, SVD_OutputFile, size=100)\n",
    "\n",
    "embedding_look_up = load_embedding(SVD_OutputFile)\n",
    "result = LinkPrediction(embedding_look_up, G, G_train, testing_pos_edges,0)\n",
    "auc_roc, auc_pr, accuracy, f1 = result\n",
    "_results['results_SVD'] = dict(\n",
    "                auc_roc=auc_roc,\n",
    "                auc_pr=auc_pr,\n",
    "                accuracy=accuracy,\n",
    "                f1=f1,\n",
    "            )\n",
    "print(_results)"
   ]
  },
  {
   "cell_type": "code",
   "execution_count": 63,
   "outputs": [
    {
     "name": "stdout",
     "output_type": "stream",
     "text": [
      "{'results_SVD': {'auc_roc': 0.9205100348039769, 'auc_pr': 0.910475455867572, 'accuracy': 0.8391798367937197, 'f1': 0.839201429412433}}\n"
     ]
    }
   ],
   "source": [
    "print(_results)"
   ],
   "metadata": {
    "collapsed": false,
    "pycharm": {
     "name": "#%%\n"
    }
   }
  },
  {
   "cell_type": "code",
   "execution_count": 65,
   "metadata": {
    "pycharm": {
     "name": "#%%\n"
    }
   },
   "outputs": [
    {
     "name": "stdout",
     "output_type": "stream",
     "text": [
      "Loading training graph for learning embedding...\n",
      "Graph Loaded...\n",
      "Nodes with embedding: 2191\n",
      "######### Link Prediction Performance #########\n",
      "AUC-ROC: 0.925, AUC-PR: 0.914, Accuracy: 0.846, F1: 0.847\n",
      "##################################################\n",
      "{'results_SVD': {'auc_roc': 0.9205100348039769, 'auc_pr': 0.910475455867572, 'accuracy': 0.8391798367937197, 'f1': 0.839201429412433}, 'results_HOPE': {'auc_roc': 0.9253347000170004, 'auc_pr': 0.9138643318115764, 'accuracy': 0.8459043487243053, 'f1': 0.8473705749948844}}\n"
     ]
    }
   ],
   "source": [
    "g = read_for_OpenNE(train_graph_filename, weighted=None)\n",
    "model = hope.HOPE(g, 100)\n",
    "model.save_embeddings(HOPE_OutputFile)\n",
    "\n",
    "embedding_look_up = load_embedding(HOPE_OutputFile)\n",
    "result = LinkPrediction(embedding_look_up, G, G_train, testing_pos_edges,0)\n",
    "auc_roc, auc_pr, accuracy, f1 = result\n",
    "_results['results_HOPE'] = dict(\n",
    "                auc_roc=auc_roc,\n",
    "                auc_pr=auc_pr,\n",
    "                accuracy=accuracy,\n",
    "                f1=f1,\n",
    "            )\n",
    "print(_results)\n"
   ]
  },
  {
   "cell_type": "code",
   "execution_count": 12,
   "metadata": {
    "pycharm": {
     "name": "#%%\n"
    }
   },
   "outputs": [
    {
     "name": "stdout",
     "output_type": "stream",
     "text": [
      "Nodes with embedding: 2191\n",
      "######### Link Prediction Performance #########\n",
      "AUC-ROC: 0.926, AUC-PR: 0.914, Accuracy: 0.846, F1: 0.848\n",
      "##################################################\n",
      "{'results': {'auc_roc': 0.9255487049587128, 'auc_pr': 0.9136624419759092, 'accuracy': 0.8461006094411734, 'f1': 0.847591476825189}}\n"
     ]
    },
    {
     "name": "stderr",
     "output_type": "stream",
     "text": [
      "c:\\users\\ayhanak\\.conda\\envs\\dmprj\\lib\\site-packages\\sklearn\\linear_model\\_logistic.py:764: ConvergenceWarning: lbfgs failed to converge (status=1):\n",
      "STOP: TOTAL NO. of ITERATIONS REACHED LIMIT.\n",
      "\n",
      "Increase the number of iterations (max_iter) or scale the data as shown in:\n",
      "    https://scikit-learn.org/stable/modules/preprocessing.html\n",
      "Please also refer to the documentation for alternative solver options:\n",
      "    https://scikit-learn.org/stable/modules/linear_model.html#logistic-regression\n",
      "  extra_warning_msg=_LOGISTIC_SOLVER_CONVERGENCE_MSG)\n"
     ]
    }
   ],
   "source": []
  },
  {
   "cell_type": "code",
   "execution_count": 66,
   "metadata": {
    "pycharm": {
     "name": "#%%\n"
    }
   },
   "outputs": [
    {
     "name": "stdout",
     "output_type": "stream",
     "text": [
      "Loading training graph for learning embedding...\n",
      "Graph Loaded...\n",
      "begin norm_lap_mat\n",
      "finish norm_lap_mat\n",
      "finish getLap...\n",
      "finish eigh(lap_mat)...\n",
      "Nodes with embedding: 2191\n",
      "######### Link Prediction Performance #########\n",
      "AUC-ROC: 0.797, AUC-PR: 0.753, Accuracy: 0.717, F1: 0.726\n",
      "##################################################\n",
      "{'results_SVD': {'auc_roc': 0.9205100348039769, 'auc_pr': 0.910475455867572, 'accuracy': 0.8391798367937197, 'f1': 0.839201429412433}, 'results_HOPE': {'auc_roc': 0.9253347000170004, 'auc_pr': 0.9138643318115764, 'accuracy': 0.8459043487243053, 'f1': 0.8473705749948844}, 'results_LaplacianEigenmaps': {'auc_roc': 0.7965015224159093, 'auc_pr': 0.7531693556677534, 'accuracy': 0.7170436938332817, 'f1': 0.7260836958152093}}\n"
     ]
    },
    {
     "name": "stderr",
     "output_type": "stream",
     "text": [
      "c:\\users\\ayhanak\\.conda\\envs\\dmprj\\lib\\site-packages\\sklearn\\linear_model\\_logistic.py:764: ConvergenceWarning: lbfgs failed to converge (status=1):\n",
      "STOP: TOTAL NO. of ITERATIONS REACHED LIMIT.\n",
      "\n",
      "Increase the number of iterations (max_iter) or scale the data as shown in:\n",
      "    https://scikit-learn.org/stable/modules/preprocessing.html\n",
      "Please also refer to the documentation for alternative solver options:\n",
      "    https://scikit-learn.org/stable/modules/linear_model.html#logistic-regression\n",
      "  extra_warning_msg=_LOGISTIC_SOLVER_CONVERGENCE_MSG)\n"
     ]
    }
   ],
   "source": [
    "g = read_for_OpenNE(train_graph_filename, weighted=None)\n",
    "model = lap.LaplacianEigenmaps(g, rep_size=100)\n",
    "model.save_embeddings(LAPLACIAN_OutputFile)\n",
    "\n",
    "embedding_look_up = load_embedding(LAPLACIAN_OutputFile)\n",
    "result = LinkPrediction(embedding_look_up, G, G_train, testing_pos_edges,0)\n",
    "auc_roc, auc_pr, accuracy, f1 = result\n",
    "_results['results_LaplacianEigenmaps'] = dict(\n",
    "                auc_roc=auc_roc,\n",
    "                auc_pr=auc_pr,\n",
    "                accuracy=accuracy,\n",
    "                f1=f1,\n",
    "            )\n",
    "print(_results)"
   ]
  },
  {
   "cell_type": "code",
   "execution_count": 13,
   "metadata": {
    "pycharm": {
     "name": "#%%\n"
    }
   },
   "outputs": [
    {
     "name": "stdout",
     "output_type": "stream",
     "text": [
      "Nodes with embedding: 2191\n",
      "######### Link Prediction Performance #########\n",
      "AUC-ROC: 0.790, AUC-PR: 0.747, Accuracy: 0.713, F1: 0.723\n",
      "##################################################\n",
      "{'results': {'auc_roc': 0.7899242409668337, 'auc_pr': 0.7466999880131888, 'accuracy': 0.7126949695279413, 'f1': 0.7231225611212868}}\n"
     ]
    },
    {
     "name": "stderr",
     "output_type": "stream",
     "text": [
      "c:\\users\\ayhanak\\.conda\\envs\\dmprj\\lib\\site-packages\\sklearn\\linear_model\\_logistic.py:764: ConvergenceWarning: lbfgs failed to converge (status=1):\n",
      "STOP: TOTAL NO. of ITERATIONS REACHED LIMIT.\n",
      "\n",
      "Increase the number of iterations (max_iter) or scale the data as shown in:\n",
      "    https://scikit-learn.org/stable/modules/preprocessing.html\n",
      "Please also refer to the documentation for alternative solver options:\n",
      "    https://scikit-learn.org/stable/modules/linear_model.html#logistic-regression\n",
      "  extra_warning_msg=_LOGISTIC_SOLVER_CONVERGENCE_MSG)\n"
     ]
    }
   ],
   "source": []
  },
  {
   "cell_type": "code",
   "execution_count": 67,
   "metadata": {
    "pycharm": {
     "name": "#%%\n"
    }
   },
   "outputs": [
    {
     "name": "stdout",
     "output_type": "stream",
     "text": [
      "Loading training graph for learning embedding...\n",
      "Graph Loaded...\n",
      "total iter: 2191\n",
      "step 0: total loss: 273393.47, l1 loss: 434840.12, l2 loss: 142940.05\n",
      "step 50: total loss: 3466960.2, l1 loss: 7909614.0, l2 loss: 1094073.2\n",
      "step 100: total loss: 433145.1, l1 loss: 1338546.0, l2 loss: 31578.34\n",
      "step 150: total loss: 54481.797, l1 loss: 165736.52, l2 loss: 4757.884\n",
      "step 200: total loss: 530112.56, l1 loss: 1405555.0, l2 loss: 108443.05\n",
      "step 250: total loss: 814271.3, l1 loss: 2647800.0, l2 loss: 19928.158\n",
      "step 300: total loss: 45460.133, l1 loss: 137978.19, l2 loss: 4063.6428\n",
      "step 350: total loss: 85818.53, l1 loss: 281510.94, l2 loss: 1362.2308\n",
      "step 400: total loss: 15837.343, l1 loss: 50318.625, l2 loss: 738.7417\n",
      "step 450: total loss: 15029.827, l1 loss: 48288.547, l2 loss: 540.26245\n",
      "step 500: total loss: 40313.79, l1 loss: 130247.48, l2 loss: 1236.5481\n",
      "step 550: total loss: 10104.907, l1 loss: 32668.588, l2 loss: 301.33853\n",
      "step 600: total loss: 6574.148, l1 loss: 21338.994, l2 loss: 169.46051\n",
      "step 650: total loss: 5971.2217, l1 loss: 19059.635, l2 loss: 250.34557\n",
      "step 700: total loss: 4632.7676, l1 loss: 14975.723, l2 loss: 137.06848\n",
      "step 750: total loss: 3944.5637, l1 loss: 12743.75, l2 loss: 118.4583\n",
      "step 800: total loss: 4011.032, l1 loss: 12968.223, l2 loss: 117.587296\n",
      "step 850: total loss: 3421.8704, l1 loss: 11103.709, l2 loss: 87.782425\n",
      "step 900: total loss: 3300.8726, l1 loss: 10594.671, l2 loss: 119.49843\n",
      "step 950: total loss: 1599.1517, l1 loss: 5077.3115, l2 loss: 72.98709\n",
      "step 1000: total loss: 2414.0005, l1 loss: 7766.671, l2 loss: 81.02937\n",
      "step 1050: total loss: 6978.2305, l1 loss: 22809.64, l2 loss: 132.37022\n",
      "step 1100: total loss: 1874.165, l1 loss: 6036.059, l2 loss: 60.381027\n",
      "step 1150: total loss: 4677.121, l1 loss: 15192.212, l2 loss: 116.49288\n",
      "step 1200: total loss: 1759.1918, l1 loss: 5657.1694, l2 loss: 59.077396\n",
      "step 1250: total loss: 1706.2336, l1 loss: 5525.9346, l2 loss: 45.490864\n",
      "step 1300: total loss: 1698.7662, l1 loss: 5488.339, l2 loss: 49.302826\n",
      "step 1350: total loss: 1230.0798, l1 loss: 3905.47, l2 loss: 55.478027\n",
      "step 1400: total loss: 1739.5985, l1 loss: 5626.7695, l2 loss: 48.60797\n",
      "step 1450: total loss: 1250.6917, l1 loss: 4019.7988, l2 loss: 41.793186\n",
      "step 1500: total loss: 1959.5746, l1 loss: 6307.539, l2 loss: 64.35466\n",
      "step 1550: total loss: 1744.5103, l1 loss: 5564.2964, l2 loss: 72.26392\n",
      "step 1600: total loss: 1007.56055, l1 loss: 3246.1023, l2 loss: 30.77314\n",
      "step 1650: total loss: 1082.2092, l1 loss: 3411.306, l2 loss: 55.86148\n",
      "step 1700: total loss: 758.6271, l1 loss: 2431.6157, l2 loss: 26.187225\n",
      "step 1750: total loss: 1360.518, l1 loss: 4413.9443, l2 loss: 33.38\n",
      "step 1800: total loss: 1096.9036, l1 loss: 3534.8599, l2 loss: 33.49153\n",
      "step 1850: total loss: 1013.8565, l1 loss: 3255.0962, l2 loss: 34.37388\n",
      "step 1900: total loss: 754.86743, l1 loss: 2414.817, l2 loss: 27.469215\n",
      "step 1950: total loss: 981.0677, l1 loss: 3144.6162, l2 loss: 34.7302\n",
      "step 2000: total loss: 795.58167, l1 loss: 2567.06, l2 loss: 22.51147\n",
      "step 2050: total loss: 706.57806, l1 loss: 2252.561, l2 loss: 27.857822\n",
      "step 2100: total loss: 1078.8877, l1 loss: 3413.1794, l2 loss: 51.98224\n",
      "step 2150: total loss: 644.5901, l1 loss: 2062.359, l2 loss: 22.931303\n",
      "Nodes with embedding: 2191\n",
      "######### Link Prediction Performance #########\n",
      "AUC-ROC: 0.890, AUC-PR: 0.870, Accuracy: 0.811, F1: 0.815\n",
      "##################################################\n",
      "{'results_SVD': {'auc_roc': 0.9205100348039769, 'auc_pr': 0.910475455867572, 'accuracy': 0.8391798367937197, 'f1': 0.839201429412433}, 'results_HOPE': {'auc_roc': 0.9253347000170004, 'auc_pr': 0.9138643318115764, 'accuracy': 0.8459043487243053, 'f1': 0.8473705749948844}, 'results_LaplacianEigenmaps': {'auc_roc': 0.7965015224159093, 'auc_pr': 0.7531693556677534, 'accuracy': 0.7170436938332817, 'f1': 0.7260836958152093}, 'results_SDNE': {'auc_roc': 0.8899705610525179, 'auc_pr': 0.8701687358744669, 'accuracy': 0.8105154426195641, 'f1': 0.8149127232368076}}\n"
     ]
    },
    {
     "name": "stderr",
     "output_type": "stream",
     "text": [
      "c:\\users\\ayhanak\\.conda\\envs\\dmprj\\lib\\site-packages\\sklearn\\linear_model\\_logistic.py:764: ConvergenceWarning: lbfgs failed to converge (status=1):\n",
      "STOP: TOTAL NO. of ITERATIONS REACHED LIMIT.\n",
      "\n",
      "Increase the number of iterations (max_iter) or scale the data as shown in:\n",
      "    https://scikit-learn.org/stable/modules/preprocessing.html\n",
      "Please also refer to the documentation for alternative solver options:\n",
      "    https://scikit-learn.org/stable/modules/linear_model.html#logistic-regression\n",
      "  extra_warning_msg=_LOGISTIC_SOLVER_CONVERGENCE_MSG)\n"
     ]
    }
   ],
   "source": [
    "import ast\n",
    "g = read_for_OpenNE(train_graph_filename, weighted=None)\n",
    "encoder_layer_list = ast.literal_eval('[1000, 128]')\n",
    "model = sdne.SDNE(g, encoder_layer_list=encoder_layer_list,\n",
    "                              alpha=0.3, beta=0, nu1=1e-5, nu2=1e-4,\n",
    "                              batch_size=200, epoch=200, learning_rate=0.01)\n",
    "model.save_embeddings(SDNE_OutputFile)\n",
    "\n",
    "embedding_look_up = load_embedding(SDNE_OutputFile)\n",
    "result = LinkPrediction(embedding_look_up, G, G_train, testing_pos_edges,0)\n",
    "auc_roc, auc_pr, accuracy, f1 = result\n",
    "_results['results_SDNE'] = dict(\n",
    "                auc_roc=auc_roc,\n",
    "                auc_pr=auc_pr,\n",
    "                accuracy=accuracy,\n",
    "                f1=f1,\n",
    "            )\n",
    "print(_results)\n"
   ]
  },
  {
   "cell_type": "code",
   "execution_count": 76,
   "outputs": [
    {
     "name": "stdout",
     "output_type": "stream",
     "text": [
      "results_SVD\n",
      "{'auc_roc': 0.9205100348039769, 'auc_pr': 0.910475455867572, 'accuracy': 0.8391798367937197, 'f1': 0.839201429412433}\n",
      "results_HOPE\n",
      "{'auc_roc': 0.9253347000170004, 'auc_pr': 0.9138643318115764, 'accuracy': 0.8459043487243053, 'f1': 0.8473705749948844}\n",
      "results_LaplacianEigenmaps\n",
      "{'auc_roc': 0.7965015224159093, 'auc_pr': 0.7531693556677534, 'accuracy': 0.7170436938332817, 'f1': 0.7260836958152093}\n",
      "results_SDNE\n",
      "{'auc_roc': 0.8899705610525179, 'auc_pr': 0.8701687358744669, 'accuracy': 0.8105154426195641, 'f1': 0.8149127232368076}\n"
     ]
    }
   ],
   "source": [
    "#print(_results)\n",
    "for i in _results:\n",
    "    print (i)\n",
    "    print(_results[i])"
   ],
   "metadata": {
    "collapsed": false,
    "pycharm": {
     "name": "#%%\n"
    }
   }
  },
  {
   "cell_type": "code",
   "execution_count": 9,
   "metadata": {
    "pycharm": {
     "name": "#%%\n"
    }
   },
   "outputs": [
    {
     "name": "stdout",
     "output_type": "stream",
     "text": [
      "Loading training graph for learning embedding...\n",
      "Graph Loaded...\n",
      "begin norm_lap_mat\n",
      "finish norm_lap_mat\n",
      "finish getLap...\n"
     ]
    },
    {
     "name": "stderr",
     "output_type": "stream",
     "text": [
      "c:\\users\\ayhanak\\.conda\\envs\\dmprj\\lib\\site-packages\\scipy\\sparse\\linalg\\eigen\\arpack\\arpack.py:1592: RuntimeWarning: k >= N for N * N square matrix. Attempting to use scipy.linalg.eigh instead.\n",
      "  RuntimeWarning)\n"
     ]
    },
    {
     "ename": "TypeError",
     "evalue": "Cannot use scipy.linalg.eigh for sparse A with k >= N. Use scipy.linalg.eigh(A.toarray()) or reduce k.",
     "output_type": "error",
     "traceback": [
      "\u001B[1;31m---------------------------------------------------------------------------\u001B[0m",
      "\u001B[1;31mTypeError\u001B[0m                                 Traceback (most recent call last)",
      "\u001B[1;32m<ipython-input-9-820b8328f363>\u001B[0m in \u001B[0;36m<module>\u001B[1;34m\u001B[0m\n\u001B[0;32m      1\u001B[0m \u001B[0mg\u001B[0m \u001B[1;33m=\u001B[0m \u001B[0mread_for_OpenNE\u001B[0m\u001B[1;33m(\u001B[0m\u001B[0mtrain_graph_filename\u001B[0m\u001B[1;33m,\u001B[0m \u001B[0mweighted\u001B[0m\u001B[1;33m=\u001B[0m\u001B[1;32mNone\u001B[0m\u001B[1;33m)\u001B[0m\u001B[1;33m\u001B[0m\u001B[0m\n\u001B[1;32m----> 2\u001B[1;33m \u001B[0mmodel\u001B[0m \u001B[1;33m=\u001B[0m \u001B[0mlap\u001B[0m\u001B[1;33m.\u001B[0m\u001B[0mLaplacianEigenmaps\u001B[0m\u001B[1;33m(\u001B[0m\u001B[0mg\u001B[0m\u001B[1;33m,\u001B[0m \u001B[0mrep_size\u001B[0m\u001B[1;33m=\u001B[0m\u001B[1;36m30\u001B[0m\u001B[1;33m)\u001B[0m\u001B[1;33m\u001B[0m\u001B[0m\n\u001B[0m\u001B[0;32m      3\u001B[0m \u001B[0mmodel\u001B[0m\u001B[1;33m.\u001B[0m\u001B[0msave_embeddings\u001B[0m\u001B[1;33m(\u001B[0m\u001B[0mLAPLACIAN_OutputFile\u001B[0m\u001B[1;33m)\u001B[0m\u001B[1;33m\u001B[0m\u001B[0m\n\u001B[0;32m      4\u001B[0m \u001B[1;33m\u001B[0m\u001B[0m\n",
      "\u001B[1;32mC:\\git\\DMPrj\\src\\bionev\\OpenNE\\lap.py\u001B[0m in \u001B[0;36m__init__\u001B[1;34m(self, graph, rep_size)\u001B[0m\n\u001B[0;32m     16\u001B[0m         \u001B[0mself\u001B[0m\u001B[1;33m.\u001B[0m\u001B[0madj_mat\u001B[0m \u001B[1;33m=\u001B[0m \u001B[0mnx\u001B[0m\u001B[1;33m.\u001B[0m\u001B[0mto_numpy_array\u001B[0m\u001B[1;33m(\u001B[0m\u001B[0mself\u001B[0m\u001B[1;33m.\u001B[0m\u001B[0mg\u001B[0m\u001B[1;33m.\u001B[0m\u001B[0mG\u001B[0m\u001B[1;33m)\u001B[0m\u001B[1;33m\u001B[0m\u001B[0m\n\u001B[0;32m     17\u001B[0m         \u001B[0mself\u001B[0m\u001B[1;33m.\u001B[0m\u001B[0mvectors\u001B[0m \u001B[1;33m=\u001B[0m \u001B[1;33m{\u001B[0m\u001B[1;33m}\u001B[0m\u001B[1;33m\u001B[0m\u001B[0m\n\u001B[1;32m---> 18\u001B[1;33m         \u001B[0mself\u001B[0m\u001B[1;33m.\u001B[0m\u001B[0membeddings\u001B[0m \u001B[1;33m=\u001B[0m \u001B[0mself\u001B[0m\u001B[1;33m.\u001B[0m\u001B[0mget_train\u001B[0m\u001B[1;33m(\u001B[0m\u001B[1;33m)\u001B[0m\u001B[1;33m\u001B[0m\u001B[0m\n\u001B[0m\u001B[0;32m     19\u001B[0m         \u001B[0mlook_back\u001B[0m \u001B[1;33m=\u001B[0m \u001B[0mself\u001B[0m\u001B[1;33m.\u001B[0m\u001B[0mg\u001B[0m\u001B[1;33m.\u001B[0m\u001B[0mlook_back_list\u001B[0m\u001B[1;33m\u001B[0m\u001B[0m\n\u001B[0;32m     20\u001B[0m \u001B[1;33m\u001B[0m\u001B[0m\n",
      "\u001B[1;32mC:\\git\\DMPrj\\src\\bionev\\OpenNE\\lap.py\u001B[0m in \u001B[0;36mget_train\u001B[1;34m(self)\u001B[0m\n\u001B[0;32m     50\u001B[0m         \u001B[0mlap_mat\u001B[0m \u001B[1;33m=\u001B[0m \u001B[0mself\u001B[0m\u001B[1;33m.\u001B[0m\u001B[0mgetLap\u001B[0m\u001B[1;33m(\u001B[0m\u001B[1;33m)\u001B[0m\u001B[1;33m\u001B[0m\u001B[0m\n\u001B[0;32m     51\u001B[0m         \u001B[0mprint\u001B[0m\u001B[1;33m(\u001B[0m\u001B[1;34m'finish getLap...'\u001B[0m\u001B[1;33m)\u001B[0m\u001B[1;33m\u001B[0m\u001B[0m\n\u001B[1;32m---> 52\u001B[1;33m         \u001B[0mw\u001B[0m\u001B[1;33m,\u001B[0m \u001B[0mvec\u001B[0m \u001B[1;33m=\u001B[0m \u001B[0meigsh\u001B[0m\u001B[1;33m(\u001B[0m\u001B[0mlap_mat\u001B[0m\u001B[1;33m,\u001B[0m \u001B[0mk\u001B[0m\u001B[1;33m=\u001B[0m\u001B[0mself\u001B[0m\u001B[1;33m.\u001B[0m\u001B[0mrep_size\u001B[0m\u001B[1;33m)\u001B[0m\u001B[1;33m\u001B[0m\u001B[0m\n\u001B[0m\u001B[0;32m     53\u001B[0m         \u001B[0mprint\u001B[0m\u001B[1;33m(\u001B[0m\u001B[1;34m'finish eigh(lap_mat)...'\u001B[0m\u001B[1;33m)\u001B[0m\u001B[1;33m\u001B[0m\u001B[0m\n\u001B[0;32m     54\u001B[0m         \u001B[1;31m# start = 0\u001B[0m\u001B[1;33m\u001B[0m\u001B[1;33m\u001B[0m\u001B[0m\n",
      "\u001B[1;32mc:\\users\\ayhanak\\.conda\\envs\\dmprj\\lib\\site-packages\\scipy\\sparse\\linalg\\eigen\\arpack\\arpack.py\u001B[0m in \u001B[0;36meigsh\u001B[1;34m(A, k, M, sigma, which, v0, ncv, maxiter, tol, return_eigenvectors, Minv, OPinv, mode)\u001B[0m\n\u001B[0;32m   1593\u001B[0m \u001B[1;33m\u001B[0m\u001B[0m\n\u001B[0;32m   1594\u001B[0m         \u001B[1;32mif\u001B[0m \u001B[0missparse\u001B[0m\u001B[1;33m(\u001B[0m\u001B[0mA\u001B[0m\u001B[1;33m)\u001B[0m\u001B[1;33m:\u001B[0m\u001B[1;33m\u001B[0m\u001B[0m\n\u001B[1;32m-> 1595\u001B[1;33m             raise TypeError(\"Cannot use scipy.linalg.eigh for sparse A with \"\n\u001B[0m\u001B[0;32m   1596\u001B[0m                             \u001B[1;34m\"k >= N. Use scipy.linalg.eigh(A.toarray()) or\"\u001B[0m\u001B[1;33m\u001B[0m\u001B[0m\n\u001B[0;32m   1597\u001B[0m                             \" reduce k.\")\n",
      "\u001B[1;31mTypeError\u001B[0m: Cannot use scipy.linalg.eigh for sparse A with k >= N. Use scipy.linalg.eigh(A.toarray()) or reduce k."
     ]
    }
   ],
   "source": [
    "#################TESTING PURPOSE  ########################################################\n",
    "g = read_for_OpenNE(train_graph_filename, weighted=None)\n",
    "model = lap.LaplacianEigenmaps(g, rep_size=100)\n",
    "model.save_embeddings(LAPLACIAN_OutputFile)"
   ]
  },
  {
   "cell_type": "code",
   "execution_count": 5,
   "metadata": {
    "pycharm": {
     "name": "#%%\n"
    }
   },
   "outputs": [
    {
     "name": "stdout",
     "output_type": "stream",
     "text": [
      "Loading training graph for learning embedding...\n",
      "Graph Loaded...\n",
      "Parameters path_length, num_paths, p, q, workers: 10 5 1 1 8\n",
      "Preprocess transition probs...\n",
      "Begin random walk...\n",
      "Walk finished...\n",
      "Learning representation...\n",
      "tests\n",
      "test1\n"
     ]
    }
   ],
   "source": [
    "g = read_for_OpenNE(train_graph_filename, weighted=None)\n",
    "from bionev.OpenNE import node2vec\n",
    "model = node2vec.Node2vec(g,path_length=10,num_paths=5,dim=100,workers=8,p=1,q=1,window=10)\n",
    "model.save_embeddings(\"C:/git/DMPrj/embeddings/NODE2VECTest2_OutputFile\")\n",
    "print('tests')\n",
    "\n",
    "#model.save_embeddings(NODE2VEC_OutputFile)\n",
    "print(\"test1\")"
   ]
  },
  {
   "cell_type": "code",
   "execution_count": 5,
   "metadata": {
    "pycharm": {
     "name": "#%%\n"
    }
   },
   "outputs": [
    {
     "name": "stdout",
     "output_type": "stream",
     "text": [
      "Loading training graph for learning embedding...\n",
      "Graph Loaded...\n",
      "Parameters path_length, num_paths, p, q, workers: 10 5 1 1 8\n",
      "Preprocess transition probs...\n"
     ]
    },
    {
     "ename": "KeyboardInterrupt",
     "evalue": "",
     "output_type": "error",
     "traceback": [
      "\u001B[1;31m---------------------------------------------------------------------------\u001B[0m",
      "\u001B[1;31mKeyboardInterrupt\u001B[0m                         Traceback (most recent call last)",
      "\u001B[1;32m<ipython-input-5-f10bcfb531dd>\u001B[0m in \u001B[0;36m<module>\u001B[1;34m\u001B[0m\n\u001B[0;32m     13\u001B[0m \u001B[0mg\u001B[0m \u001B[1;33m=\u001B[0m \u001B[0mread_for_OpenNE\u001B[0m\u001B[1;33m(\u001B[0m\u001B[0mtrain_graph_filename\u001B[0m\u001B[1;33m,\u001B[0m \u001B[0mweighted\u001B[0m\u001B[1;33m=\u001B[0m\u001B[1;32mNone\u001B[0m\u001B[1;33m)\u001B[0m\u001B[1;33m\u001B[0m\u001B[0m\n\u001B[0;32m     14\u001B[0m \u001B[1;32mfrom\u001B[0m \u001B[0mbionev\u001B[0m\u001B[1;33m.\u001B[0m\u001B[0mOpenNE\u001B[0m \u001B[1;32mimport\u001B[0m \u001B[0mnode2vec\u001B[0m\u001B[1;33m\u001B[0m\u001B[0m\n\u001B[1;32m---> 15\u001B[1;33m \u001B[0mmodel\u001B[0m \u001B[1;33m=\u001B[0m \u001B[0mnode2vec\u001B[0m\u001B[1;33m.\u001B[0m\u001B[0mNode2vec\u001B[0m\u001B[1;33m(\u001B[0m\u001B[0mg\u001B[0m\u001B[1;33m,\u001B[0m\u001B[0mpath_length\u001B[0m\u001B[1;33m=\u001B[0m\u001B[1;36m10\u001B[0m\u001B[1;33m,\u001B[0m\u001B[0mnum_paths\u001B[0m\u001B[1;33m=\u001B[0m\u001B[1;36m5\u001B[0m\u001B[1;33m,\u001B[0m\u001B[0mdim\u001B[0m\u001B[1;33m=\u001B[0m\u001B[1;36m100\u001B[0m\u001B[1;33m,\u001B[0m\u001B[0mworkers\u001B[0m\u001B[1;33m=\u001B[0m\u001B[1;36m8\u001B[0m\u001B[1;33m,\u001B[0m\u001B[0mp\u001B[0m\u001B[1;33m=\u001B[0m\u001B[1;36m1\u001B[0m\u001B[1;33m,\u001B[0m\u001B[0mq\u001B[0m\u001B[1;33m=\u001B[0m\u001B[1;36m1\u001B[0m\u001B[1;33m,\u001B[0m\u001B[0mwindow\u001B[0m\u001B[1;33m=\u001B[0m\u001B[1;36m10\u001B[0m\u001B[1;33m)\u001B[0m\u001B[1;33m\u001B[0m\u001B[0m\n\u001B[0m\u001B[0;32m     16\u001B[0m \u001B[0mmodel\u001B[0m\u001B[1;33m.\u001B[0m\u001B[0msave_embeddings\u001B[0m\u001B[1;33m(\u001B[0m\u001B[0mNODE2VEC_OutputFile3\u001B[0m\u001B[1;33m)\u001B[0m\u001B[1;33m\u001B[0m\u001B[0m\n\u001B[0;32m     17\u001B[0m \u001B[1;33m\u001B[0m\u001B[0m\n",
      "\u001B[1;32mC:\\git\\DMPrj\\src\\bionev\\OpenNE\\node2vec.py\u001B[0m in \u001B[0;36m__init__\u001B[1;34m(self, graph, path_length, num_paths, dim, p, q, dw, **kwargs)\u001B[0m\n\u001B[0;32m     23\u001B[0m                 graph, p=p, q=q, workers=kwargs[\"workers\"])\n\u001B[0;32m     24\u001B[0m             \u001B[0mprint\u001B[0m\u001B[1;33m(\u001B[0m\u001B[1;34m\"Preprocess transition probs...\"\u001B[0m\u001B[1;33m)\u001B[0m\u001B[1;33m\u001B[0m\u001B[0m\n\u001B[1;32m---> 25\u001B[1;33m             \u001B[0mself\u001B[0m\u001B[1;33m.\u001B[0m\u001B[0mwalker\u001B[0m\u001B[1;33m.\u001B[0m\u001B[0mpreprocess_transition_probs\u001B[0m\u001B[1;33m(\u001B[0m\u001B[1;33m)\u001B[0m\u001B[1;33m\u001B[0m\u001B[0m\n\u001B[0m\u001B[0;32m     26\u001B[0m         sentences = self.walker.simulate_walks(\n\u001B[0;32m     27\u001B[0m             num_walks=num_paths, walk_length=path_length)\n",
      "\u001B[1;32mC:\\git\\DMPrj\\src\\bionev\\OpenNE\\walker.py\u001B[0m in \u001B[0;36mpreprocess_transition_probs\u001B[1;34m(self)\u001B[0m\n\u001B[0;32m    156\u001B[0m         \u001B[0mnode_size\u001B[0m \u001B[1;33m=\u001B[0m \u001B[0mself\u001B[0m\u001B[1;33m.\u001B[0m\u001B[0mnode_size\u001B[0m\u001B[1;33m\u001B[0m\u001B[0m\n\u001B[0;32m    157\u001B[0m         \u001B[1;32mfor\u001B[0m \u001B[0medge\u001B[0m \u001B[1;32min\u001B[0m \u001B[0mG\u001B[0m\u001B[1;33m.\u001B[0m\u001B[0medges\u001B[0m\u001B[1;33m(\u001B[0m\u001B[1;33m)\u001B[0m\u001B[1;33m:\u001B[0m\u001B[1;33m\u001B[0m\u001B[0m\n\u001B[1;32m--> 158\u001B[1;33m             \u001B[0malias_edges\u001B[0m\u001B[1;33m[\u001B[0m\u001B[0medge\u001B[0m\u001B[1;33m]\u001B[0m \u001B[1;33m=\u001B[0m \u001B[0mself\u001B[0m\u001B[1;33m.\u001B[0m\u001B[0mget_alias_edge\u001B[0m\u001B[1;33m(\u001B[0m\u001B[0medge\u001B[0m\u001B[1;33m[\u001B[0m\u001B[1;36m0\u001B[0m\u001B[1;33m]\u001B[0m\u001B[1;33m,\u001B[0m \u001B[0medge\u001B[0m\u001B[1;33m[\u001B[0m\u001B[1;36m1\u001B[0m\u001B[1;33m]\u001B[0m\u001B[1;33m)\u001B[0m\u001B[1;33m\u001B[0m\u001B[0m\n\u001B[0m\u001B[0;32m    159\u001B[0m \u001B[1;33m\u001B[0m\u001B[0m\n\u001B[0;32m    160\u001B[0m         \u001B[0mself\u001B[0m\u001B[1;33m.\u001B[0m\u001B[0malias_nodes\u001B[0m \u001B[1;33m=\u001B[0m \u001B[0malias_nodes\u001B[0m\u001B[1;33m\u001B[0m\u001B[0m\n",
      "\u001B[1;32mC:\\git\\DMPrj\\src\\bionev\\OpenNE\\walker.py\u001B[0m in \u001B[0;36mget_alias_edge\u001B[1;34m(self, src, dst)\u001B[0m\n\u001B[0;32m    126\u001B[0m                 \u001B[0munnormalized_probs\u001B[0m\u001B[1;33m.\u001B[0m\u001B[0mappend\u001B[0m\u001B[1;33m(\u001B[0m\u001B[0mG\u001B[0m\u001B[1;33m[\u001B[0m\u001B[0mdst\u001B[0m\u001B[1;33m]\u001B[0m\u001B[1;33m[\u001B[0m\u001B[0mdst_nbr\u001B[0m\u001B[1;33m]\u001B[0m\u001B[1;33m[\u001B[0m\u001B[1;34m'weight'\u001B[0m\u001B[1;33m]\u001B[0m \u001B[1;33m/\u001B[0m \u001B[0mp\u001B[0m\u001B[1;33m)\u001B[0m\u001B[1;33m\u001B[0m\u001B[0m\n\u001B[0;32m    127\u001B[0m             \u001B[1;32melif\u001B[0m \u001B[0mG\u001B[0m\u001B[1;33m.\u001B[0m\u001B[0mhas_edge\u001B[0m\u001B[1;33m(\u001B[0m\u001B[0mdst_nbr\u001B[0m\u001B[1;33m,\u001B[0m \u001B[0msrc\u001B[0m\u001B[1;33m)\u001B[0m\u001B[1;33m:\u001B[0m\u001B[1;33m\u001B[0m\u001B[0m\n\u001B[1;32m--> 128\u001B[1;33m                 \u001B[0munnormalized_probs\u001B[0m\u001B[1;33m.\u001B[0m\u001B[0mappend\u001B[0m\u001B[1;33m(\u001B[0m\u001B[0mG\u001B[0m\u001B[1;33m[\u001B[0m\u001B[0mdst\u001B[0m\u001B[1;33m]\u001B[0m\u001B[1;33m[\u001B[0m\u001B[0mdst_nbr\u001B[0m\u001B[1;33m]\u001B[0m\u001B[1;33m[\u001B[0m\u001B[1;34m'weight'\u001B[0m\u001B[1;33m]\u001B[0m\u001B[1;33m)\u001B[0m\u001B[1;33m\u001B[0m\u001B[0m\n\u001B[0m\u001B[0;32m    129\u001B[0m             \u001B[1;32melse\u001B[0m\u001B[1;33m:\u001B[0m\u001B[1;33m\u001B[0m\u001B[0m\n\u001B[0;32m    130\u001B[0m                 \u001B[0munnormalized_probs\u001B[0m\u001B[1;33m.\u001B[0m\u001B[0mappend\u001B[0m\u001B[1;33m(\u001B[0m\u001B[0mG\u001B[0m\u001B[1;33m[\u001B[0m\u001B[0mdst\u001B[0m\u001B[1;33m]\u001B[0m\u001B[1;33m[\u001B[0m\u001B[0mdst_nbr\u001B[0m\u001B[1;33m]\u001B[0m\u001B[1;33m[\u001B[0m\u001B[1;34m'weight'\u001B[0m\u001B[1;33m]\u001B[0m \u001B[1;33m/\u001B[0m \u001B[0mq\u001B[0m\u001B[1;33m)\u001B[0m\u001B[1;33m\u001B[0m\u001B[0m\n",
      "\u001B[1;32mc:\\users\\ayhanak\\.conda\\envs\\dmprj\\lib\\site-packages\\networkx\\classes\\coreviews.py\u001B[0m in \u001B[0;36m__getitem__\u001B[1;34m(self, key)\u001B[0m\n\u001B[0;32m     52\u001B[0m \u001B[1;33m\u001B[0m\u001B[0m\n\u001B[0;32m     53\u001B[0m     \u001B[1;32mdef\u001B[0m \u001B[0m__getitem__\u001B[0m\u001B[1;33m(\u001B[0m\u001B[0mself\u001B[0m\u001B[1;33m,\u001B[0m \u001B[0mkey\u001B[0m\u001B[1;33m)\u001B[0m\u001B[1;33m:\u001B[0m\u001B[1;33m\u001B[0m\u001B[0m\n\u001B[1;32m---> 54\u001B[1;33m         \u001B[1;32mreturn\u001B[0m \u001B[0mself\u001B[0m\u001B[1;33m.\u001B[0m\u001B[0m_atlas\u001B[0m\u001B[1;33m[\u001B[0m\u001B[0mkey\u001B[0m\u001B[1;33m]\u001B[0m\u001B[1;33m\u001B[0m\u001B[0m\n\u001B[0m\u001B[0;32m     55\u001B[0m \u001B[1;33m\u001B[0m\u001B[0m\n\u001B[0;32m     56\u001B[0m     \u001B[1;32mdef\u001B[0m \u001B[0mcopy\u001B[0m\u001B[1;33m(\u001B[0m\u001B[0mself\u001B[0m\u001B[1;33m)\u001B[0m\u001B[1;33m:\u001B[0m\u001B[1;33m\u001B[0m\u001B[0m\n",
      "\u001B[1;31mKeyboardInterrupt\u001B[0m: "
     ]
    }
   ],
   "source": [
    "#model = node2vec.Node2vec(graph=G_, path_length=args.walk_length,\n",
    "#                                      num_paths=args.number_walks, dim=args.dimensions,\n",
    "#                                      workers=args.workers, window=args.window_size, dw=True)\n",
    "\n",
    "\n",
    "\n",
    "train_graph_filename= \"C:/git/DMPrj/data/DrugBank_DDI/DrugBank_DDI.edgelist\"\n",
    "#train_graph_filename= \"C:/git/BioNEV/data/DrugBank_DDI/Karate.edgelist\"\n",
    "\n",
    "from bionev.OpenNE import gf, grarep,graph, hope, lap, line, node2vec, sdne\n",
    "from bionev.OpenNE import node2vec\n",
    "\n",
    "g = read_for_OpenNE(train_graph_filename, weighted=None)\n",
    "from bionev.OpenNE import node2vec\n",
    "model = node2vec.Node2vec(g,path_length=10,num_paths=5,dim=100,workers=8,p=1,q=1,window=10)\n",
    "model.save_embeddings(NODE2VEC_OutputFile3)\n"
   ]
  },
  {
   "cell_type": "code",
   "execution_count": 7,
   "metadata": {
    "pycharm": {
     "name": "#%%\n"
    }
   },
   "outputs": [
    {
     "name": "stdout",
     "output_type": "stream",
     "text": [
      "C:\\git\\DMPrj\\src\\../data/drugbank.tsv\n"
     ]
    }
   ],
   "source": [
    "#dfdrugbank_filename=os.path.join(Homedir, '../data/drugbank.tsv')\n",
    "#print(dfdrugbank_filename)\n",
    "\n",
    "#################TESTING PURPOSE  ########################################################"
   ]
  },
  {
   "cell_type": "code",
   "execution_count": 3,
   "metadata": {
    "pycharm": {
     "name": "#%%\n"
    }
   },
   "outputs": [
    {
     "name": "stdout",
     "output_type": "stream",
     "text": [
      "    drugbank_id_x          name            type                    groups  \\\n",
      "139       DB00035  Desmopressin  small molecule                  approved   \n",
      "140       DB00035  Desmopressin  small molecule                  approved   \n",
      "143       DB00035  Desmopressin  small molecule                  approved   \n",
      "391       DB00091  Cyclosporine  small molecule  approved|investigational   \n",
      "392       DB00091  Cyclosporine  small molecule  approved|investigational   \n",
      "\n",
      "           atc_codes                                         categories  \\\n",
      "139          H01BA02       Antidiuretic Agents|Hemostatics|Renal Agents   \n",
      "140          H01BA02       Antidiuretic Agents|Hemostatics|Renal Agents   \n",
      "143          H01BA02       Antidiuretic Agents|Hemostatics|Renal Agents   \n",
      "391  L04AD01|S01XA18  Antirheumatic Agents|Dermatologic Agents|Immun...   \n",
      "392  L04AD01|S01XA18  Antirheumatic Agents|Dermatologic Agents|Immun...   \n",
      "\n",
      "                                 inchikey  \\\n",
      "139  InChIKey=NFLWUMRGJYTJIN-NXBWRCJVSA-N   \n",
      "140  InChIKey=NFLWUMRGJYTJIN-NXBWRCJVSA-N   \n",
      "143  InChIKey=NFLWUMRGJYTJIN-NXBWRCJVSA-N   \n",
      "391  InChIKey=PMATZTZNYRCHOR-IMVLJIQENA-N   \n",
      "392  InChIKey=PMATZTZNYRCHOR-IMVLJIQENA-N   \n",
      "\n",
      "                                                 inchi  \\\n",
      "139  InChI=1S/C46H64N14O12S2/c47-35(62)15-14-29-40(...   \n",
      "140  InChI=1S/C46H64N14O12S2/c47-35(62)15-14-29-40(...   \n",
      "143  InChI=1S/C46H64N14O12S2/c47-35(62)15-14-29-40(...   \n",
      "391  InChI=1/C62H111N11O12/c1-25-27-28-40(15)52(75)...   \n",
      "392  InChI=1/C62H111N11O12/c1-25-27-28-40(15)52(75)...   \n",
      "\n",
      "                                           description DrugBank_id  ...  \\\n",
      "139  Desmopressin is a chemical that is similar to ...     DB00035  ...   \n",
      "140  Desmopressin is a chemical that is similar to ...     DB00035  ...   \n",
      "143  Desmopressin is a chemical that is similar to ...     DB00035  ...   \n",
      "391  A cyclic undecapeptide from an extract of soil...     DB00091  ...   \n",
      "392  A cyclic undecapeptide from an extract of soil...     DB00091  ...   \n",
      "\n",
      "     uniprot_id  entrez_gene_id  organism  known_action  \\\n",
      "139      P35354          5743.0     Human       unknown   \n",
      "140      P30518           554.0     Human           yes   \n",
      "143      P23219          5742.0     Human       unknown   \n",
      "391      P08183          5243.0     Human       unknown   \n",
      "392      P08684          1576.0     Human       unknown   \n",
      "\n",
      "                         actions  \\\n",
      "139                      inducer   \n",
      "140                      agonist   \n",
      "143                      inducer   \n",
      "391  substrate|inhibitor|inducer   \n",
      "392          substrate|inhibitor   \n",
      "\n",
      "                                            pubmed_ids category_code  \\\n",
      "139                                           15644490             1   \n",
      "140                         18761325|16333859|11752352             2   \n",
      "143                                           15644490             1   \n",
      "391  12387747|10820137|10891114|11405287|11716514|1...             3   \n",
      "392                                  19934256|10490933             1   \n",
      "\n",
      "     actions_code organism_code groups_code  \n",
      "139            20            14           0  \n",
      "140             5            14           0  \n",
      "143            20            14           0  \n",
      "391            38            14           5  \n",
      "392            37            14           5  \n",
      "\n",
      "[5 rows x 26 columns]\n",
      "Index(['drugbank_id_x', 'name', 'type', 'groups', 'atc_codes', 'categories',\n",
      "       'inchikey', 'inchi', 'description', 'DrugBank_id', 'index', 'ID',\n",
      "       'NODEID', 'WEIGHT', 'drugbank_id_y', 'category', 'uniprot_id',\n",
      "       'entrez_gene_id', 'organism', 'known_action', 'actions', 'pubmed_ids',\n",
      "       'category_code', 'actions_code', 'organism_code', 'groups_code'],\n",
      "      dtype='object')\n"
     ]
    }
   ],
   "source": []
  },
  {
   "cell_type": "code",
   "execution_count": 77,
   "metadata": {
    "pycharm": {
     "name": "#%%\n"
    }
   },
   "outputs": [
    {
     "name": "stdout",
     "output_type": "stream",
     "text": [
      "    drugbank_id_x          name            type                    groups  \\\n",
      "139       DB00035  Desmopressin  small molecule                  approved   \n",
      "140       DB00035  Desmopressin  small molecule                  approved   \n",
      "143       DB00035  Desmopressin  small molecule                  approved   \n",
      "391       DB00091  Cyclosporine  small molecule  approved|investigational   \n",
      "392       DB00091  Cyclosporine  small molecule  approved|investigational   \n",
      "\n",
      "           atc_codes                                         categories  \\\n",
      "139          H01BA02       Antidiuretic Agents|Hemostatics|Renal Agents   \n",
      "140          H01BA02       Antidiuretic Agents|Hemostatics|Renal Agents   \n",
      "143          H01BA02       Antidiuretic Agents|Hemostatics|Renal Agents   \n",
      "391  L04AD01|S01XA18  Antirheumatic Agents|Dermatologic Agents|Immun...   \n",
      "392  L04AD01|S01XA18  Antirheumatic Agents|Dermatologic Agents|Immun...   \n",
      "\n",
      "                                 inchikey  \\\n",
      "139  InChIKey=NFLWUMRGJYTJIN-NXBWRCJVSA-N   \n",
      "140  InChIKey=NFLWUMRGJYTJIN-NXBWRCJVSA-N   \n",
      "143  InChIKey=NFLWUMRGJYTJIN-NXBWRCJVSA-N   \n",
      "391  InChIKey=PMATZTZNYRCHOR-IMVLJIQENA-N   \n",
      "392  InChIKey=PMATZTZNYRCHOR-IMVLJIQENA-N   \n",
      "\n",
      "                                                 inchi  \\\n",
      "139  InChI=1S/C46H64N14O12S2/c47-35(62)15-14-29-40(...   \n",
      "140  InChI=1S/C46H64N14O12S2/c47-35(62)15-14-29-40(...   \n",
      "143  InChI=1S/C46H64N14O12S2/c47-35(62)15-14-29-40(...   \n",
      "391  InChI=1/C62H111N11O12/c1-25-27-28-40(15)52(75)...   \n",
      "392  InChI=1/C62H111N11O12/c1-25-27-28-40(15)52(75)...   \n",
      "\n",
      "                                           description DrugBank_id  ...  \\\n",
      "139  Desmopressin is a chemical that is similar to ...     DB00035  ...   \n",
      "140  Desmopressin is a chemical that is similar to ...     DB00035  ...   \n",
      "143  Desmopressin is a chemical that is similar to ...     DB00035  ...   \n",
      "391  A cyclic undecapeptide from an extract of soil...     DB00091  ...   \n",
      "392  A cyclic undecapeptide from an extract of soil...     DB00091  ...   \n",
      "\n",
      "     uniprot_id  entrez_gene_id  organism  known_action  \\\n",
      "139      P35354          5743.0     Human       unknown   \n",
      "140      P30518           554.0     Human           yes   \n",
      "143      P23219          5742.0     Human       unknown   \n",
      "391      P08183          5243.0     Human       unknown   \n",
      "392      P08684          1576.0     Human       unknown   \n",
      "\n",
      "                         actions  \\\n",
      "139                      inducer   \n",
      "140                      agonist   \n",
      "143                      inducer   \n",
      "391  substrate|inhibitor|inducer   \n",
      "392          substrate|inhibitor   \n",
      "\n",
      "                                            pubmed_ids category_code  \\\n",
      "139                                           15644490             1   \n",
      "140                         18761325|16333859|11752352             2   \n",
      "143                                           15644490             1   \n",
      "391  12387747|10820137|10891114|11405287|11716514|1...             3   \n",
      "392                                  19934256|10490933             1   \n",
      "\n",
      "     actions_code organism_code groups_code  \n",
      "139            20            14           0  \n",
      "140             5            14           0  \n",
      "143            20            14           0  \n",
      "391            38            14           5  \n",
      "392            37            14           5  \n",
      "\n",
      "[5 rows x 26 columns]\n",
      "Index(['drugbank_id_x', 'name', 'type', 'groups', 'atc_codes', 'categories',\n",
      "       'inchikey', 'inchi', 'description', 'DrugBank_id', 'index', 'ID',\n",
      "       'NODEID', 'WEIGHT', 'drugbank_id_y', 'category', 'uniprot_id',\n",
      "       'entrez_gene_id', 'organism', 'known_action', 'actions', 'pubmed_ids',\n",
      "       'category_code', 'actions_code', 'organism_code', 'groups_code'],\n",
      "      dtype='object')\n"
     ]
    }
   ],
   "source": [
    "\n",
    "\n",
    "import pandas as pd\n",
    "\n",
    "\n",
    "dfdrugbank_filename=os.path.join(Homedir, '../data/drugbank.tsv')\n",
    "dfprotein_filename=os.path.join(Homedir, '../data/proteins.tsv')\n",
    "\n",
    "\n",
    "dfdrugbank = pd.read_csv(dfdrugbank_filename, delimiter=\"\\t\")\n",
    "dfprotein = pd.read_csv(dfprotein_filename, delimiter=\"\\t\")\n",
    "dfdrugbank['DrugBank_id'] = dfdrugbank['drugbank_id']\n",
    "dfprotein['DrugBank_id'] = dfprotein['drugbank_id']\n",
    "dfnodes = pd.read_csv(\"../data/DrugBank_DDI/node_list.txt\", delimiter=\"\t\")\n",
    "dfnodes['ID'] = dfnodes.index\n",
    "dfnodes['NODEID'] = dfnodes['ID']\n",
    "dfnodes['WEIGHT'] = 0\n",
    "dfdrugbank2 = dfdrugbank.merge(dfnodes, how=\"left\", on=\"DrugBank_id\")\n",
    "dfdrugbank2 = dfdrugbank2.merge(dfprotein, how=\"left\", on=\"DrugBank_id\")\n",
    "#dfdrugbank3 = dfdrugbank2[str(dfdrugbank2['ID'])!=\"nan\"]\n",
    "dfdrugbank2.dropna(inplace=True)\n",
    "from sklearn.preprocessing import LabelEncoder\n",
    "lb_make = LabelEncoder()\n",
    "dfdrugbank2[\"category_code\"] = lb_make.fit_transform(dfdrugbank2[\"category\"])\n",
    "dfdrugbank2[\"actions_code\"] = lb_make.fit_transform(dfdrugbank2[\"actions\"])\n",
    "dfdrugbank2[\"organism_code\"] = lb_make.fit_transform(dfdrugbank2[\"organism\"])\n",
    "dfdrugbank2[\"groups_code\"] = lb_make.fit_transform(dfdrugbank2[\"groups\"])\n",
    "dfdrugbank2['ID'] = dfdrugbank2['ID'].astype(int)\n",
    "print(dfdrugbank2.head(5))\n",
    "print(dfdrugbank2.columns)\n"
   ]
  },
  {
   "cell_type": "code",
   "execution_count": 78,
   "outputs": [],
   "source": [
    "dfdrugbankdata=dfdrugbank2[['ID','category_code']]\n",
    "dfdrugbankdata=dfdrugbank2[['ID','actions_code']]\n",
    "dfdrugbankdata=dfdrugbank2[['ID','organism_code']]\n",
    "dfdrugbankdata.to_csv(\"C:/git/DMPrj/data/DrugBank_DDI/DrugBankNodeClass.csv\",index=False, sep=\" \", header = False)\n",
    "EdgeList=pd.read_csv(\"C:/git/DMPrj/data/DrugBank_DDI/DrugBank_DDI.edgelist\", delimiter=\" \")\n",
    "EdgeList['Weight']=1\n",
    "EdgeList.to_csv(\"C:/git/DMPrj/data/DrugBank_DDI/DrugBank_DDI2.edgelist\",index=False, sep=\" \", header = False)\n",
    "\n",
    "\n",
    "train_graph_filename= \"C:/git/DMPrj/data/DrugBank_DDI/DrugBank_DDI2.edgelist\"\n",
    "#train_graph_filename= \"C:/git/BioNEV/data/DrugBank_DDI/Karate.edgelist\""
   ],
   "metadata": {
    "collapsed": false,
    "pycharm": {
     "name": "#%%\n"
    }
   }
  },
  {
   "cell_type": "code",
   "execution_count": 6,
   "metadata": {
    "pycharm": {
     "name": "#%%\n"
    }
   },
   "outputs": [],
   "source": []
  },
  {
   "cell_type": "code",
   "execution_count": 14,
   "metadata": {
    "pycharm": {
     "name": "#%%\n"
    }
   },
   "outputs": [
    {
     "name": "stdout",
     "output_type": "stream",
     "text": [
      "Sat Jun  6 13:38:16 2020\n"
     ]
    }
   ],
   "source": []
  },
  {
   "cell_type": "code",
   "execution_count": 79,
   "metadata": {
    "pycharm": {
     "name": "#%%\n"
    }
   },
   "outputs": [],
   "source": [
    "#train_graph_filename=\"C:/git/DMPrj/data/Clin_Term_COOC/Clin_Term_COOC.edgelist\"\n",
    "#label_file=\"C:/git/DMPrj/data/Clin_Term_COOC/Clin_Term_COOC_labels.txt\"\n",
    "\n",
    "train_graph_filename=os.path.join(Homedir, '../data/DrugBank_DDI/DrugBank_DDI2.edgelist')\n",
    "label_file=os.path.join(Homedir, '../data/DrugBank_DDI/DrugBankNodeClass.csv')\n",
    "\n",
    "#train_graph_filename= \"C:/git/DMPrj/data/DrugBank_DDI/DrugBank_DDI.edgelist\"\n",
    "#train_graph_filename= \"C:/git/BioNEV/data/DrugBank_DDI/Karate.edgelist\""
   ]
  },
  {
   "cell_type": "code",
   "execution_count": 35,
   "metadata": {
    "pycharm": {
     "name": "#%%\n"
    }
   },
   "outputs": [
    {
     "name": "stdout",
     "output_type": "stream",
     "text": [
      "Wed Jun 10 19:45:00 2020\n",
      "Nodes with labels: 6807\n",
      "Loading training graph for learning embedding...\n",
      "Graph Loaded...\n",
      "Parameters path_length, num_paths, p, q, workers: 10 5 1.0 1.0 8\n",
      "Preprocess transition probs...\n"
     ]
    },
    {
     "ename": "KeyboardInterrupt",
     "evalue": "",
     "output_type": "error",
     "traceback": [
      "\u001B[1;31m---------------------------------------------------------------------------\u001B[0m",
      "\u001B[1;31mKeyboardInterrupt\u001B[0m                         Traceback (most recent call last)",
      "\u001B[1;32m<ipython-input-35-782eca1402ac>\u001B[0m in \u001B[0;36m<module>\u001B[1;34m\u001B[0m\n\u001B[0;32m     23\u001B[0m model = node2vec.Node2vec(graph=g, path_length=10,\n\u001B[0;32m     24\u001B[0m                                       \u001B[0mnum_paths\u001B[0m\u001B[1;33m=\u001B[0m\u001B[1;36m5\u001B[0m\u001B[1;33m,\u001B[0m \u001B[0mdim\u001B[0m\u001B[1;33m=\u001B[0m\u001B[1;36m100\u001B[0m\u001B[1;33m,\u001B[0m\u001B[1;33m\u001B[0m\u001B[0m\n\u001B[1;32m---> 25\u001B[1;33m                                       workers=8, window=10, dw=False)\n\u001B[0m\u001B[0;32m     26\u001B[0m \u001B[0mEmbedFileN2V\u001B[0m\u001B[1;33m=\u001B[0m\u001B[0mos\u001B[0m\u001B[1;33m.\u001B[0m\u001B[0mpath\u001B[0m\u001B[1;33m.\u001B[0m\u001B[0mjoin\u001B[0m\u001B[1;33m(\u001B[0m\u001B[0mHomedir\u001B[0m\u001B[1;33m,\u001B[0m \u001B[1;34m'../embeddings/node2vec_DrugBank_DDICLASS_EMBED.txt'\u001B[0m\u001B[1;33m)\u001B[0m\u001B[1;33m\u001B[0m\u001B[0m\n\u001B[0;32m     27\u001B[0m \u001B[0mmodel\u001B[0m\u001B[1;33m.\u001B[0m\u001B[0msave_embeddings\u001B[0m\u001B[1;33m(\u001B[0m\u001B[0mEmbedFileN2V\u001B[0m\u001B[1;33m)\u001B[0m\u001B[1;33m\u001B[0m\u001B[0m\n",
      "\u001B[1;32mC:\\git\\DMPrj\\src\\bionev\\OpenNE\\node2vec.py\u001B[0m in \u001B[0;36m__init__\u001B[1;34m(self, graph, path_length, num_paths, dim, p, q, dw, **kwargs)\u001B[0m\n\u001B[0;32m     21\u001B[0m                 graph, p=p, q=q, workers=kwargs[\"workers\"])\n\u001B[0;32m     22\u001B[0m             \u001B[0mprint\u001B[0m\u001B[1;33m(\u001B[0m\u001B[1;34m\"Preprocess transition probs...\"\u001B[0m\u001B[1;33m)\u001B[0m\u001B[1;33m\u001B[0m\u001B[0m\n\u001B[1;32m---> 23\u001B[1;33m             \u001B[0mself\u001B[0m\u001B[1;33m.\u001B[0m\u001B[0mwalker\u001B[0m\u001B[1;33m.\u001B[0m\u001B[0mpreprocess_transition_probs\u001B[0m\u001B[1;33m(\u001B[0m\u001B[1;33m)\u001B[0m\u001B[1;33m\u001B[0m\u001B[0m\n\u001B[0m\u001B[0;32m     24\u001B[0m         sentences = self.walker.simulate_walks(\n\u001B[0;32m     25\u001B[0m             num_walks=num_paths, walk_length=path_length)\n",
      "\u001B[1;32mC:\\git\\DMPrj\\src\\bionev\\OpenNE\\walker.py\u001B[0m in \u001B[0;36mpreprocess_transition_probs\u001B[1;34m(self)\u001B[0m\n\u001B[0;32m    156\u001B[0m         \u001B[0mnode_size\u001B[0m \u001B[1;33m=\u001B[0m \u001B[0mself\u001B[0m\u001B[1;33m.\u001B[0m\u001B[0mnode_size\u001B[0m\u001B[1;33m\u001B[0m\u001B[0m\n\u001B[0;32m    157\u001B[0m         \u001B[1;32mfor\u001B[0m \u001B[0medge\u001B[0m \u001B[1;32min\u001B[0m \u001B[0mG\u001B[0m\u001B[1;33m.\u001B[0m\u001B[0medges\u001B[0m\u001B[1;33m(\u001B[0m\u001B[1;33m)\u001B[0m\u001B[1;33m:\u001B[0m\u001B[1;33m\u001B[0m\u001B[0m\n\u001B[1;32m--> 158\u001B[1;33m             \u001B[0malias_edges\u001B[0m\u001B[1;33m[\u001B[0m\u001B[0medge\u001B[0m\u001B[1;33m]\u001B[0m \u001B[1;33m=\u001B[0m \u001B[0mself\u001B[0m\u001B[1;33m.\u001B[0m\u001B[0mget_alias_edge\u001B[0m\u001B[1;33m(\u001B[0m\u001B[0medge\u001B[0m\u001B[1;33m[\u001B[0m\u001B[1;36m0\u001B[0m\u001B[1;33m]\u001B[0m\u001B[1;33m,\u001B[0m \u001B[0medge\u001B[0m\u001B[1;33m[\u001B[0m\u001B[1;36m1\u001B[0m\u001B[1;33m]\u001B[0m\u001B[1;33m)\u001B[0m\u001B[1;33m\u001B[0m\u001B[0m\n\u001B[0m\u001B[0;32m    159\u001B[0m \u001B[1;33m\u001B[0m\u001B[0m\n\u001B[0;32m    160\u001B[0m         \u001B[0mself\u001B[0m\u001B[1;33m.\u001B[0m\u001B[0malias_nodes\u001B[0m \u001B[1;33m=\u001B[0m \u001B[0malias_nodes\u001B[0m\u001B[1;33m\u001B[0m\u001B[0m\n",
      "\u001B[1;32mC:\\git\\DMPrj\\src\\bionev\\OpenNE\\walker.py\u001B[0m in \u001B[0;36mget_alias_edge\u001B[1;34m(self, src, dst)\u001B[0m\n\u001B[0;32m    128\u001B[0m                 \u001B[0munnormalized_probs\u001B[0m\u001B[1;33m.\u001B[0m\u001B[0mappend\u001B[0m\u001B[1;33m(\u001B[0m\u001B[0mG\u001B[0m\u001B[1;33m[\u001B[0m\u001B[0mdst\u001B[0m\u001B[1;33m]\u001B[0m\u001B[1;33m[\u001B[0m\u001B[0mdst_nbr\u001B[0m\u001B[1;33m]\u001B[0m\u001B[1;33m[\u001B[0m\u001B[1;34m'weight'\u001B[0m\u001B[1;33m]\u001B[0m\u001B[1;33m)\u001B[0m\u001B[1;33m\u001B[0m\u001B[0m\n\u001B[0;32m    129\u001B[0m             \u001B[1;32melse\u001B[0m\u001B[1;33m:\u001B[0m\u001B[1;33m\u001B[0m\u001B[0m\n\u001B[1;32m--> 130\u001B[1;33m                 \u001B[0munnormalized_probs\u001B[0m\u001B[1;33m.\u001B[0m\u001B[0mappend\u001B[0m\u001B[1;33m(\u001B[0m\u001B[0mG\u001B[0m\u001B[1;33m[\u001B[0m\u001B[0mdst\u001B[0m\u001B[1;33m]\u001B[0m\u001B[1;33m[\u001B[0m\u001B[0mdst_nbr\u001B[0m\u001B[1;33m]\u001B[0m\u001B[1;33m[\u001B[0m\u001B[1;34m'weight'\u001B[0m\u001B[1;33m]\u001B[0m \u001B[1;33m/\u001B[0m \u001B[0mq\u001B[0m\u001B[1;33m)\u001B[0m\u001B[1;33m\u001B[0m\u001B[0m\n\u001B[0m\u001B[0;32m    131\u001B[0m         \u001B[0mnorm_const\u001B[0m \u001B[1;33m=\u001B[0m \u001B[0msum\u001B[0m\u001B[1;33m(\u001B[0m\u001B[0munnormalized_probs\u001B[0m\u001B[1;33m)\u001B[0m\u001B[1;33m\u001B[0m\u001B[0m\n\u001B[0;32m    132\u001B[0m         normalized_probs = [\n",
      "\u001B[1;32mc:\\users\\ayhanak\\.conda\\envs\\dmprj\\lib\\site-packages\\networkx\\classes\\graph.py\u001B[0m in \u001B[0;36m__getitem__\u001B[1;34m(self, n)\u001B[0m\n\u001B[0;32m    473\u001B[0m         \u001B[0mAtlasView\u001B[0m\u001B[1;33m(\u001B[0m\u001B[1;33m{\u001B[0m\u001B[1;36m1\u001B[0m\u001B[1;33m:\u001B[0m \u001B[1;33m{\u001B[0m\u001B[1;33m}\u001B[0m\u001B[1;33m}\u001B[0m\u001B[1;33m)\u001B[0m\u001B[1;33m\u001B[0m\u001B[0m\n\u001B[0;32m    474\u001B[0m         \"\"\"\n\u001B[1;32m--> 475\u001B[1;33m         \u001B[1;32mreturn\u001B[0m \u001B[0mself\u001B[0m\u001B[1;33m.\u001B[0m\u001B[0madj\u001B[0m\u001B[1;33m[\u001B[0m\u001B[0mn\u001B[0m\u001B[1;33m]\u001B[0m\u001B[1;33m\u001B[0m\u001B[0m\n\u001B[0m\u001B[0;32m    476\u001B[0m \u001B[1;33m\u001B[0m\u001B[0m\n\u001B[0;32m    477\u001B[0m     \u001B[1;32mdef\u001B[0m \u001B[0madd_node\u001B[0m\u001B[1;33m(\u001B[0m\u001B[0mself\u001B[0m\u001B[1;33m,\u001B[0m \u001B[0mnode_for_adding\u001B[0m\u001B[1;33m,\u001B[0m \u001B[1;33m**\u001B[0m\u001B[0mattr\u001B[0m\u001B[1;33m)\u001B[0m\u001B[1;33m:\u001B[0m\u001B[1;33m\u001B[0m\u001B[0m\n",
      "\u001B[1;32mc:\\users\\ayhanak\\.conda\\envs\\dmprj\\lib\\site-packages\\networkx\\classes\\coreviews.py\u001B[0m in \u001B[0;36m__getitem__\u001B[1;34m(self, name)\u001B[0m\n\u001B[0;32m     79\u001B[0m \u001B[1;33m\u001B[0m\u001B[0m\n\u001B[0;32m     80\u001B[0m     \u001B[1;32mdef\u001B[0m \u001B[0m__getitem__\u001B[0m\u001B[1;33m(\u001B[0m\u001B[0mself\u001B[0m\u001B[1;33m,\u001B[0m \u001B[0mname\u001B[0m\u001B[1;33m)\u001B[0m\u001B[1;33m:\u001B[0m\u001B[1;33m\u001B[0m\u001B[0m\n\u001B[1;32m---> 81\u001B[1;33m         \u001B[1;32mreturn\u001B[0m \u001B[0mAtlasView\u001B[0m\u001B[1;33m(\u001B[0m\u001B[0mself\u001B[0m\u001B[1;33m.\u001B[0m\u001B[0m_atlas\u001B[0m\u001B[1;33m[\u001B[0m\u001B[0mname\u001B[0m\u001B[1;33m]\u001B[0m\u001B[1;33m)\u001B[0m\u001B[1;33m\u001B[0m\u001B[0m\n\u001B[0m\u001B[0;32m     82\u001B[0m \u001B[1;33m\u001B[0m\u001B[0m\n\u001B[0;32m     83\u001B[0m     \u001B[1;32mdef\u001B[0m \u001B[0mcopy\u001B[0m\u001B[1;33m(\u001B[0m\u001B[0mself\u001B[0m\u001B[1;33m)\u001B[0m\u001B[1;33m:\u001B[0m\u001B[1;33m\u001B[0m\u001B[0m\n",
      "\u001B[1;31mKeyboardInterrupt\u001B[0m: "
     ]
    }
   ],
   "source": [
    "##############                            Node2vec model               ##################\n",
    "import time\n",
    "print(time.ctime())\n",
    "#g = read_for_OpenNE(train_graph_filename, weighted=args.weighted)\n",
    "#embedding_training(args, train_graph_filename)\n",
    "#embedding_look_up = load_embedding(LINE_Classification_OutputFile, node_list)\n",
    "#######################\n",
    "import time\n",
    "#model = line.LINE(G_, epoch=args.epochs,rep_size=args.dimensions, order=args.order)\n",
    "#model = gf.GraphFactorization(G_, rep_size=args.dimensions,\n",
    "#                                          epoch=args.epochs, learning_rate=args.lr, weight_decay=args.weight_decay)\n",
    "#model = node2vec.Node2vec(graph=G_, path_length=args.walk_length,\n",
    "#                                      num_paths=args.number_walks, dim=args.dimensions,\n",
    "#                                      workers=args.workers, window=args.window_size, dw=True)\n",
    "\n",
    "\n",
    "#train_graph_filename=os.path.join(Homedir, '../data/DrugBank_DDI/DrugBank_DDI2.edgelist')\n",
    "#label_file=os.path.join(Homedir, '../data/DrugBank_DDI/DrugBankNodeClass.csv')\n",
    "node_list, labels = read_node_labels(label_file)\n",
    "time1 = time.time()\n",
    "g = read_for_OpenNE(train_graph_filename, weighted=True)\n",
    "#model = line.LINE(g, epoch=5,rep_size=100, order=2)\n",
    "model = node2vec.Node2vec(graph=g, path_length=10,\n",
    "                                      num_paths=5, dim=100,\n",
    "                                      workers=8, window=10, dw=False)\n",
    "EmbedFileN2V=os.path.join(Homedir, '../embeddings/node2vec_DrugBank_DDICLASS_EMBED.txt')\n",
    "model.save_embeddings(EmbedFileN2V)\n",
    "embedding_look_up = load_embedding(EmbedFileN2V, node_list)\n",
    "result = NodeClassification(embedding_look_up, node_list, labels, 0.2, 0)\n",
    "print(\"Representations Completed\")"
   ]
  },
  {
   "cell_type": "code",
   "execution_count": 6,
   "metadata": {
    "pycharm": {
     "name": "#%%\n"
    }
   },
   "outputs": [
    {
     "name": "stdout",
     "output_type": "stream",
     "text": [
      "Mon Jun  8 22:08:41 2020\n",
      "Nodes with labels: 6807\n",
      "Loading training graph for learning embedding...\n",
      "Graph Loaded...\n",
      "Parameters path_length, num_paths, p, q, workers: 10 5 1.0 1.0 8\n",
      "Begin random walks...\n",
      "Walk finished...\n",
      "Learning representation...\n",
      "Nodes with embedding: 2191\n",
      "######### Node Classification Performance #########\n",
      "Accuracy: 0.996, Micro-F1: 0.882, Macro-F1: 0.171\n",
      "##################################################\n",
      "Representations Completed\n"
     ]
    },
    {
     "name": "stderr",
     "output_type": "stream",
     "text": [
      "c:\\users\\ayhanak\\.conda\\envs\\dmprj\\lib\\site-packages\\sklearn\\preprocessing\\_label.py:995: UserWarning: unknown class(es) ['10', '11', '12', '13', '14', '15', '17', '18', '20', '21', '22', '23', '24', '25', '26'] will be ignored\n",
      "  .format(sorted(unknown, key=str)))\n",
      "c:\\users\\ayhanak\\.conda\\envs\\dmprj\\lib\\site-packages\\sklearn\\preprocessing\\_label.py:995: UserWarning: unknown class(es) ['11', '14', '16', '17', '19', '21', '23', '24', '26'] will be ignored\n",
      "  .format(sorted(unknown, key=str)))\n",
      "c:\\users\\ayhanak\\.conda\\envs\\dmprj\\lib\\site-packages\\sklearn\\metrics\\_classification.py:1465: UndefinedMetricWarning: F-score is ill-defined and being set to 0.0 in labels with no true nor predicted samples. Use `zero_division` parameter to control this behavior.\n",
      "  average, \"true nor predicted\", 'F-score is', len(true_sum)\n"
     ]
    }
   ],
   "source": [
    "##############                            DeepWalk model               ##################\n",
    "print(time.ctime())\n",
    "#g = read_for_OpenNE(train_graph_filename, weighted=args.weighted)\n",
    "#embedding_training(args, train_graph_filename)\n",
    "#embedding_look_up = load_embedding(LINE_Classification_OutputFile, node_list)\n",
    "#######################\n",
    "#model = line.LINE(G_, epoch=args.epochs,rep_size=args.dimensions, order=args.order)\n",
    "#model = gf.GraphFactorization(G_, rep_size=args.dimensions,\n",
    "#                                          epoch=args.epochs, learning_rate=args.lr, weight_decay=args.weight_decay)\n",
    "#model = node2vec.Node2vec(graph=G_, path_length=args.walk_length,\n",
    "#                                      num_paths=args.number_walks, dim=args.dimensions,\n",
    "#                                      workers=args.workers, window=args.window_size, dw=True)\n",
    "\n",
    "#train_graph_filename=os.path.join(Homedir, '../data/DrugBank_DDI/DrugBank_DDI2.edgelist')\n",
    "#label_file=os.path.join(Homedir, '../data/DrugBank_DDI/DrugBankNodeClass.csv')\n",
    "node_list, labels = read_node_labels(label_file)\n",
    "time1 = time.time()\n",
    "g = read_for_OpenNE(train_graph_filename, weighted=True)\n",
    "#model = line.LINE(g, epoch=5,rep_size=100, order=2)\n",
    "model = node2vec.Node2vec(graph=g, path_length=10,\n",
    "                                      num_paths=5, dim=100,\n",
    "                                      workers=8, window=10, dw=True)\n",
    "EmbedFileDW=os.path.join(Homedir, '../embeddings/DeepWalk_DrugBank_DDICLASS_EMBED.txt')\n",
    "model.save_embeddings(EmbedFileDW)\n",
    "embedding_look_up = load_embedding(EmbedFileDW, node_list)\n",
    "result = NodeClassification(embedding_look_up, node_list, labels, 0.2, 0)\n",
    "print(\"Representations Completed\")\n"
   ]
  },
  {
   "cell_type": "code",
   "execution_count": 8,
   "metadata": {
    "pycharm": {
     "name": "#%%\n"
    }
   },
   "outputs": [
    {
     "name": "stdout",
     "output_type": "stream",
     "text": [
      "Test\n"
     ]
    }
   ],
   "source": []
  },
  {
   "cell_type": "code",
   "execution_count": 5,
   "metadata": {
    "pycharm": {
     "name": "#%%\n"
    }
   },
   "outputs": [
    {
     "name": "stdout",
     "output_type": "stream",
     "text": [
      "Mon Jun  8 22:13:34 2020\n",
      "Nodes with labels: 6807\n",
      "Loading training graph for learning embedding...\n",
      "Graph Loaded...\n",
      "Pre-procesing for non-uniform negative sampling!\n",
      "WARNING:tensorflow:From C:\\git\\DMPrj\\src\\bionev\\OpenNE\\line.py:25: The name tf.Session is deprecated. Please use tf.compat.v1.Session instead.\n",
      "\n",
      "WARNING:tensorflow:\n",
      "The TensorFlow contrib module will not be included in TensorFlow 2.0.\n",
      "For more information, please see:\n",
      "  * https://github.com/tensorflow/community/blob/master/rfcs/20180907-contrib-sunset.md\n",
      "  * https://github.com/tensorflow/addons\n",
      "  * https://github.com/tensorflow/io (for I/O related ops)\n",
      "If you depend on functionality not listed there, please file an issue.\n",
      "\n",
      "WARNING:tensorflow:From C:\\git\\DMPrj\\src\\bionev\\OpenNE\\line.py:29: The name tf.variable_scope is deprecated. Please use tf.compat.v1.variable_scope instead.\n",
      "\n",
      "WARNING:tensorflow:From C:\\git\\DMPrj\\src\\bionev\\OpenNE\\line.py:34: The name tf.placeholder is deprecated. Please use tf.compat.v1.placeholder instead.\n",
      "\n",
      "WARNING:tensorflow:From C:\\git\\DMPrj\\src\\bionev\\OpenNE\\line.py:39: The name tf.get_variable is deprecated. Please use tf.compat.v1.get_variable instead.\n",
      "\n",
      "WARNING:tensorflow:From C:\\git\\DMPrj\\src\\bionev\\OpenNE\\line.py:52: The name tf.log_sigmoid is deprecated. Please use tf.math.log_sigmoid instead.\n",
      "\n",
      "WARNING:tensorflow:From C:\\git\\DMPrj\\src\\bionev\\OpenNE\\line.py:60: The name tf.train.AdamOptimizer is deprecated. Please use tf.compat.v1.train.AdamOptimizer instead.\n",
      "\n",
      "WARNING:tensorflow:From C:\\git\\DMPrj\\src\\bionev\\OpenNE\\line.py:31: The name tf.global_variables_initializer is deprecated. Please use tf.compat.v1.global_variables_initializer instead.\n",
      "\n",
      "epoch:0 sum of loss:1356.9254209399223\n",
      "epoch:1 sum of loss:1072.0152559280396\n",
      "epoch:2 sum of loss:996.252052873373\n",
      "epoch:3 sum of loss:954.2492750138044\n",
      "epoch:4 sum of loss:927.5889544710517\n",
      "Nodes with embedding: 2191\n",
      "######### Node Classification Performance #########\n",
      "Accuracy: 0.996, Micro-F1: 0.902, Macro-F1: 0.185\n",
      "##################################################\n",
      "Representations Completed\n"
     ]
    },
    {
     "name": "stderr",
     "output_type": "stream",
     "text": [
      "c:\\users\\ayhanak\\.conda\\envs\\dmprj\\lib\\site-packages\\sklearn\\preprocessing\\_label.py:995: UserWarning: unknown class(es) ['10', '11', '12', '13', '14', '15', '17', '18', '20', '21', '22', '23', '24', '25', '26'] will be ignored\n",
      "  .format(sorted(unknown, key=str)))\n",
      "c:\\users\\ayhanak\\.conda\\envs\\dmprj\\lib\\site-packages\\sklearn\\preprocessing\\_label.py:995: UserWarning: unknown class(es) ['11', '14', '16', '17', '19', '21', '23', '24', '26'] will be ignored\n",
      "  .format(sorted(unknown, key=str)))\n",
      "c:\\users\\ayhanak\\.conda\\envs\\dmprj\\lib\\site-packages\\sklearn\\metrics\\_classification.py:1465: UndefinedMetricWarning: F-score is ill-defined and being set to 0.0 in labels with no true nor predicted samples. Use `zero_division` parameter to control this behavior.\n",
      "  average, \"true nor predicted\", 'F-score is', len(true_sum)\n"
     ]
    }
   ],
   "source": [
    "##############                            LINE model               ##################\n",
    "print(time.ctime())\n",
    "#g = read_for_OpenNE(train_graph_filename, weighted=args.weighted)\n",
    "#embedding_training(args, train_graph_filename)\n",
    "#embedding_look_up = load_embedding(LINE_Classification_OutputFile, node_list)\n",
    "#######################\n",
    "#model = line.LINE(G_, epoch=args.epochs,rep_size=args.dimensions, order=args.order)\n",
    "#model = gf.GraphFactorization(G_, rep_size=args.dimensions,\n",
    "#                                          epoch=args.epochs, learning_rate=args.lr, weight_decay=args.weight_decay)\n",
    "#model = node2vec.Node2vec(graph=G_, path_length=args.walk_length,\n",
    "#                                      num_paths=args.number_walks, dim=args.dimensions,\n",
    "#                                      workers=args.workers, window=args.window_size, dw=True)\n",
    "\n",
    "#train_graph_filename=os.path.join(Homedir, '../data/DrugBank_DDI/DrugBank_DDI2.edgelist')\n",
    "#label_file=os.path.join(Homedir, '../data/DrugBank_DDI/DrugBankNodeClass.csv')\n",
    "node_list, labels = read_node_labels(label_file)\n",
    "time1 = time.time()\n",
    "g = read_for_OpenNE(train_graph_filename, weighted=True)\n",
    "model = line.LINE(g, epoch=5,rep_size=100, order=2)\n",
    "\n",
    "EmbedFileLINE=os.path.join(Homedir, '../embeddings/LINE_DrugBank_DDICLASS.txt')\n",
    "model.save_embeddings(EmbedFileLINE)\n",
    "embedding_look_up = load_embedding(EmbedFileLINE, node_list)\n",
    "result = NodeClassification(embedding_look_up, node_list, labels, 0.2, 0)\n",
    "print(\"Representations Completed\")\n"
   ]
  },
  {
   "cell_type": "code",
   "execution_count": null,
   "metadata": {
    "pycharm": {
     "name": "#%%\n"
    }
   },
   "outputs": [],
   "source": []
  },
  {
   "cell_type": "code",
   "execution_count": 33,
   "metadata": {
    "pycharm": {
     "name": "#%%\n"
    }
   },
   "outputs": [
    {
     "name": "stdout",
     "output_type": "stream",
     "text": [
      "Tue Jun  9 20:31:28 2020\n",
      "Nodes with labels: 6807\n",
      "Loading training graph for learning embedding...\n",
      "Graph Loaded...\n",
      "total iter: 5\n",
      "step 0: cost: 419847\n",
      "Nodes with embedding: 2191\n",
      "######### Node Classification Performance #########\n",
      "Accuracy: 0.997, Micro-F1: 0.922, Macro-F1: 0.286\n",
      "##################################################\n",
      "Representations Completed\n"
     ]
    },
    {
     "name": "stderr",
     "output_type": "stream",
     "text": [
      "c:\\users\\ayhanak\\.conda\\envs\\dmprj\\lib\\site-packages\\sklearn\\preprocessing\\_label.py:995: UserWarning: unknown class(es) ['10', '11', '12', '13', '14', '15', '17', '18', '20', '21', '22', '23', '24', '25', '26'] will be ignored\n",
      "  .format(sorted(unknown, key=str)))\n",
      "c:\\users\\ayhanak\\.conda\\envs\\dmprj\\lib\\site-packages\\sklearn\\preprocessing\\_label.py:995: UserWarning: unknown class(es) ['11', '14', '16', '17', '19', '21', '23', '24', '26'] will be ignored\n",
      "  .format(sorted(unknown, key=str)))\n",
      "c:\\users\\ayhanak\\.conda\\envs\\dmprj\\lib\\site-packages\\sklearn\\metrics\\_classification.py:1465: UndefinedMetricWarning: F-score is ill-defined and being set to 0.0 in labels with no true nor predicted samples. Use `zero_division` parameter to control this behavior.\n",
      "  average, \"true nor predicted\", 'F-score is', len(true_sum)\n"
     ]
    }
   ],
   "source": [
    "##############                            Graph Factorization               ##################\n",
    "print(time.ctime())\n",
    "#g = read_for_OpenNE(train_graph_filename, weighted=args.weighted)\n",
    "#embedding_training(args, train_graph_filename)\n",
    "#embedding_look_up = load_embedding(LINE_Classification_OutputFile, node_list)\n",
    "#######################\n",
    "#model = line.LINE(G_, epoch=args.epochs,rep_size=args.dimensions, order=args.order)\n",
    "#model = gf.GraphFactorization(G_, rep_size=args.dimensions,\n",
    "#                                          epoch=args.epochs, learning_rate=args.lr, weight_decay=args.weight_decay)\n",
    "#model = node2vec.Node2vec(graph=G_, path_length=args.walk_length,\n",
    "#                                      num_paths=args.number_walks, dim=args.dimensions,\n",
    "#                                      workers=args.workers, window=args.window_size, dw=True)\n",
    "\n",
    "#train_graph_filename=os.path.join(Homedir, '../data/DrugBank_DDI/DrugBank_DDI2.edgelist')\n",
    "#label_file=os.path.join(Homedir, '../data/DrugBank_DDI/DrugBankNodeClass.csv')\n",
    "node_list, labels = read_node_labels(label_file)\n",
    "time1 = time.time()\n",
    "g = read_for_OpenNE(train_graph_filename, weighted=True)\n",
    "model = gf.GraphFactorization(g, rep_size=100,\n",
    "                                          epoch=5, learning_rate=0.2, weight_decay=5e-4)\n",
    "EmbedFileGF=os.path.join(Homedir, '../embeddings/GF_DrugBank_DDICLASS.txt')\n",
    "model.save_embeddings(EmbedFileGF)\n",
    "embedding_look_up = load_embedding(EmbedFileGF, node_list)\n",
    "result = NodeClassification(embedding_look_up, node_list, labels, 0.2, 0)\n",
    "print(\"Representations Completed\")\n",
    "\n"
   ]
  },
  {
   "cell_type": "code",
   "execution_count": null,
   "metadata": {
    "pycharm": {
     "name": "#%%\n"
    }
   },
   "outputs": [],
   "source": []
  },
  {
   "cell_type": "code",
   "execution_count": 34,
   "outputs": [
    {
     "name": "stdout",
     "output_type": "stream",
     "text": [
      "Tue Jun  9 20:31:42 2020\n",
      "Nodes with labels: 6807\n",
      "Loading training graph for learning embedding...\n",
      "Graph Loaded...\n",
      "Kstep = 0\n",
      "Kstep = 1\n",
      "Kstep = 2\n",
      "Kstep = 3\n",
      "Nodes with embedding: 2191\n",
      "######### Node Classification Performance #########\n",
      "Accuracy: 0.996, Micro-F1: 0.902, Macro-F1: 0.185\n",
      "##################################################\n",
      "Representations Completed\n"
     ]
    },
    {
     "name": "stderr",
     "output_type": "stream",
     "text": [
      "C:\\git\\DMPrj\\src\\bionev\\OpenNE\\grarep.py:33: RuntimeWarning: divide by zero encountered in log\n",
      "  probTranMat = np.log(Ak / tileMat) - np.log(1.0 / self.node_size)\n",
      "C:\\git\\DMPrj\\src\\bionev\\OpenNE\\grarep.py:33: RuntimeWarning: divide by zero encountered in log\n",
      "  probTranMat = np.log(Ak / tileMat) - np.log(1.0 / self.node_size)\n",
      "C:\\git\\DMPrj\\src\\bionev\\OpenNE\\grarep.py:33: RuntimeWarning: divide by zero encountered in log\n",
      "  probTranMat = np.log(Ak / tileMat) - np.log(1.0 / self.node_size)\n",
      "C:\\git\\DMPrj\\src\\bionev\\OpenNE\\grarep.py:33: RuntimeWarning: divide by zero encountered in log\n",
      "  probTranMat = np.log(Ak / tileMat) - np.log(1.0 / self.node_size)\n",
      "c:\\users\\ayhanak\\.conda\\envs\\dmprj\\lib\\site-packages\\sklearn\\preprocessing\\_label.py:995: UserWarning: unknown class(es) ['10', '11', '12', '13', '14', '15', '17', '18', '20', '21', '22', '23', '24', '25', '26'] will be ignored\n",
      "  .format(sorted(unknown, key=str)))\n",
      "c:\\users\\ayhanak\\.conda\\envs\\dmprj\\lib\\site-packages\\sklearn\\preprocessing\\_label.py:995: UserWarning: unknown class(es) ['11', '14', '16', '17', '19', '21', '23', '24', '26'] will be ignored\n",
      "  .format(sorted(unknown, key=str)))\n",
      "c:\\users\\ayhanak\\.conda\\envs\\dmprj\\lib\\site-packages\\sklearn\\metrics\\_classification.py:1465: UndefinedMetricWarning: F-score is ill-defined and being set to 0.0 in labels with no true nor predicted samples. Use `zero_division` parameter to control this behavior.\n",
      "  average, \"true nor predicted\", 'F-score is', len(true_sum)\n"
     ]
    }
   ],
   "source": [
    "##############                            GraRep               ##################\n",
    "print(time.ctime())\n",
    "#model = grarep.GraRep(graph=G_, Kstep=args.kstep, dim=args.dimensions)\n",
    "\n",
    "#train_graph_filename=os.path.join(Homedir, '../data/DrugBank_DDI/DrugBank_DDI2.edgelist')\n",
    "#label_file=os.path.join(Homedir, '../data/DrugBank_DDI/DrugBankNodeClass.csv')\n",
    "node_list, labels = read_node_labels(label_file)\n",
    "time1 = time.time()\n",
    "g = read_for_OpenNE(train_graph_filename, weighted=True)\n",
    "model = grarep.GraRep(graph=g, Kstep=4, dim=100)\n",
    "\n",
    "EmbedFileGraRep=os.path.join(Homedir, '../embeddings/GraRep_DrugBank_DDICLASS.txt')\n",
    "model.save_embeddings(EmbedFileGraRep)\n",
    "embedding_look_up = load_embedding(EmbedFileGraRep, node_list)\n",
    "result = NodeClassification(embedding_look_up, node_list, labels, 0.2, 0)\n",
    "print(\"Representations Completed\")"
   ],
   "metadata": {
    "collapsed": false,
    "pycharm": {
     "name": "#%%\n"
    }
   }
  },
  {
   "cell_type": "code",
   "execution_count": 106,
   "metadata": {
    "pycharm": {
     "name": "#%%\n"
    }
   },
   "outputs": [
    {
     "name": "stdout",
     "output_type": "stream",
     "text": [
      "Wed Jun  3 12:12:48 2020\n",
      "Nodes with labels: 6807\n",
      "Nodes with embedding: 2191\n",
      "######### Node Classification Performance #########\n",
      "Accuracy: 0.997, Micro-F1: 0.922, Macro-F1: 0.286\n",
      "##################################################\n",
      "Representations Completed\n"
     ]
    },
    {
     "name": "stderr",
     "output_type": "stream",
     "text": [
      "c:\\users\\ayhanak\\.conda\\envs\\dmprj\\lib\\site-packages\\sklearn\\preprocessing\\_label.py:995: UserWarning: unknown class(es) ['10', '11', '12', '13', '14', '15', '17', '18', '20', '21', '22', '23', '24', '25', '26'] will be ignored\n",
      "  .format(sorted(unknown, key=str)))\n",
      "c:\\users\\ayhanak\\.conda\\envs\\dmprj\\lib\\site-packages\\sklearn\\preprocessing\\_label.py:995: UserWarning: unknown class(es) ['11', '14', '16', '17', '19', '21', '23', '24', '26'] will be ignored\n",
      "  .format(sorted(unknown, key=str)))\n",
      "c:\\users\\ayhanak\\.conda\\envs\\dmprj\\lib\\site-packages\\sklearn\\metrics\\_classification.py:1465: UndefinedMetricWarning: F-score is ill-defined and being set to 0.0 in labels with no true nor predicted samples. Use `zero_division` parameter to control this behavior.\n",
      "  average, \"true nor predicted\", 'F-score is', len(true_sum)\n"
     ]
    }
   ],
   "source": [
    "##############                           SVD               ##################\n",
    "print(time.ctime())\n",
    "#g = read_for_OpenNE(train_graph_filename, weighted=args.weighted)\n",
    "#embedding_training(args, train_graph_filename)\n",
    "#embedding_look_up = load_embedding(LINE_Classification_OutputFile, node_list)\n",
    "#######################\n",
    "#model = line.LINE(G_, epoch=args.epochs,rep_size=args.dimensions, order=args.order)\n",
    "#model = gf.GraphFactorization(G_, rep_size=args.dimensions,\n",
    "#                                          epoch=args.epochs, learning_rate=args.lr, weight_decay=args.weight_decay)\n",
    "#model = node2vec.Node2vec(graph=G_, path_length=args.walk_length,\n",
    "#                                      num_paths=args.number_walks, dim=args.dimensions,\n",
    "#                                      workers=args.workers, window=args.window_size, dw=True)\n",
    "#SVD_embedding(G_, args.output, size=args.dimensions)\n",
    "#train_graph_filename=os.path.join(Homedir, '../data/DrugBank_DDI/DrugBank_DDI2.edgelist')\n",
    "#label_file=os.path.join(Homedir, '../data/DrugBank_DDI/DrugBankNodeClass.csv')\n",
    "node_list, labels = read_node_labels(label_file)\n",
    "time1 = time.time()\n",
    "g = read_for_SVD(train_graph_filename, weighted=True)\n",
    "\n",
    "EmbedFileSVD=os.path.join(Homedir, '../embeddings/SVD_DrugBank_DDICLASS.txt')\n",
    "\n",
    "SVD_embedding(g, EmbedFileSVD, size=100)\n",
    "\n",
    "embedding_look_up = load_embedding(EmbedFileSVD, node_list)\n",
    "result = NodeClassification(embedding_look_up, node_list, labels, 0.2, 0)\n",
    "print(\"Representations Completed\")"
   ]
  },
  {
   "cell_type": "code",
   "execution_count": null,
   "metadata": {
    "pycharm": {
     "is_executing": true,
     "name": "#%%\n"
    }
   },
   "outputs": [
    {
     "name": "stdout",
     "output_type": "stream",
     "text": [
      "Mon Jun  1 15:30:19 2020\n",
      "Nodes with labels: 25120\n",
      "Loading training graph for learning embedding...\n",
      "Graph Loaded...\n",
      "WARNING:tensorflow:From C:\\git\\DMPrj\\src\\bionev\\OpenNE\\gf.py:19: The name tf.Session is deprecated. Please use tf.compat.v1.Session instead.\n",
      "\n",
      "WARNING:tensorflow:\n",
      "The TensorFlow contrib module will not be included in TensorFlow 2.0.\n",
      "For more information, please see:\n",
      "  * https://github.com/tensorflow/community/blob/master/rfcs/20180907-contrib-sunset.md\n",
      "  * https://github.com/tensorflow/addons\n",
      "  * https://github.com/tensorflow/io (for I/O related ops)\n",
      "If you depend on functionality not listed there, please file an issue.\n",
      "\n",
      "WARNING:tensorflow:From C:\\git\\DMPrj\\src\\bionev\\OpenNE\\gf.py:47: The name tf.placeholder is deprecated. Please use tf.compat.v1.placeholder instead.\n",
      "\n",
      "WARNING:tensorflow:From C:\\git\\DMPrj\\src\\bionev\\OpenNE\\gf.py:54: The name tf.train.AdamOptimizer is deprecated. Please use tf.compat.v1.train.AdamOptimizer instead.\n",
      "\n",
      "WARNING:tensorflow:From C:\\git\\DMPrj\\src\\bionev\\OpenNE\\gf.py:57: The name tf.global_variables_initializer is deprecated. Please use tf.compat.v1.global_variables_initializer instead.\n",
      "\n",
      "total iter: 1\n"
     ]
    }
   ],
   "source": []
  },
  {
   "cell_type": "code",
   "execution_count": null,
   "metadata": {
    "pycharm": {
     "name": "#%%\n"
    }
   },
   "outputs": [
    {
     "name": "stdout",
     "output_type": "stream",
     "text": [
      "1590968594.1315007\n",
      "Loading training graph for learning embedding...\n",
      "Graph Loaded...\n",
      "Graph loaded...\n",
      "Preprocess transition probs...\n"
     ]
    }
   ],
   "source": [
    "##########################################      Node2Vec Steps  In Details     ##################################################\n",
    "import time\n",
    "from gensim.models import Word2Vec\n",
    "from bionev.OpenNE import walker\n",
    "train_graph_filename= \"C:/git/DMPrj/data/DrugBank_DDI/DrugBank_DDI.edgelist\"\n",
    "\n",
    "print(time.time())\n",
    "g = read_for_OpenNE(train_graph_filename, weighted=None)\n",
    "print(\"Graph loaded...\")\n",
    "\n",
    "modelwalker = walker.Walker(g, p=1, q=2, workers=8)\n",
    "print(\"Preprocess transition probs...\")\n",
    "modelwalker.preprocess_transition_probs()\n",
    "#sentences = modelwalker.simulate_walks(num_walks=32, walk_length=64)\n",
    "#sentences = modelwalker.simulate_walks(num_walks=1, walk_length=10)\n",
    "print(\"Preprocess transition probs completed...\")\n",
    "\n",
    "print(\"Preprocess sentences and walks...\")\n",
    "sentences= modelwalker.simulate_walks(num_walks=1, walk_length=10)\n",
    "\n",
    "print(\"Preprocess sentences and walks completed...\")\n",
    "kwargs={}\n",
    "kwargs[\"sentences\"] = sentences\n",
    "kwargs[\"min_count\"] = 0\n",
    "kwargs[\"size\"] = 100\n",
    "kwargs[\"sg\"] = 1\n",
    "\n",
    "print(\"Learning representation...\")\n",
    "word2vec = Word2Vec(**kwargs)\n",
    "vectors = {}\n",
    "for word in g.G.nodes():\n",
    "    vectors[word] = word2vec.wv[word]\n",
    "del word2vec\n",
    "\n",
    "print(\"Learning representation completed...\")\n",
    "filename=\"C:/git/DMPrj/Embeddings/node2vec Embeddings.txt\"\n",
    "fout = open(filename, 'w')\n",
    "node_num = len(vectors.keys())\n",
    "fout.write(\"{} {}\\n\".format(node_num, 100))\n",
    "for node, vec in vectors.items():\n",
    "    fout.write(\"{} {}\\n\".format(node,\n",
    "                                ' '.join([str(x) for x in vec])))\n",
    "fout.close()\n",
    "print(\"Walk Process Completed\")\n",
    "############################################################################################"
   ]
  },
  {
   "cell_type": "code",
   "execution_count": null,
   "metadata": {
    "pycharm": {
     "name": "#%%\n"
    }
   },
   "outputs": [],
   "source": []
  },
  {
   "cell_type": "code",
   "execution_count": 18,
   "metadata": {
    "pycharm": {
     "name": "#%%\n"
    }
   },
   "outputs": [
    {
     "name": "stdout",
     "output_type": "stream",
     "text": [
      "(2191, 3)\n"
     ]
    }
   ],
   "source": [
    "#################################     Embedding Representations in 2-D   #############################################\n",
    "import networkx as nx\n",
    "import numpy as np\n",
    "\n",
    "EMBED=\"NODE2VEC_EMBEDDING_FILE\"\n",
    "EMBED=\"C:/git/BioNEV/embeddings/Laplacian_OutputFile\"\n",
    "EMBED=\"C:/git/BioNEV/embeddings/HOPE_OutputFile\"\n",
    "EMBED=\"C:/git/BioNEV/embeddings/NODE2VEC_OutputFile\"\n",
    "#EMBED = SVD_OutputFile\n",
    "#EMBED = SDNE_OutputFile\n",
    "#EMBED =NODE2VEC_OutputFile3\n",
    "\n",
    "EmbedFileDW=os.path.join(Homedir, '../embeddings/DeepWalk_DrugBank_DDICLASS_EMBED.txt')\n",
    "EMBED=\"C:/git/BioNEV/embeddings/GF_DrugBank_DDICLASS.txt\"\n",
    "#EMBED = EmbedFileSVD\n",
    "#EMBED = EmbedFileDW\n",
    "#EMBED=EmbedFileGF\n",
    "#EMBED= EmbedFileN2V\n",
    "EMBED=EmbedFileLINE\n",
    "EMBED=EmbedFileGraRep\n",
    "from sklearn.manifold import TSNE\n",
    "\n",
    "\n",
    "tsne = TSNE(random_state=1, n_iter=15000, metric=\"cosine\")\n",
    "X = np.loadtxt(EMBED, skiprows=1)\n",
    "X = np.array([x[1:] for x in X])\n",
    "Label = np.loadtxt(EMBED, skiprows=1)\n",
    "Label = np.array([int(x[0]) for x in Label])\n",
    "\n",
    "import pandas as pd\n",
    "embs = tsne.fit_transform(X)\n",
    "df=pd.DataFrame()\n",
    "df['x'] = embs[:, 0]\n",
    "df['y'] = embs[:, 1]\n",
    "df['label'] = list(Label)\n",
    "print(df.shape)\n",
    "#print(df['y'])\n",
    "#print(df['x'])\n",
    "#print(X[0])"
   ]
  },
  {
   "cell_type": "code",
   "execution_count": 19,
   "metadata": {
    "pycharm": {
     "name": "#%%\n"
    }
   },
   "outputs": [
    {
     "name": "stdout",
     "output_type": "stream",
     "text": [
      "C:\\git\\DMPrj\\src\\../embeddings/GraRep_DrugBank_DDICLASS.txt\n"
     ]
    },
    {
     "data": {
      "text/plain": "<Figure size 720x576 with 1 Axes>",
      "image/png": "[encoded data removed]"
     },
     "metadata": {
      "needs_background": "light"
     },
     "output_type": "display_data"
    }
   ],
   "source": [
    "print(EMBED)\n",
    "import matplotlib.pyplot as plt\n",
    "FigureFile=EMBED.split(\"/\")[2].split(\".\")[0]\n",
    "FS = (10, 8)\n",
    "fig, ax = plt.subplots(figsize=FS)\n",
    "# Make points translucent so we can visually identify regions with a high density of overlapping points\n",
    "ax.scatter(df.x, df.y,label=df.label, alpha=.1);\n",
    "#ax.legend()\n",
    "#ax.annotate(df.x, df.y, Label, fontsize=9)\n",
    "for i, txt in enumerate(Label):\n",
    "    ax.annotate(txt, (df.x[i], df.y[i]))\n",
    "plt.savefig(\"C:/git/DMPrj/embeddings/\" + FigureFile + \".png\")"
   ]
  },
  {
   "cell_type": "code",
   "execution_count": 62,
   "metadata": {
    "pycharm": {
     "name": "#%%\n"
    }
   },
   "outputs": [
    {
     "name": "stdout",
     "output_type": "stream",
     "text": [
      "GF_DrugBank_DDICLASS\n"
     ]
    }
   ],
   "source": [
    "\n",
    "print(EMBED.split(\"/\")[2].split(\".\")[0])"
   ]
  },
  {
   "cell_type": "code",
   "execution_count": 12,
   "metadata": {
    "pycharm": {
     "name": "#%%\n"
    }
   },
   "outputs": [],
   "source": [
    "\n",
    "\n",
    "############################# Node Classfication #################\n",
    "from sklearn.linear_model import LogisticRegression\n",
    "from sklearn.metrics import accuracy_score, average_precision_score, f1_score, roc_auc_score\n",
    "from sklearn.multiclass import OneVsRestClassifier\n",
    "from sklearn.preprocessing import MultiLabelBinarizer\n",
    "from sklearn.metrics import confusion_matrix\n",
    "\n",
    "from bionev.utils import *\n",
    "\n",
    "\n",
    "def NodeClassification2(embedding_look_up, node_list, labels, testing_ratio, seed):\n",
    "\n",
    "    X_train, y_train, X_test, y_test = split_train_test_classify(embedding_look_up, node_list, labels,\n",
    "                                                                 testing_ratio=testing_ratio,seed=seed)\n",
    "    binarizer = MultiLabelBinarizer(sparse_output=True)\n",
    "    y_all = np.append(y_train, y_test)\n",
    "    binarizer.fit(y_all)\n",
    "    y_train = binarizer.transform(y_train).todense()\n",
    "    y_test = binarizer.transform(y_test).todense()\n",
    "    model = OneVsRestClassifier(LogisticRegression(random_state=seed, solver='lbfgs'))\n",
    "    model.fit(X_train, y_train)\n",
    "    y_pred_prob = model.predict_proba(X_test)\n",
    "\n",
    "    ## small trick : we assume that we know how many label to predict\n",
    "    y_pred = get_y_pred(y_test, y_pred_prob)\n",
    "\n",
    "    accuracy = accuracy_score(y_test, y_pred)\n",
    "    micro_f1 = f1_score(y_test, y_pred, average=\"micro\")\n",
    "    macro_f1 = f1_score(y_test, y_pred, average=\"macro\")\n",
    "\n",
    "    #print(confusion_matrix(X_train, y_train))\n",
    "\n",
    "    print('#' * 9 + ' Node Classification Performance ' + '#' * 9)\n",
    "    print(f'Accuracy: {accuracy:.3f}, Micro-F1: {micro_f1:.3f}, Macro-F1: {macro_f1:.3f}')\n",
    "    print('#' * 50)\n",
    "    return accuracy, micro_f1, macro_f1"
   ]
  },
  {
   "cell_type": "code",
   "execution_count": null,
   "outputs": [],
   "source": [],
   "metadata": {
    "collapsed": false,
    "pycharm": {
     "name": "#%%\n"
    }
   }
  },
  {
   "cell_type": "code",
   "execution_count": 13,
   "outputs": [
    {
     "name": "stdout",
     "output_type": "stream",
     "text": [
      "Sun Jun 14 13:14:13 2020\n",
      "Nodes with labels: 6807\n",
      "Loading training graph for learning embedding...\n",
      "Graph Loaded...\n",
      "Parameters path_length, num_paths, p, q, workers: 10 5 1.0 1.0 8\n",
      "Begin random walks...\n",
      "Walk finished...\n",
      "Learning representation...\n",
      "Nodes with embedding: 2191\n",
      "######### Node Classification Performance #########\n",
      "Accuracy: 0.997, Micro-F1: 0.922, Macro-F1: 0.195\n",
      "##################################################\n",
      "Representations Completed\n"
     ]
    },
    {
     "name": "stderr",
     "output_type": "stream",
     "text": [
      "c:\\users\\ayhanak\\.conda\\envs\\dmprj\\lib\\site-packages\\sklearn\\preprocessing\\_label.py:995: UserWarning: unknown class(es) ['10', '11', '12', '13', '14', '15', '17', '18', '20', '21', '22', '23', '24', '25', '26'] will be ignored\n",
      "  .format(sorted(unknown, key=str)))\n",
      "c:\\users\\ayhanak\\.conda\\envs\\dmprj\\lib\\site-packages\\sklearn\\preprocessing\\_label.py:995: UserWarning: unknown class(es) ['11', '14', '16', '17', '19', '21', '23', '24', '26'] will be ignored\n",
      "  .format(sorted(unknown, key=str)))\n",
      "c:\\users\\ayhanak\\.conda\\envs\\dmprj\\lib\\site-packages\\sklearn\\metrics\\_classification.py:1465: UndefinedMetricWarning: F-score is ill-defined and being set to 0.0 in labels with no true nor predicted samples. Use `zero_division` parameter to control this behavior.\n",
      "  average, \"true nor predicted\", 'F-score is', len(true_sum)\n"
     ]
    }
   ],
   "source": [
    "##############                            DeepWalk model               ##################\n",
    "print(time.ctime())\n",
    "#g = read_for_OpenNE(train_graph_filename, weighted=args.weighted)\n",
    "#embedding_training(args, train_graph_filename)\n",
    "#embedding_look_up = load_embedding(LINE_Classification_OutputFile, node_list)\n",
    "#######################\n",
    "#model = line.LINE(G_, epoch=args.epochs,rep_size=args.dimensions, order=args.order)\n",
    "#model = gf.GraphFactorization(G_, rep_size=args.dimensions,\n",
    "#                                          epoch=args.epochs, learning_rate=args.lr, weight_decay=args.weight_decay)\n",
    "#model = node2vec.Node2vec(graph=G_, path_length=args.walk_length,\n",
    "#                                      num_paths=args.number_walks, dim=args.dimensions,\n",
    "#                                      workers=args.workers, window=args.window_size, dw=True)\n",
    "\n",
    "train_graph_filename=os.path.join(Homedir, '../data/DrugBank_DDI/DrugBank_DDI2.edgelist')\n",
    "label_file=os.path.join(Homedir, '../data/DrugBank_DDI/DrugBankNodeClass.csv')\n",
    "node_list, labels = read_node_labels(label_file)\n",
    "time1 = time.time()\n",
    "g = read_for_OpenNE(train_graph_filename, weighted=True)\n",
    "#model = line.LINE(g, epoch=5,rep_size=100, order=2)\n",
    "model = node2vec.Node2vec(graph=g, path_length=10,\n",
    "                                      num_paths=5, dim=100,\n",
    "                                      workers=8, window=10, dw=True)\n",
    "EmbedFileDW=os.path.join(Homedir, '../embeddings/DeepWalk_DrugBank_DDICLASS_EMBED_1406.txt')\n",
    "model.save_embeddings(EmbedFileDW)\n",
    "embedding_look_up = load_embedding(EmbedFileDW, node_list)\n",
    "result = NodeClassification2(embedding_look_up, node_list, labels, 0.2, 0)\n",
    "print(\"Representations Completed\")\n"
   ],
   "metadata": {
    "collapsed": false,
    "pycharm": {
     "name": "#%%\n"
    }
   }
  },
  {
   "cell_type": "code",
   "execution_count": 73,
   "outputs": [],
   "source": [
    "X_train, y_train, X_test, y_test = split_train_test_classify(embedding_look_up, node_list, labels,\n",
    "                                                             testing_ratio=0.2,seed=0)"
   ],
   "metadata": {
    "collapsed": false,
    "pycharm": {
     "name": "#%%\n"
    }
   }
  },
  {
   "cell_type": "code",
   "execution_count": null,
   "outputs": [],
   "source": [
    "############################## OneVsRestClassifier ##############################\n",
    "\n",
    "model = OneVsRestClassifier(LogisticRegression(random_state=0, solver='lbfgs'))\n",
    "model.fit(X_train, y_train)\n",
    "y_pred = model.predict(X_test)\n",
    "y_pred_prob = model.predict_proba(X_test)\n",
    "accuracy = accuracy_score(y_test, y_pred)\n",
    "micro_f1 = f1_score(y_test, y_pred, average=\"micro\")\n",
    "macro_f1 = f1_score(y_test, y_pred, average=\"macro\")\n",
    "print('#' * 9 + ' Node Classification Performance OneVsRestClassifier' + '#' * 9)\n",
    "print(f'Accuracy: {accuracy:.3f}, Micro-F1: {micro_f1:.3f}, Macro-F1: {macro_f1:.3f}')\n",
    "print('#' * 50)\n",
    "############################## OneVsRestClassifier ##############################\n"
   ],
   "metadata": {
    "collapsed": false,
    "pycharm": {
     "name": "#%%\n"
    }
   }
  },
  {
   "cell_type": "code",
   "execution_count": null,
   "outputs": [],
   "source": [],
   "metadata": {
    "collapsed": false,
    "pycharm": {
     "name": "#%%\n"
    }
   }
  },
  {
   "cell_type": "code",
   "execution_count": null,
   "outputs": [],
   "source": [
    "from sklearn.ensemble import RandomForestClassifier\n",
    "# Create a random forest Classifier. By convention, clf means 'Classifier'\n",
    "clf = RandomForestClassifier(n_jobs=2, random_state=0)\n",
    "\n",
    "# Train the Classifier to take the training features and learn how they relate\n",
    "# to the training y (the species)\n",
    "clf.fit(X_train, y_train)\n",
    "y_pred = clf.predict(X_test)\n",
    "\n",
    "accuracy = accuracy_score(y_test, y_pred)\n",
    "micro_f1 = f1_score(y_test, y_pred, average=\"micro\")\n",
    "macro_f1 = f1_score(y_test, y_pred, average=\"macro\")\n",
    "print('#' * 9 + ' Node Classification Performance Random Forest ' + '#' * 9)\n",
    "print(f'Accuracy: {accuracy:.3f}, Micro-F1: {micro_f1:.3f}, Macro-F1: {macro_f1:.3f}')\n",
    "print('#' * 50)"
   ],
   "metadata": {
    "collapsed": false,
    "pycharm": {
     "name": "#%%\n"
    }
   }
  },
  {
   "cell_type": "code",
   "execution_count": 74,
   "outputs": [],
   "source": [
    "binarizer = MultiLabelBinarizer(sparse_output=True)\n"
   ],
   "metadata": {
    "collapsed": false,
    "pycharm": {
     "name": "#%%\n"
    }
   }
  },
  {
   "cell_type": "code",
   "execution_count": 75,
   "outputs": [
    {
     "name": "stderr",
     "output_type": "stream",
     "text": [
      "c:\\users\\ayhanak\\.conda\\envs\\dmprj\\lib\\site-packages\\sklearn\\preprocessing\\_label.py:995: UserWarning: unknown class(es) ['10', '11', '12', '13', '14', '15', '17', '18', '20', '21', '22', '23', '24', '25', '26'] will be ignored\n",
      "  .format(sorted(unknown, key=str)))\n",
      "c:\\users\\ayhanak\\.conda\\envs\\dmprj\\lib\\site-packages\\sklearn\\preprocessing\\_label.py:995: UserWarning: unknown class(es) ['11', '14', '16', '17', '19', '21', '23', '24', '26'] will be ignored\n",
      "  .format(sorted(unknown, key=str)))\n"
     ]
    }
   ],
   "source": [
    "y_all = np.append(y_train, y_test)\n",
    "binarizer.fit(y_all)\n",
    "y_train = binarizer.transform(y_train).todense()\n",
    "y_test = binarizer.transform(y_test).todense()\n",
    "\n",
    "\n"
   ],
   "metadata": {
    "collapsed": false,
    "pycharm": {
     "name": "#%%\n"
    }
   }
  },
  {
   "cell_type": "code",
   "execution_count": 80,
   "outputs": [
    {
     "name": "stderr",
     "output_type": "stream",
     "text": [
      "c:\\users\\ayhanak\\.conda\\envs\\dmprj\\lib\\site-packages\\sklearn\\metrics\\_classification.py:1465: UndefinedMetricWarning: F-score is ill-defined and being set to 0.0 in labels with no true nor predicted samples. Use `zero_division` parameter to control this behavior.\n",
      "  average, \"true nor predicted\", 'F-score is', len(true_sum)\n"
     ]
    }
   ],
   "source": [
    "\n",
    "model = OneVsRestClassifier(LogisticRegression(random_state=0, solver='lbfgs'))\n",
    "model.fit(X_train, y_train)\n",
    "y_pred_prob = model.predict_proba(X_test)\n",
    "\n",
    "## small trick : we assume that we know how many label to predict\n",
    "y_pred = get_y_pred(y_test, y_pred_prob)\n",
    "\n",
    "accuracy = accuracy_score(y_test, y_pred)\n",
    "micro_f1 = f1_score(y_test, y_pred, average=\"micro\")\n",
    "macro_f1 = f1_score(y_test, y_pred, average=\"macro\")"
   ],
   "metadata": {
    "collapsed": false,
    "pycharm": {
     "name": "#%%\n"
    }
   }
  },
  {
   "cell_type": "code",
   "execution_count": 81,
   "outputs": [
    {
     "name": "stdout",
     "output_type": "stream",
     "text": [
      "######### Node Classification Performance #########\n",
      "Accuracy: 0.997, Micro-F1: 0.922, Macro-F1: 0.195\n",
      "##################################################\n"
     ]
    }
   ],
   "source": [
    "#print(confusion_matrix(X_train, y_train))\n",
    "\n",
    "print('#' * 9 + ' Node Classification Performance ' + '#' * 9)\n",
    "print(f'Accuracy: {accuracy:.3f}, Micro-F1: {micro_f1:.3f}, Macro-F1: {macro_f1:.3f}')\n",
    "print('#' * 50)\n",
    "\n"
   ],
   "metadata": {
    "collapsed": false,
    "pycharm": {
     "name": "#%%\n"
    }
   }
  },
  {
   "cell_type": "code",
   "execution_count": 82,
   "outputs": [
    {
     "name": "stdout",
     "output_type": "stream",
     "text": [
      "Sun Jun 14 20:18:13 2020\n",
      "Nodes with labels: 6807\n",
      "Loading training graph for learning embedding...\n",
      "Graph Loaded...\n",
      "Kstep = 0\n",
      "Kstep = 1\n",
      "Kstep = 2\n",
      "Kstep = 3\n",
      "Nodes with embedding: 2191\n",
      "######### Node Classification Performance #########\n",
      "Accuracy: 0.996, Micro-F1: 0.902, Macro-F1: 0.185\n",
      "##################################################\n",
      "Representations Completed\n"
     ]
    },
    {
     "name": "stderr",
     "output_type": "stream",
     "text": [
      "C:\\git\\DMPrj\\src\\bionev\\OpenNE\\grarep.py:33: RuntimeWarning: divide by zero encountered in log\n",
      "  probTranMat = np.log(Ak / tileMat) - np.log(1.0 / self.node_size)\n",
      "C:\\git\\DMPrj\\src\\bionev\\OpenNE\\grarep.py:33: RuntimeWarning: divide by zero encountered in log\n",
      "  probTranMat = np.log(Ak / tileMat) - np.log(1.0 / self.node_size)\n",
      "C:\\git\\DMPrj\\src\\bionev\\OpenNE\\grarep.py:33: RuntimeWarning: divide by zero encountered in log\n",
      "  probTranMat = np.log(Ak / tileMat) - np.log(1.0 / self.node_size)\n",
      "C:\\git\\DMPrj\\src\\bionev\\OpenNE\\grarep.py:33: RuntimeWarning: divide by zero encountered in log\n",
      "  probTranMat = np.log(Ak / tileMat) - np.log(1.0 / self.node_size)\n",
      "c:\\users\\ayhanak\\.conda\\envs\\dmprj\\lib\\site-packages\\sklearn\\preprocessing\\_label.py:995: UserWarning: unknown class(es) ['10', '11', '12', '13', '14', '15', '17', '18', '20', '21', '22', '23', '24', '25', '26'] will be ignored\n",
      "  .format(sorted(unknown, key=str)))\n",
      "c:\\users\\ayhanak\\.conda\\envs\\dmprj\\lib\\site-packages\\sklearn\\preprocessing\\_label.py:995: UserWarning: unknown class(es) ['11', '14', '16', '17', '19', '21', '23', '24', '26'] will be ignored\n",
      "  .format(sorted(unknown, key=str)))\n",
      "c:\\users\\ayhanak\\.conda\\envs\\dmprj\\lib\\site-packages\\sklearn\\metrics\\_classification.py:1465: UndefinedMetricWarning: F-score is ill-defined and being set to 0.0 in labels with no true nor predicted samples. Use `zero_division` parameter to control this behavior.\n",
      "  average, \"true nor predicted\", 'F-score is', len(true_sum)\n"
     ]
    }
   ],
   "source": [
    "\n",
    "##############                            GraRep               ##################\n",
    "print(time.ctime())\n",
    "#model = grarep.GraRep(graph=G_, Kstep=args.kstep, dim=args.dimensions)\n",
    "\n",
    "#train_graph_filename=os.path.join(Homedir, '../data/DrugBank_DDI/DrugBank_DDI2.edgelist')\n",
    "#label_file=os.path.join(Homedir, '../data/DrugBank_DDI/DrugBankNodeClass.csv')\n",
    "node_list, labels = read_node_labels(label_file)\n",
    "time1 = time.time()\n",
    "g = read_for_OpenNE(train_graph_filename, weighted=True)\n",
    "model = grarep.GraRep(graph=g, Kstep=4, dim=100)\n",
    "\n",
    "EmbedFileGraRep=os.path.join(Homedir, '../embeddings/GraRep_DrugBank_DDICLASS1406.txt')\n",
    "model.save_embeddings(EmbedFileGraRep)\n",
    "embedding_look_up = load_embedding(EmbedFileGraRep, node_list)\n",
    "result = NodeClassification(embedding_look_up, node_list, labels, 0.2, 0)\n",
    "print(\"Representations Completed\")\n",
    "\n"
   ],
   "metadata": {
    "collapsed": false,
    "pycharm": {
     "name": "#%%\n"
    }
   }
  },
  {
   "cell_type": "code",
   "execution_count": 83,
   "outputs": [],
   "source": [
    "X_train, y_train, X_test, y_test = split_train_test_classify(embedding_look_up, node_list, labels,\n",
    "                                                             testing_ratio=0.2,seed=0)"
   ],
   "metadata": {
    "collapsed": false,
    "pycharm": {
     "name": "#%%\n"
    }
   }
  },
  {
   "cell_type": "code",
   "execution_count": 84,
   "outputs": [
    {
     "name": "stdout",
     "output_type": "stream",
     "text": [
      "######### Node Classification Performance OneVsRestClassifier#########\n",
      "Accuracy: 0.950, Micro-F1: 0.950, Macro-F1: 0.108\n",
      "##################################################\n"
     ]
    }
   ],
   "source": [
    "############################## OneVsRestClassifier ##############################\n",
    "\n",
    "model = OneVsRestClassifier(LogisticRegression(random_state=0, solver='lbfgs'))\n",
    "model.fit(X_train, y_train)\n",
    "y_pred = model.predict(X_test)\n",
    "y_pred_prob = model.predict_proba(X_test)\n",
    "accuracy = accuracy_score(y_test, y_pred)\n",
    "micro_f1 = f1_score(y_test, y_pred, average=\"micro\")\n",
    "macro_f1 = f1_score(y_test, y_pred, average=\"macro\")\n",
    "print('#' * 9 + ' Node Classification Performance OneVsRestClassifier' + '#' * 9)\n",
    "print(f'Accuracy: {accuracy:.3f}, Micro-F1: {micro_f1:.3f}, Macro-F1: {macro_f1:.3f}')\n",
    "print('#' * 50)\n",
    "############################## OneVsRestClassifier ##############################\n"
   ],
   "metadata": {
    "collapsed": false,
    "pycharm": {
     "name": "#%%\n"
    }
   }
  },
  {
   "cell_type": "code",
   "execution_count": null,
   "outputs": [],
   "source": [],
   "metadata": {
    "collapsed": false,
    "pycharm": {
     "name": "#%%\n"
    }
   }
  },
  {
   "cell_type": "code",
   "execution_count": 85,
   "outputs": [
    {
     "name": "stderr",
     "output_type": "stream",
     "text": [
      "c:\\users\\ayhanak\\.conda\\envs\\dmprj\\lib\\site-packages\\ipykernel_launcher.py:7: DataConversionWarning: A column-vector y was passed when a 1d array was expected. Please change the shape of y to (n_samples,), for example using ravel().\n",
      "  import sys\n"
     ]
    },
    {
     "name": "stdout",
     "output_type": "stream",
     "text": [
      "######### Node Classification Performance Random Forest #########\n",
      "Accuracy: 0.952, Micro-F1: 0.952, Macro-F1: 0.267\n",
      "##################################################\n"
     ]
    }
   ],
   "source": [
    "from sklearn.ensemble import RandomForestClassifier\n",
    "# Create a random forest Classifier. By convention, clf means 'Classifier'\n",
    "clf = RandomForestClassifier(n_jobs=2, random_state=0)\n",
    "\n",
    "# Train the Classifier to take the training features and learn how they relate\n",
    "# to the training y (the species)\n",
    "clf.fit(X_train, y_train)\n",
    "y_pred = clf.predict(X_test)\n",
    "\n",
    "accuracy = accuracy_score(y_test, y_pred)\n",
    "micro_f1 = f1_score(y_test, y_pred, average=\"micro\")\n",
    "macro_f1 = f1_score(y_test, y_pred, average=\"macro\")\n",
    "print('#' * 9 + ' Node Classification Performance Random Forest ' + '#' * 9)\n",
    "print(f'Accuracy: {accuracy:.3f}, Micro-F1: {micro_f1:.3f}, Macro-F1: {macro_f1:.3f}')\n",
    "print('#' * 50)"
   ],
   "metadata": {
    "collapsed": false,
    "pycharm": {
     "name": "#%%\n"
    }
   }
  },
  {
   "cell_type": "code",
   "execution_count": 88,
   "outputs": [
    {
     "name": "stdout",
     "output_type": "stream",
     "text": [
      "Epoch 1/10\n",
      " - 6s - loss: 0.2619 - sparse_categorical_accuracy: 0.9401\n",
      "Epoch 2/10\n",
      " - 5s - loss: 0.1959 - sparse_categorical_accuracy: 0.9488\n",
      "Epoch 3/10\n",
      " - 5s - loss: 0.1794 - sparse_categorical_accuracy: 0.9497\n",
      "Epoch 4/10\n",
      " - 5s - loss: 0.1739 - sparse_categorical_accuracy: 0.9504\n",
      "Epoch 5/10\n",
      " - 5s - loss: 0.1699 - sparse_categorical_accuracy: 0.9502\n",
      "Epoch 6/10\n",
      " - 5s - loss: 0.1652 - sparse_categorical_accuracy: 0.9543\n",
      "Epoch 7/10\n",
      " - 5s - loss: 0.1704 - sparse_categorical_accuracy: 0.9525\n",
      "Epoch 8/10\n",
      " - 6s - loss: 0.1652 - sparse_categorical_accuracy: 0.9509\n",
      "Epoch 9/10\n",
      " - 5s - loss: 0.1619 - sparse_categorical_accuracy: 0.9529\n",
      "Epoch 10/10\n",
      " - 5s - loss: 0.1649 - sparse_categorical_accuracy: 0.9506\n",
      "Epoch 1/10\n",
      " - 6s - loss: 0.2532 - sparse_categorical_accuracy: 0.9412\n",
      "Epoch 2/10\n",
      " - 5s - loss: 0.1830 - sparse_categorical_accuracy: 0.9536\n",
      "Epoch 3/10\n",
      " - 5s - loss: 0.1794 - sparse_categorical_accuracy: 0.9488\n",
      "Epoch 4/10\n",
      " - 5s - loss: 0.1699 - sparse_categorical_accuracy: 0.9500\n",
      "Epoch 5/10\n",
      " - 6s - loss: 0.1660 - sparse_categorical_accuracy: 0.9525\n",
      "Epoch 6/10\n",
      " - 5s - loss: 0.1640 - sparse_categorical_accuracy: 0.9516\n",
      "Epoch 7/10\n",
      " - 5s - loss: 0.1577 - sparse_categorical_accuracy: 0.9511\n",
      "Epoch 8/10\n",
      " - 5s - loss: 0.1595 - sparse_categorical_accuracy: 0.9529\n",
      "Epoch 9/10\n",
      " - 5s - loss: 0.1562 - sparse_categorical_accuracy: 0.9529\n",
      "Epoch 10/10\n",
      " - 5s - loss: 0.1574 - sparse_categorical_accuracy: 0.9555\n",
      "Epoch 1/10\n",
      " - 6s - loss: 0.2533 - sparse_categorical_accuracy: 0.9403\n",
      "Epoch 2/10\n",
      " - 5s - loss: 0.1803 - sparse_categorical_accuracy: 0.9481\n",
      "Epoch 3/10\n",
      " - 6s - loss: 0.1712 - sparse_categorical_accuracy: 0.9509\n",
      "Epoch 4/10\n",
      " - 5s - loss: 0.1618 - sparse_categorical_accuracy: 0.9520\n",
      "Epoch 5/10\n",
      " - 5s - loss: 0.1594 - sparse_categorical_accuracy: 0.9522\n",
      "Epoch 6/10\n",
      " - 5s - loss: 0.1622 - sparse_categorical_accuracy: 0.9522\n",
      "Epoch 7/10\n",
      " - 5s - loss: 0.1543 - sparse_categorical_accuracy: 0.9534\n",
      "Epoch 8/10\n",
      " - 5s - loss: 0.1561 - sparse_categorical_accuracy: 0.9550\n",
      "Epoch 9/10\n",
      " - 5s - loss: 0.1605 - sparse_categorical_accuracy: 0.9534\n",
      "Epoch 10/10\n",
      " - 6s - loss: 0.1491 - sparse_categorical_accuracy: 0.9532\n",
      "Epoch 1/10\n",
      " - 6s - loss: 0.2616 - sparse_categorical_accuracy: 0.9410\n",
      "Epoch 2/10\n",
      " - 5s - loss: 0.1853 - sparse_categorical_accuracy: 0.9479\n",
      "Epoch 3/10\n",
      " - 6s - loss: 0.1746 - sparse_categorical_accuracy: 0.9520\n",
      "Epoch 4/10\n",
      " - 5s - loss: 0.1644 - sparse_categorical_accuracy: 0.9504\n",
      "Epoch 5/10\n",
      " - 6s - loss: 0.1602 - sparse_categorical_accuracy: 0.9504\n",
      "Epoch 6/10\n",
      " - 5s - loss: 0.1648 - sparse_categorical_accuracy: 0.9529\n",
      "Epoch 7/10\n",
      " - 5s - loss: 0.1649 - sparse_categorical_accuracy: 0.9513\n",
      "Epoch 8/10\n",
      " - 5s - loss: 0.1604 - sparse_categorical_accuracy: 0.9520\n",
      "Epoch 9/10\n",
      " - 5s - loss: 0.1550 - sparse_categorical_accuracy: 0.9536\n",
      "Epoch 10/10\n",
      " - 5s - loss: 0.1604 - sparse_categorical_accuracy: 0.9539\n",
      "Epoch 1/10\n"
     ]
    },
    {
     "ename": "KeyboardInterrupt",
     "evalue": "",
     "output_type": "error",
     "traceback": [
      "\u001B[1;31m---------------------------------------------------------------------------\u001B[0m",
      "\u001B[1;31mKeyboardInterrupt\u001B[0m                         Traceback (most recent call last)",
      "\u001B[1;32m<ipython-input-88-871283767de0>\u001B[0m in \u001B[0;36m<module>\u001B[1;34m\u001B[0m\n\u001B[0;32m     34\u001B[0m \u001B[0mgrid\u001B[0m \u001B[1;33m=\u001B[0m \u001B[0mGridSearchCV\u001B[0m\u001B[1;33m(\u001B[0m\u001B[0mestimator\u001B[0m\u001B[1;33m=\u001B[0m\u001B[0mmodel\u001B[0m\u001B[1;33m,\u001B[0m \u001B[0mparam_grid\u001B[0m\u001B[1;33m=\u001B[0m\u001B[0mparam_grid\u001B[0m\u001B[1;33m,\u001B[0m \u001B[0mscoring\u001B[0m\u001B[1;33m=\u001B[0m\u001B[1;34m'accuracy'\u001B[0m\u001B[1;33m)\u001B[0m\u001B[1;33m\u001B[0m\u001B[0m\n\u001B[0;32m     35\u001B[0m \u001B[1;33m\u001B[0m\u001B[0m\n\u001B[1;32m---> 36\u001B[1;33m \u001B[0mgrid_result\u001B[0m \u001B[1;33m=\u001B[0m \u001B[0mgrid\u001B[0m\u001B[1;33m.\u001B[0m\u001B[0mfit\u001B[0m\u001B[1;33m(\u001B[0m\u001B[0mX_train\u001B[0m\u001B[1;33m,\u001B[0m \u001B[0mY_train\u001B[0m\u001B[1;33m)\u001B[0m\u001B[1;33m\u001B[0m\u001B[0m\n\u001B[0m\u001B[0;32m     37\u001B[0m \u001B[1;33m\u001B[0m\u001B[0m\n",
      "\u001B[1;32mc:\\users\\ayhanak\\.conda\\envs\\dmprj\\lib\\site-packages\\sklearn\\utils\\validation.py\u001B[0m in \u001B[0;36minner_f\u001B[1;34m(*args, **kwargs)\u001B[0m\n\u001B[0;32m     71\u001B[0m                           FutureWarning)\n\u001B[0;32m     72\u001B[0m         \u001B[0mkwargs\u001B[0m\u001B[1;33m.\u001B[0m\u001B[0mupdate\u001B[0m\u001B[1;33m(\u001B[0m\u001B[1;33m{\u001B[0m\u001B[0mk\u001B[0m\u001B[1;33m:\u001B[0m \u001B[0marg\u001B[0m \u001B[1;32mfor\u001B[0m \u001B[0mk\u001B[0m\u001B[1;33m,\u001B[0m \u001B[0marg\u001B[0m \u001B[1;32min\u001B[0m \u001B[0mzip\u001B[0m\u001B[1;33m(\u001B[0m\u001B[0msig\u001B[0m\u001B[1;33m.\u001B[0m\u001B[0mparameters\u001B[0m\u001B[1;33m,\u001B[0m \u001B[0margs\u001B[0m\u001B[1;33m)\u001B[0m\u001B[1;33m}\u001B[0m\u001B[1;33m)\u001B[0m\u001B[1;33m\u001B[0m\u001B[0m\n\u001B[1;32m---> 73\u001B[1;33m         \u001B[1;32mreturn\u001B[0m \u001B[0mf\u001B[0m\u001B[1;33m(\u001B[0m\u001B[1;33m**\u001B[0m\u001B[0mkwargs\u001B[0m\u001B[1;33m)\u001B[0m\u001B[1;33m\u001B[0m\u001B[0m\n\u001B[0m\u001B[0;32m     74\u001B[0m     \u001B[1;32mreturn\u001B[0m \u001B[0minner_f\u001B[0m\u001B[1;33m\u001B[0m\u001B[0m\n\u001B[0;32m     75\u001B[0m \u001B[1;33m\u001B[0m\u001B[0m\n",
      "\u001B[1;32mc:\\users\\ayhanak\\.conda\\envs\\dmprj\\lib\\site-packages\\sklearn\\model_selection\\_search.py\u001B[0m in \u001B[0;36mfit\u001B[1;34m(self, X, y, groups, **fit_params)\u001B[0m\n\u001B[0;32m    734\u001B[0m                 \u001B[1;32mreturn\u001B[0m \u001B[0mresults\u001B[0m\u001B[1;33m\u001B[0m\u001B[0m\n\u001B[0;32m    735\u001B[0m \u001B[1;33m\u001B[0m\u001B[0m\n\u001B[1;32m--> 736\u001B[1;33m             \u001B[0mself\u001B[0m\u001B[1;33m.\u001B[0m\u001B[0m_run_search\u001B[0m\u001B[1;33m(\u001B[0m\u001B[0mevaluate_candidates\u001B[0m\u001B[1;33m)\u001B[0m\u001B[1;33m\u001B[0m\u001B[0m\n\u001B[0m\u001B[0;32m    737\u001B[0m \u001B[1;33m\u001B[0m\u001B[0m\n\u001B[0;32m    738\u001B[0m         \u001B[1;31m# For multi-metric evaluation, store the best_index_, best_params_ and\u001B[0m\u001B[1;33m\u001B[0m\u001B[1;33m\u001B[0m\u001B[0m\n",
      "\u001B[1;32mc:\\users\\ayhanak\\.conda\\envs\\dmprj\\lib\\site-packages\\sklearn\\model_selection\\_search.py\u001B[0m in \u001B[0;36m_run_search\u001B[1;34m(self, evaluate_candidates)\u001B[0m\n\u001B[0;32m   1186\u001B[0m     \u001B[1;32mdef\u001B[0m \u001B[0m_run_search\u001B[0m\u001B[1;33m(\u001B[0m\u001B[0mself\u001B[0m\u001B[1;33m,\u001B[0m \u001B[0mevaluate_candidates\u001B[0m\u001B[1;33m)\u001B[0m\u001B[1;33m:\u001B[0m\u001B[1;33m\u001B[0m\u001B[0m\n\u001B[0;32m   1187\u001B[0m         \u001B[1;34m\"\"\"Search all candidates in param_grid\"\"\"\u001B[0m\u001B[1;33m\u001B[0m\u001B[0m\n\u001B[1;32m-> 1188\u001B[1;33m         \u001B[0mevaluate_candidates\u001B[0m\u001B[1;33m(\u001B[0m\u001B[0mParameterGrid\u001B[0m\u001B[1;33m(\u001B[0m\u001B[0mself\u001B[0m\u001B[1;33m.\u001B[0m\u001B[0mparam_grid\u001B[0m\u001B[1;33m)\u001B[0m\u001B[1;33m)\u001B[0m\u001B[1;33m\u001B[0m\u001B[0m\n\u001B[0m\u001B[0;32m   1189\u001B[0m \u001B[1;33m\u001B[0m\u001B[0m\n\u001B[0;32m   1190\u001B[0m \u001B[1;33m\u001B[0m\u001B[0m\n",
      "\u001B[1;32mc:\\users\\ayhanak\\.conda\\envs\\dmprj\\lib\\site-packages\\sklearn\\model_selection\\_search.py\u001B[0m in \u001B[0;36mevaluate_candidates\u001B[1;34m(candidate_params)\u001B[0m\n\u001B[0;32m    713\u001B[0m                                \u001B[1;32mfor\u001B[0m \u001B[0mparameters\u001B[0m\u001B[1;33m,\u001B[0m \u001B[1;33m(\u001B[0m\u001B[0mtrain\u001B[0m\u001B[1;33m,\u001B[0m \u001B[0mtest\u001B[0m\u001B[1;33m)\u001B[0m\u001B[1;33m\u001B[0m\u001B[0m\n\u001B[0;32m    714\u001B[0m                                in product(candidate_params,\n\u001B[1;32m--> 715\u001B[1;33m                                           cv.split(X, y, groups)))\n\u001B[0m\u001B[0;32m    716\u001B[0m \u001B[1;33m\u001B[0m\u001B[0m\n\u001B[0;32m    717\u001B[0m                 \u001B[1;32mif\u001B[0m \u001B[0mlen\u001B[0m\u001B[1;33m(\u001B[0m\u001B[0mout\u001B[0m\u001B[1;33m)\u001B[0m \u001B[1;33m<\u001B[0m \u001B[1;36m1\u001B[0m\u001B[1;33m:\u001B[0m\u001B[1;33m\u001B[0m\u001B[0m\n",
      "\u001B[1;32mc:\\users\\ayhanak\\.conda\\envs\\dmprj\\lib\\site-packages\\joblib\\parallel.py\u001B[0m in \u001B[0;36m__call__\u001B[1;34m(self, iterable)\u001B[0m\n\u001B[0;32m   1030\u001B[0m                 \u001B[0mself\u001B[0m\u001B[1;33m.\u001B[0m\u001B[0m_iterating\u001B[0m \u001B[1;33m=\u001B[0m \u001B[0mself\u001B[0m\u001B[1;33m.\u001B[0m\u001B[0m_original_iterator\u001B[0m \u001B[1;32mis\u001B[0m \u001B[1;32mnot\u001B[0m \u001B[1;32mNone\u001B[0m\u001B[1;33m\u001B[0m\u001B[0m\n\u001B[0;32m   1031\u001B[0m \u001B[1;33m\u001B[0m\u001B[0m\n\u001B[1;32m-> 1032\u001B[1;33m             \u001B[1;32mwhile\u001B[0m \u001B[0mself\u001B[0m\u001B[1;33m.\u001B[0m\u001B[0mdispatch_one_batch\u001B[0m\u001B[1;33m(\u001B[0m\u001B[0miterator\u001B[0m\u001B[1;33m)\u001B[0m\u001B[1;33m:\u001B[0m\u001B[1;33m\u001B[0m\u001B[0m\n\u001B[0m\u001B[0;32m   1033\u001B[0m                 \u001B[1;32mpass\u001B[0m\u001B[1;33m\u001B[0m\u001B[0m\n\u001B[0;32m   1034\u001B[0m \u001B[1;33m\u001B[0m\u001B[0m\n",
      "\u001B[1;32mc:\\users\\ayhanak\\.conda\\envs\\dmprj\\lib\\site-packages\\joblib\\parallel.py\u001B[0m in \u001B[0;36mdispatch_one_batch\u001B[1;34m(self, iterator)\u001B[0m\n\u001B[0;32m    845\u001B[0m                 \u001B[1;32mreturn\u001B[0m \u001B[1;32mFalse\u001B[0m\u001B[1;33m\u001B[0m\u001B[0m\n\u001B[0;32m    846\u001B[0m             \u001B[1;32melse\u001B[0m\u001B[1;33m:\u001B[0m\u001B[1;33m\u001B[0m\u001B[0m\n\u001B[1;32m--> 847\u001B[1;33m                 \u001B[0mself\u001B[0m\u001B[1;33m.\u001B[0m\u001B[0m_dispatch\u001B[0m\u001B[1;33m(\u001B[0m\u001B[0mtasks\u001B[0m\u001B[1;33m)\u001B[0m\u001B[1;33m\u001B[0m\u001B[0m\n\u001B[0m\u001B[0;32m    848\u001B[0m                 \u001B[1;32mreturn\u001B[0m \u001B[1;32mTrue\u001B[0m\u001B[1;33m\u001B[0m\u001B[0m\n\u001B[0;32m    849\u001B[0m \u001B[1;33m\u001B[0m\u001B[0m\n",
      "\u001B[1;32mc:\\users\\ayhanak\\.conda\\envs\\dmprj\\lib\\site-packages\\joblib\\parallel.py\u001B[0m in \u001B[0;36m_dispatch\u001B[1;34m(self, batch)\u001B[0m\n\u001B[0;32m    763\u001B[0m         \u001B[1;32mwith\u001B[0m \u001B[0mself\u001B[0m\u001B[1;33m.\u001B[0m\u001B[0m_lock\u001B[0m\u001B[1;33m:\u001B[0m\u001B[1;33m\u001B[0m\u001B[0m\n\u001B[0;32m    764\u001B[0m             \u001B[0mjob_idx\u001B[0m \u001B[1;33m=\u001B[0m \u001B[0mlen\u001B[0m\u001B[1;33m(\u001B[0m\u001B[0mself\u001B[0m\u001B[1;33m.\u001B[0m\u001B[0m_jobs\u001B[0m\u001B[1;33m)\u001B[0m\u001B[1;33m\u001B[0m\u001B[0m\n\u001B[1;32m--> 765\u001B[1;33m             \u001B[0mjob\u001B[0m \u001B[1;33m=\u001B[0m \u001B[0mself\u001B[0m\u001B[1;33m.\u001B[0m\u001B[0m_backend\u001B[0m\u001B[1;33m.\u001B[0m\u001B[0mapply_async\u001B[0m\u001B[1;33m(\u001B[0m\u001B[0mbatch\u001B[0m\u001B[1;33m,\u001B[0m \u001B[0mcallback\u001B[0m\u001B[1;33m=\u001B[0m\u001B[0mcb\u001B[0m\u001B[1;33m)\u001B[0m\u001B[1;33m\u001B[0m\u001B[0m\n\u001B[0m\u001B[0;32m    766\u001B[0m             \u001B[1;31m# A job can complete so quickly than its callback is\u001B[0m\u001B[1;33m\u001B[0m\u001B[1;33m\u001B[0m\u001B[0m\n\u001B[0;32m    767\u001B[0m             \u001B[1;31m# called before we get here, causing self._jobs to\u001B[0m\u001B[1;33m\u001B[0m\u001B[1;33m\u001B[0m\u001B[0m\n",
      "\u001B[1;32mc:\\users\\ayhanak\\.conda\\envs\\dmprj\\lib\\site-packages\\joblib\\_parallel_backends.py\u001B[0m in \u001B[0;36mapply_async\u001B[1;34m(self, func, callback)\u001B[0m\n\u001B[0;32m    204\u001B[0m     \u001B[1;32mdef\u001B[0m \u001B[0mapply_async\u001B[0m\u001B[1;33m(\u001B[0m\u001B[0mself\u001B[0m\u001B[1;33m,\u001B[0m \u001B[0mfunc\u001B[0m\u001B[1;33m,\u001B[0m \u001B[0mcallback\u001B[0m\u001B[1;33m=\u001B[0m\u001B[1;32mNone\u001B[0m\u001B[1;33m)\u001B[0m\u001B[1;33m:\u001B[0m\u001B[1;33m\u001B[0m\u001B[0m\n\u001B[0;32m    205\u001B[0m         \u001B[1;34m\"\"\"Schedule a func to be run\"\"\"\u001B[0m\u001B[1;33m\u001B[0m\u001B[0m\n\u001B[1;32m--> 206\u001B[1;33m         \u001B[0mresult\u001B[0m \u001B[1;33m=\u001B[0m \u001B[0mImmediateResult\u001B[0m\u001B[1;33m(\u001B[0m\u001B[0mfunc\u001B[0m\u001B[1;33m)\u001B[0m\u001B[1;33m\u001B[0m\u001B[0m\n\u001B[0m\u001B[0;32m    207\u001B[0m         \u001B[1;32mif\u001B[0m \u001B[0mcallback\u001B[0m\u001B[1;33m:\u001B[0m\u001B[1;33m\u001B[0m\u001B[0m\n\u001B[0;32m    208\u001B[0m             \u001B[0mcallback\u001B[0m\u001B[1;33m(\u001B[0m\u001B[0mresult\u001B[0m\u001B[1;33m)\u001B[0m\u001B[1;33m\u001B[0m\u001B[0m\n",
      "\u001B[1;32mc:\\users\\ayhanak\\.conda\\envs\\dmprj\\lib\\site-packages\\joblib\\_parallel_backends.py\u001B[0m in \u001B[0;36m__init__\u001B[1;34m(self, batch)\u001B[0m\n\u001B[0;32m    568\u001B[0m         \u001B[1;31m# Don't delay the application, to avoid keeping the input\u001B[0m\u001B[1;33m\u001B[0m\u001B[1;33m\u001B[0m\u001B[0m\n\u001B[0;32m    569\u001B[0m         \u001B[1;31m# arguments in memory\u001B[0m\u001B[1;33m\u001B[0m\u001B[1;33m\u001B[0m\u001B[0m\n\u001B[1;32m--> 570\u001B[1;33m         \u001B[0mself\u001B[0m\u001B[1;33m.\u001B[0m\u001B[0mresults\u001B[0m \u001B[1;33m=\u001B[0m \u001B[0mbatch\u001B[0m\u001B[1;33m(\u001B[0m\u001B[1;33m)\u001B[0m\u001B[1;33m\u001B[0m\u001B[0m\n\u001B[0m\u001B[0;32m    571\u001B[0m \u001B[1;33m\u001B[0m\u001B[0m\n\u001B[0;32m    572\u001B[0m     \u001B[1;32mdef\u001B[0m \u001B[0mget\u001B[0m\u001B[1;33m(\u001B[0m\u001B[0mself\u001B[0m\u001B[1;33m)\u001B[0m\u001B[1;33m:\u001B[0m\u001B[1;33m\u001B[0m\u001B[0m\n",
      "\u001B[1;32mc:\\users\\ayhanak\\.conda\\envs\\dmprj\\lib\\site-packages\\joblib\\parallel.py\u001B[0m in \u001B[0;36m__call__\u001B[1;34m(self)\u001B[0m\n\u001B[0;32m    251\u001B[0m         \u001B[1;32mwith\u001B[0m \u001B[0mparallel_backend\u001B[0m\u001B[1;33m(\u001B[0m\u001B[0mself\u001B[0m\u001B[1;33m.\u001B[0m\u001B[0m_backend\u001B[0m\u001B[1;33m,\u001B[0m \u001B[0mn_jobs\u001B[0m\u001B[1;33m=\u001B[0m\u001B[0mself\u001B[0m\u001B[1;33m.\u001B[0m\u001B[0m_n_jobs\u001B[0m\u001B[1;33m)\u001B[0m\u001B[1;33m:\u001B[0m\u001B[1;33m\u001B[0m\u001B[0m\n\u001B[0;32m    252\u001B[0m             return [func(*args, **kwargs)\n\u001B[1;32m--> 253\u001B[1;33m                     for func, args, kwargs in self.items]\n\u001B[0m\u001B[0;32m    254\u001B[0m \u001B[1;33m\u001B[0m\u001B[0m\n\u001B[0;32m    255\u001B[0m     \u001B[1;32mdef\u001B[0m \u001B[0m__reduce__\u001B[0m\u001B[1;33m(\u001B[0m\u001B[0mself\u001B[0m\u001B[1;33m)\u001B[0m\u001B[1;33m:\u001B[0m\u001B[1;33m\u001B[0m\u001B[0m\n",
      "\u001B[1;32mc:\\users\\ayhanak\\.conda\\envs\\dmprj\\lib\\site-packages\\joblib\\parallel.py\u001B[0m in \u001B[0;36m<listcomp>\u001B[1;34m(.0)\u001B[0m\n\u001B[0;32m    251\u001B[0m         \u001B[1;32mwith\u001B[0m \u001B[0mparallel_backend\u001B[0m\u001B[1;33m(\u001B[0m\u001B[0mself\u001B[0m\u001B[1;33m.\u001B[0m\u001B[0m_backend\u001B[0m\u001B[1;33m,\u001B[0m \u001B[0mn_jobs\u001B[0m\u001B[1;33m=\u001B[0m\u001B[0mself\u001B[0m\u001B[1;33m.\u001B[0m\u001B[0m_n_jobs\u001B[0m\u001B[1;33m)\u001B[0m\u001B[1;33m:\u001B[0m\u001B[1;33m\u001B[0m\u001B[0m\n\u001B[0;32m    252\u001B[0m             return [func(*args, **kwargs)\n\u001B[1;32m--> 253\u001B[1;33m                     for func, args, kwargs in self.items]\n\u001B[0m\u001B[0;32m    254\u001B[0m \u001B[1;33m\u001B[0m\u001B[0m\n\u001B[0;32m    255\u001B[0m     \u001B[1;32mdef\u001B[0m \u001B[0m__reduce__\u001B[0m\u001B[1;33m(\u001B[0m\u001B[0mself\u001B[0m\u001B[1;33m)\u001B[0m\u001B[1;33m:\u001B[0m\u001B[1;33m\u001B[0m\u001B[0m\n",
      "\u001B[1;32mc:\\users\\ayhanak\\.conda\\envs\\dmprj\\lib\\site-packages\\sklearn\\model_selection\\_validation.py\u001B[0m in \u001B[0;36m_fit_and_score\u001B[1;34m(estimator, X, y, scorer, train, test, verbose, parameters, fit_params, return_train_score, return_parameters, return_n_test_samples, return_times, return_estimator, error_score)\u001B[0m\n\u001B[0;32m    529\u001B[0m             \u001B[0mestimator\u001B[0m\u001B[1;33m.\u001B[0m\u001B[0mfit\u001B[0m\u001B[1;33m(\u001B[0m\u001B[0mX_train\u001B[0m\u001B[1;33m,\u001B[0m \u001B[1;33m**\u001B[0m\u001B[0mfit_params\u001B[0m\u001B[1;33m)\u001B[0m\u001B[1;33m\u001B[0m\u001B[0m\n\u001B[0;32m    530\u001B[0m         \u001B[1;32melse\u001B[0m\u001B[1;33m:\u001B[0m\u001B[1;33m\u001B[0m\u001B[0m\n\u001B[1;32m--> 531\u001B[1;33m             \u001B[0mestimator\u001B[0m\u001B[1;33m.\u001B[0m\u001B[0mfit\u001B[0m\u001B[1;33m(\u001B[0m\u001B[0mX_train\u001B[0m\u001B[1;33m,\u001B[0m \u001B[0my_train\u001B[0m\u001B[1;33m,\u001B[0m \u001B[1;33m**\u001B[0m\u001B[0mfit_params\u001B[0m\u001B[1;33m)\u001B[0m\u001B[1;33m\u001B[0m\u001B[0m\n\u001B[0m\u001B[0;32m    532\u001B[0m \u001B[1;33m\u001B[0m\u001B[0m\n\u001B[0;32m    533\u001B[0m     \u001B[1;32mexcept\u001B[0m \u001B[0mException\u001B[0m \u001B[1;32mas\u001B[0m \u001B[0me\u001B[0m\u001B[1;33m:\u001B[0m\u001B[1;33m\u001B[0m\u001B[0m\n",
      "\u001B[1;32mc:\\users\\ayhanak\\.conda\\envs\\dmprj\\lib\\site-packages\\keras\\wrappers\\scikit_learn.py\u001B[0m in \u001B[0;36mfit\u001B[1;34m(self, x, y, sample_weight, **kwargs)\u001B[0m\n\u001B[0;32m    207\u001B[0m         \u001B[1;32mif\u001B[0m \u001B[0msample_weight\u001B[0m \u001B[1;32mis\u001B[0m \u001B[1;32mnot\u001B[0m \u001B[1;32mNone\u001B[0m\u001B[1;33m:\u001B[0m\u001B[1;33m\u001B[0m\u001B[0m\n\u001B[0;32m    208\u001B[0m             \u001B[0mkwargs\u001B[0m\u001B[1;33m[\u001B[0m\u001B[1;34m'sample_weight'\u001B[0m\u001B[1;33m]\u001B[0m \u001B[1;33m=\u001B[0m \u001B[0msample_weight\u001B[0m\u001B[1;33m\u001B[0m\u001B[0m\n\u001B[1;32m--> 209\u001B[1;33m         \u001B[1;32mreturn\u001B[0m \u001B[0msuper\u001B[0m\u001B[1;33m(\u001B[0m\u001B[0mKerasClassifier\u001B[0m\u001B[1;33m,\u001B[0m \u001B[0mself\u001B[0m\u001B[1;33m)\u001B[0m\u001B[1;33m.\u001B[0m\u001B[0mfit\u001B[0m\u001B[1;33m(\u001B[0m\u001B[0mx\u001B[0m\u001B[1;33m,\u001B[0m \u001B[0my\u001B[0m\u001B[1;33m,\u001B[0m \u001B[1;33m**\u001B[0m\u001B[0mkwargs\u001B[0m\u001B[1;33m)\u001B[0m\u001B[1;33m\u001B[0m\u001B[0m\n\u001B[0m\u001B[0;32m    210\u001B[0m \u001B[1;33m\u001B[0m\u001B[0m\n\u001B[0;32m    211\u001B[0m     \u001B[1;32mdef\u001B[0m \u001B[0mpredict\u001B[0m\u001B[1;33m(\u001B[0m\u001B[0mself\u001B[0m\u001B[1;33m,\u001B[0m \u001B[0mx\u001B[0m\u001B[1;33m,\u001B[0m \u001B[1;33m**\u001B[0m\u001B[0mkwargs\u001B[0m\u001B[1;33m)\u001B[0m\u001B[1;33m:\u001B[0m\u001B[1;33m\u001B[0m\u001B[0m\n",
      "\u001B[1;32mc:\\users\\ayhanak\\.conda\\envs\\dmprj\\lib\\site-packages\\keras\\wrappers\\scikit_learn.py\u001B[0m in \u001B[0;36mfit\u001B[1;34m(self, x, y, **kwargs)\u001B[0m\n\u001B[0;32m    149\u001B[0m         \u001B[0mfit_args\u001B[0m\u001B[1;33m.\u001B[0m\u001B[0mupdate\u001B[0m\u001B[1;33m(\u001B[0m\u001B[0mkwargs\u001B[0m\u001B[1;33m)\u001B[0m\u001B[1;33m\u001B[0m\u001B[0m\n\u001B[0;32m    150\u001B[0m \u001B[1;33m\u001B[0m\u001B[0m\n\u001B[1;32m--> 151\u001B[1;33m         \u001B[0mhistory\u001B[0m \u001B[1;33m=\u001B[0m \u001B[0mself\u001B[0m\u001B[1;33m.\u001B[0m\u001B[0mmodel\u001B[0m\u001B[1;33m.\u001B[0m\u001B[0mfit\u001B[0m\u001B[1;33m(\u001B[0m\u001B[0mx\u001B[0m\u001B[1;33m,\u001B[0m \u001B[0my\u001B[0m\u001B[1;33m,\u001B[0m \u001B[1;33m**\u001B[0m\u001B[0mfit_args\u001B[0m\u001B[1;33m)\u001B[0m\u001B[1;33m\u001B[0m\u001B[0m\n\u001B[0m\u001B[0;32m    152\u001B[0m \u001B[1;33m\u001B[0m\u001B[0m\n\u001B[0;32m    153\u001B[0m         \u001B[1;32mreturn\u001B[0m \u001B[0mhistory\u001B[0m\u001B[1;33m\u001B[0m\u001B[0m\n",
      "\u001B[1;32mc:\\users\\ayhanak\\.conda\\envs\\dmprj\\lib\\site-packages\\keras\\engine\\training.py\u001B[0m in \u001B[0;36mfit\u001B[1;34m(self, x, y, batch_size, epochs, verbose, callbacks, validation_split, validation_data, shuffle, class_weight, sample_weight, initial_epoch, steps_per_epoch, validation_steps, validation_freq, max_queue_size, workers, use_multiprocessing, **kwargs)\u001B[0m\n\u001B[0;32m   1237\u001B[0m                                         \u001B[0msteps_per_epoch\u001B[0m\u001B[1;33m=\u001B[0m\u001B[0msteps_per_epoch\u001B[0m\u001B[1;33m,\u001B[0m\u001B[1;33m\u001B[0m\u001B[0m\n\u001B[0;32m   1238\u001B[0m                                         \u001B[0mvalidation_steps\u001B[0m\u001B[1;33m=\u001B[0m\u001B[0mvalidation_steps\u001B[0m\u001B[1;33m,\u001B[0m\u001B[1;33m\u001B[0m\u001B[0m\n\u001B[1;32m-> 1239\u001B[1;33m                                         validation_freq=validation_freq)\n\u001B[0m\u001B[0;32m   1240\u001B[0m \u001B[1;33m\u001B[0m\u001B[0m\n\u001B[0;32m   1241\u001B[0m     def evaluate(self,\n",
      "\u001B[1;32mc:\\users\\ayhanak\\.conda\\envs\\dmprj\\lib\\site-packages\\keras\\engine\\training_arrays.py\u001B[0m in \u001B[0;36mfit_loop\u001B[1;34m(model, fit_function, fit_inputs, out_labels, batch_size, epochs, verbose, callbacks, val_function, val_inputs, shuffle, initial_epoch, steps_per_epoch, validation_steps, validation_freq)\u001B[0m\n\u001B[0;32m    194\u001B[0m                     \u001B[0mins_batch\u001B[0m\u001B[1;33m[\u001B[0m\u001B[0mi\u001B[0m\u001B[1;33m]\u001B[0m \u001B[1;33m=\u001B[0m \u001B[0mins_batch\u001B[0m\u001B[1;33m[\u001B[0m\u001B[0mi\u001B[0m\u001B[1;33m]\u001B[0m\u001B[1;33m.\u001B[0m\u001B[0mtoarray\u001B[0m\u001B[1;33m(\u001B[0m\u001B[1;33m)\u001B[0m\u001B[1;33m\u001B[0m\u001B[0m\n\u001B[0;32m    195\u001B[0m \u001B[1;33m\u001B[0m\u001B[0m\n\u001B[1;32m--> 196\u001B[1;33m                 \u001B[0mouts\u001B[0m \u001B[1;33m=\u001B[0m \u001B[0mfit_function\u001B[0m\u001B[1;33m(\u001B[0m\u001B[0mins_batch\u001B[0m\u001B[1;33m)\u001B[0m\u001B[1;33m\u001B[0m\u001B[0m\n\u001B[0m\u001B[0;32m    197\u001B[0m                 \u001B[0mouts\u001B[0m \u001B[1;33m=\u001B[0m \u001B[0mto_list\u001B[0m\u001B[1;33m(\u001B[0m\u001B[0mouts\u001B[0m\u001B[1;33m)\u001B[0m\u001B[1;33m\u001B[0m\u001B[0m\n\u001B[0;32m    198\u001B[0m                 \u001B[1;32mfor\u001B[0m \u001B[0ml\u001B[0m\u001B[1;33m,\u001B[0m \u001B[0mo\u001B[0m \u001B[1;32min\u001B[0m \u001B[0mzip\u001B[0m\u001B[1;33m(\u001B[0m\u001B[0mout_labels\u001B[0m\u001B[1;33m,\u001B[0m \u001B[0mouts\u001B[0m\u001B[1;33m)\u001B[0m\u001B[1;33m:\u001B[0m\u001B[1;33m\u001B[0m\u001B[0m\n",
      "\u001B[1;32mc:\\users\\ayhanak\\.conda\\envs\\dmprj\\lib\\site-packages\\tensorflow_core\\python\\keras\\backend.py\u001B[0m in \u001B[0;36m__call__\u001B[1;34m(self, inputs)\u001B[0m\n\u001B[0;32m   3474\u001B[0m \u001B[1;33m\u001B[0m\u001B[0m\n\u001B[0;32m   3475\u001B[0m     fetched = self._callable_fn(*array_vals,\n\u001B[1;32m-> 3476\u001B[1;33m                                 run_metadata=self.run_metadata)\n\u001B[0m\u001B[0;32m   3477\u001B[0m     \u001B[0mself\u001B[0m\u001B[1;33m.\u001B[0m\u001B[0m_call_fetch_callbacks\u001B[0m\u001B[1;33m(\u001B[0m\u001B[0mfetched\u001B[0m\u001B[1;33m[\u001B[0m\u001B[1;33m-\u001B[0m\u001B[0mlen\u001B[0m\u001B[1;33m(\u001B[0m\u001B[0mself\u001B[0m\u001B[1;33m.\u001B[0m\u001B[0m_fetches\u001B[0m\u001B[1;33m)\u001B[0m\u001B[1;33m:\u001B[0m\u001B[1;33m]\u001B[0m\u001B[1;33m)\u001B[0m\u001B[1;33m\u001B[0m\u001B[0m\n\u001B[0;32m   3478\u001B[0m     output_structure = nest.pack_sequence_as(\n",
      "\u001B[1;32mc:\\users\\ayhanak\\.conda\\envs\\dmprj\\lib\\site-packages\\tensorflow_core\\python\\client\\session.py\u001B[0m in \u001B[0;36m__call__\u001B[1;34m(self, *args, **kwargs)\u001B[0m\n\u001B[0;32m   1470\u001B[0m         ret = tf_session.TF_SessionRunCallable(self._session._session,\n\u001B[0;32m   1471\u001B[0m                                                \u001B[0mself\u001B[0m\u001B[1;33m.\u001B[0m\u001B[0m_handle\u001B[0m\u001B[1;33m,\u001B[0m \u001B[0margs\u001B[0m\u001B[1;33m,\u001B[0m\u001B[1;33m\u001B[0m\u001B[0m\n\u001B[1;32m-> 1472\u001B[1;33m                                                run_metadata_ptr)\n\u001B[0m\u001B[0;32m   1473\u001B[0m         \u001B[1;32mif\u001B[0m \u001B[0mrun_metadata\u001B[0m\u001B[1;33m:\u001B[0m\u001B[1;33m\u001B[0m\u001B[0m\n\u001B[0;32m   1474\u001B[0m           \u001B[0mproto_data\u001B[0m \u001B[1;33m=\u001B[0m \u001B[0mtf_session\u001B[0m\u001B[1;33m.\u001B[0m\u001B[0mTF_GetBuffer\u001B[0m\u001B[1;33m(\u001B[0m\u001B[0mrun_metadata_ptr\u001B[0m\u001B[1;33m)\u001B[0m\u001B[1;33m\u001B[0m\u001B[0m\n",
      "\u001B[1;31mKeyboardInterrupt\u001B[0m: "
     ]
    }
   ],
   "source": [
    "import numpy as np\n",
    "from sklearn.model_selection import GridSearchCV\n",
    "from keras.models import Sequential\n",
    "from keras.layers import Dense\n",
    "from keras.wrappers.scikit_learn import KerasClassifier\n",
    "\n",
    "N = 3\n",
    "X_train = X_train\n",
    "Y_train = y_train\n",
    "\n",
    "# Function to create model, required for KerasClassifier\n",
    "def create_model(optimizer='rmsprop', init='glorot_uniform'):\n",
    "    # create model\n",
    "    model = Sequential()\n",
    "    model.add(Dense(2048, input_dim=X_train.shape[1], kernel_initializer=init, activation='relu'))\n",
    "    model.add(Dense(512, kernel_initializer=init, activation='relu'))\n",
    "    model.add(Dense(len(np.unique(Y_train)), kernel_initializer=init, activation='softmax'))\n",
    "    # Compile model\n",
    "    model.compile(loss='sparse_categorical_crossentropy', optimizer=optimizer, metrics=['sparse_categorical_accuracy'])\n",
    "    return model\n",
    "\n",
    "# create model\n",
    "model = KerasClassifier(build_fn=create_model, class_weight=\"balanced\", verbose=2)\n",
    "\n",
    "# grid search epochs, batch size and optimizer\n",
    "optimizers = ['rmsprop', 'adam']\n",
    "epochs = [10, 50]\n",
    "batches = [5, 10, 20]\n",
    "epochs = [10]\n",
    "batches = [20]\n",
    "init = ['glorot_uniform', 'normal', 'uniform']\n",
    "\n",
    "param_grid = dict(optimizer=optimizers, epochs=epochs, batch_size=batches, init=init)\n",
    "grid = GridSearchCV(estimator=model, param_grid=param_grid, scoring='accuracy')\n",
    "\n",
    "grid_result = grid.fit(X_train, Y_train)\n"
   ],
   "metadata": {
    "collapsed": false,
    "pycharm": {
     "name": "#%%\n"
    }
   }
  }
 ],
 "metadata": {
  "kernelspec": {
   "display_name": "Python 3",
   "language": "python",
   "name": "python3"
  },
  "language_info": {
   "codemirror_mode": {
    "name": "ipython",
    "version": 3
   },
   "file_extension": ".py",
   "mimetype": "text/x-python",
   "name": "python",
   "nbconvert_exporter": "python",
   "pygments_lexer": "ipython3",
   "version": "3.6.5"
  }
 },
 "nbformat": 4,
 "nbformat_minor": 1
}